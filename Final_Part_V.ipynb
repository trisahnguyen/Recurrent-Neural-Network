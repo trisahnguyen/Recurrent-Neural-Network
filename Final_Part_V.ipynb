{
 "cells": [
  {
   "cell_type": "markdown",
   "id": "a5d6d37f",
   "metadata": {},
   "source": [
    "#### Trisa Nguyen\n",
    "#### October 17, 2022\n",
    "#### ADTA 5560"
   ]
  },
  {
   "cell_type": "markdown",
   "id": "e95e5929",
   "metadata": {},
   "source": [
    "# Final Project Part V (Redesign)"
   ]
  },
  {
   "cell_type": "markdown",
   "id": "ef2a32b1",
   "metadata": {},
   "source": [
    "### PART I: Build, Train, and Test an LSTM with Time Series Data"
   ]
  },
  {
   "cell_type": "markdown",
   "id": "16360d3d",
   "metadata": {},
   "source": [
    "### Import libraries"
   ]
  },
  {
   "cell_type": "code",
   "execution_count": 1,
   "id": "50c97d3f",
   "metadata": {},
   "outputs": [],
   "source": [
    "# Basic libraries\n",
    "\n",
    "import pandas as pd\n",
    "import numpy as np\n",
    "import matplotlib.pyplot as plt\n",
    "%matplotlib inline"
   ]
  },
  {
   "cell_type": "code",
   "execution_count": 2,
   "id": "9830e9c9",
   "metadata": {},
   "outputs": [],
   "source": [
    "# Time series RNN LSTM\n",
    "\n",
    "from tensorflow.keras.models import Sequential\n",
    "from tensorflow.keras.layers import LSTM\n",
    "from tensorflow.keras.layers import Dropout\n",
    "from tensorflow.keras.layers import Dense"
   ]
  },
  {
   "cell_type": "code",
   "execution_count": 3,
   "id": "d5c96c92",
   "metadata": {},
   "outputs": [],
   "source": [
    "# Keras:TimeseriesGenerator\n",
    "\n",
    "# This class produces time series batches used on training/testing the model\n",
    "from tensorflow.keras.preprocessing.sequence import TimeseriesGenerator\n",
    "\n",
    "# Keras: MinMaxScaler\n",
    "#This class is used to preprocess (scale) the data\n",
    "from sklearn.preprocessing import MinMaxScaler"
   ]
  },
  {
   "cell_type": "markdown",
   "id": "d8f50d99",
   "metadata": {},
   "source": [
    "### Import Dataset: "
   ]
  },
  {
   "cell_type": "code",
   "execution_count": 4,
   "id": "b471c7ad",
   "metadata": {},
   "outputs": [],
   "source": [
    "dir_path_dataset_1 = 'DELHI_01013_123116.csv'"
   ]
  },
  {
   "cell_type": "markdown",
   "id": "ee7ce5b9",
   "metadata": {},
   "source": [
    "### Load Dataset"
   ]
  },
  {
   "cell_type": "code",
   "execution_count": 5,
   "id": "eab49714",
   "metadata": {},
   "outputs": [],
   "source": [
    "df_ALL = pd.read_csv(dir_path_dataset_1)"
   ]
  },
  {
   "cell_type": "code",
   "execution_count": 6,
   "id": "89f83444",
   "metadata": {},
   "outputs": [
    {
     "data": {
      "text/html": [
       "<div>\n",
       "<style scoped>\n",
       "    .dataframe tbody tr th:only-of-type {\n",
       "        vertical-align: middle;\n",
       "    }\n",
       "\n",
       "    .dataframe tbody tr th {\n",
       "        vertical-align: top;\n",
       "    }\n",
       "\n",
       "    .dataframe thead th {\n",
       "        text-align: right;\n",
       "    }\n",
       "</style>\n",
       "<table border=\"1\" class=\"dataframe\">\n",
       "  <thead>\n",
       "    <tr style=\"text-align: right;\">\n",
       "      <th></th>\n",
       "      <th>date</th>\n",
       "      <th>meantemp</th>\n",
       "      <th>humidity</th>\n",
       "      <th>wind_speed</th>\n",
       "      <th>meanpressure</th>\n",
       "    </tr>\n",
       "  </thead>\n",
       "  <tbody>\n",
       "    <tr>\n",
       "      <th>0</th>\n",
       "      <td>2013-01-01</td>\n",
       "      <td>10.000000</td>\n",
       "      <td>84.500000</td>\n",
       "      <td>0.000000</td>\n",
       "      <td>1015.666667</td>\n",
       "    </tr>\n",
       "    <tr>\n",
       "      <th>1</th>\n",
       "      <td>2013-01-02</td>\n",
       "      <td>7.400000</td>\n",
       "      <td>92.000000</td>\n",
       "      <td>2.980000</td>\n",
       "      <td>1017.800000</td>\n",
       "    </tr>\n",
       "    <tr>\n",
       "      <th>2</th>\n",
       "      <td>2013-01-03</td>\n",
       "      <td>7.166667</td>\n",
       "      <td>87.000000</td>\n",
       "      <td>4.633333</td>\n",
       "      <td>1018.666667</td>\n",
       "    </tr>\n",
       "    <tr>\n",
       "      <th>3</th>\n",
       "      <td>2013-01-04</td>\n",
       "      <td>8.666667</td>\n",
       "      <td>71.333333</td>\n",
       "      <td>1.233333</td>\n",
       "      <td>1017.166667</td>\n",
       "    </tr>\n",
       "    <tr>\n",
       "      <th>4</th>\n",
       "      <td>2013-01-05</td>\n",
       "      <td>6.000000</td>\n",
       "      <td>86.833333</td>\n",
       "      <td>3.700000</td>\n",
       "      <td>1016.500000</td>\n",
       "    </tr>\n",
       "  </tbody>\n",
       "</table>\n",
       "</div>"
      ],
      "text/plain": [
       "         date   meantemp   humidity  wind_speed  meanpressure\n",
       "0  2013-01-01  10.000000  84.500000    0.000000   1015.666667\n",
       "1  2013-01-02   7.400000  92.000000    2.980000   1017.800000\n",
       "2  2013-01-03   7.166667  87.000000    4.633333   1018.666667\n",
       "3  2013-01-04   8.666667  71.333333    1.233333   1017.166667\n",
       "4  2013-01-05   6.000000  86.833333    3.700000   1016.500000"
      ]
     },
     "execution_count": 6,
     "metadata": {},
     "output_type": "execute_result"
    }
   ],
   "source": [
    "df_ALL.head()"
   ]
  },
  {
   "cell_type": "markdown",
   "id": "fde8c756",
   "metadata": {},
   "source": [
    "### Exploratory Data Analysis"
   ]
  },
  {
   "cell_type": "code",
   "execution_count": 7,
   "id": "689affdc",
   "metadata": {},
   "outputs": [
    {
     "data": {
      "text/plain": [
       "(1462, 5)"
      ]
     },
     "execution_count": 7,
     "metadata": {},
     "output_type": "execute_result"
    }
   ],
   "source": [
    "df_ALL.shape"
   ]
  },
  {
   "cell_type": "code",
   "execution_count": 8,
   "id": "6acaf004",
   "metadata": {},
   "outputs": [
    {
     "data": {
      "text/plain": [
       "date             object\n",
       "meantemp        float64\n",
       "humidity        float64\n",
       "wind_speed      float64\n",
       "meanpressure    float64\n",
       "dtype: object"
      ]
     },
     "execution_count": 8,
     "metadata": {},
     "output_type": "execute_result"
    }
   ],
   "source": [
    "df_ALL.dtypes"
   ]
  },
  {
   "cell_type": "code",
   "execution_count": 9,
   "id": "b738265b",
   "metadata": {},
   "outputs": [
    {
     "data": {
      "text/html": [
       "<div>\n",
       "<style scoped>\n",
       "    .dataframe tbody tr th:only-of-type {\n",
       "        vertical-align: middle;\n",
       "    }\n",
       "\n",
       "    .dataframe tbody tr th {\n",
       "        vertical-align: top;\n",
       "    }\n",
       "\n",
       "    .dataframe thead th {\n",
       "        text-align: right;\n",
       "    }\n",
       "</style>\n",
       "<table border=\"1\" class=\"dataframe\">\n",
       "  <thead>\n",
       "    <tr style=\"text-align: right;\">\n",
       "      <th></th>\n",
       "      <th>meantemp</th>\n",
       "      <th>humidity</th>\n",
       "      <th>wind_speed</th>\n",
       "      <th>meanpressure</th>\n",
       "    </tr>\n",
       "  </thead>\n",
       "  <tbody>\n",
       "    <tr>\n",
       "      <th>count</th>\n",
       "      <td>1462.000000</td>\n",
       "      <td>1462.000000</td>\n",
       "      <td>1462.000000</td>\n",
       "      <td>1462.000000</td>\n",
       "    </tr>\n",
       "    <tr>\n",
       "      <th>mean</th>\n",
       "      <td>25.495521</td>\n",
       "      <td>60.771702</td>\n",
       "      <td>6.802209</td>\n",
       "      <td>1011.104548</td>\n",
       "    </tr>\n",
       "    <tr>\n",
       "      <th>std</th>\n",
       "      <td>7.348103</td>\n",
       "      <td>16.769652</td>\n",
       "      <td>4.561602</td>\n",
       "      <td>180.231668</td>\n",
       "    </tr>\n",
       "    <tr>\n",
       "      <th>min</th>\n",
       "      <td>6.000000</td>\n",
       "      <td>13.428571</td>\n",
       "      <td>0.000000</td>\n",
       "      <td>-3.041667</td>\n",
       "    </tr>\n",
       "    <tr>\n",
       "      <th>25%</th>\n",
       "      <td>18.857143</td>\n",
       "      <td>50.375000</td>\n",
       "      <td>3.475000</td>\n",
       "      <td>1001.580357</td>\n",
       "    </tr>\n",
       "    <tr>\n",
       "      <th>50%</th>\n",
       "      <td>27.714286</td>\n",
       "      <td>62.625000</td>\n",
       "      <td>6.221667</td>\n",
       "      <td>1008.563492</td>\n",
       "    </tr>\n",
       "    <tr>\n",
       "      <th>75%</th>\n",
       "      <td>31.305804</td>\n",
       "      <td>72.218750</td>\n",
       "      <td>9.238235</td>\n",
       "      <td>1014.944901</td>\n",
       "    </tr>\n",
       "    <tr>\n",
       "      <th>max</th>\n",
       "      <td>38.714286</td>\n",
       "      <td>100.000000</td>\n",
       "      <td>42.220000</td>\n",
       "      <td>7679.333333</td>\n",
       "    </tr>\n",
       "  </tbody>\n",
       "</table>\n",
       "</div>"
      ],
      "text/plain": [
       "          meantemp     humidity   wind_speed  meanpressure\n",
       "count  1462.000000  1462.000000  1462.000000   1462.000000\n",
       "mean     25.495521    60.771702     6.802209   1011.104548\n",
       "std       7.348103    16.769652     4.561602    180.231668\n",
       "min       6.000000    13.428571     0.000000     -3.041667\n",
       "25%      18.857143    50.375000     3.475000   1001.580357\n",
       "50%      27.714286    62.625000     6.221667   1008.563492\n",
       "75%      31.305804    72.218750     9.238235   1014.944901\n",
       "max      38.714286   100.000000    42.220000   7679.333333"
      ]
     },
     "execution_count": 9,
     "metadata": {},
     "output_type": "execute_result"
    }
   ],
   "source": [
    "# Summary statistics\n",
    "\n",
    "df_ALL.describe()"
   ]
  },
  {
   "cell_type": "markdown",
   "id": "4d4cb571",
   "metadata": {},
   "source": [
    "#### Keep Only \"Close\" (for closing price) and Filter Out All Other Attributes\n",
    "##### Note: The research focuses only on the closing price"
   ]
  },
  {
   "cell_type": "code",
   "execution_count": 10,
   "id": "9f47c106",
   "metadata": {},
   "outputs": [],
   "source": [
    "df = df_ALL.iloc[:,1:2]"
   ]
  },
  {
   "cell_type": "code",
   "execution_count": 11,
   "id": "f711226c",
   "metadata": {},
   "outputs": [
    {
     "data": {
      "text/html": [
       "<div>\n",
       "<style scoped>\n",
       "    .dataframe tbody tr th:only-of-type {\n",
       "        vertical-align: middle;\n",
       "    }\n",
       "\n",
       "    .dataframe tbody tr th {\n",
       "        vertical-align: top;\n",
       "    }\n",
       "\n",
       "    .dataframe thead th {\n",
       "        text-align: right;\n",
       "    }\n",
       "</style>\n",
       "<table border=\"1\" class=\"dataframe\">\n",
       "  <thead>\n",
       "    <tr style=\"text-align: right;\">\n",
       "      <th></th>\n",
       "      <th>meantemp</th>\n",
       "    </tr>\n",
       "  </thead>\n",
       "  <tbody>\n",
       "    <tr>\n",
       "      <th>0</th>\n",
       "      <td>10.000000</td>\n",
       "    </tr>\n",
       "    <tr>\n",
       "      <th>1</th>\n",
       "      <td>7.400000</td>\n",
       "    </tr>\n",
       "    <tr>\n",
       "      <th>2</th>\n",
       "      <td>7.166667</td>\n",
       "    </tr>\n",
       "    <tr>\n",
       "      <th>3</th>\n",
       "      <td>8.666667</td>\n",
       "    </tr>\n",
       "    <tr>\n",
       "      <th>4</th>\n",
       "      <td>6.000000</td>\n",
       "    </tr>\n",
       "  </tbody>\n",
       "</table>\n",
       "</div>"
      ],
      "text/plain": [
       "    meantemp\n",
       "0  10.000000\n",
       "1   7.400000\n",
       "2   7.166667\n",
       "3   8.666667\n",
       "4   6.000000"
      ]
     },
     "execution_count": 11,
     "metadata": {},
     "output_type": "execute_result"
    }
   ],
   "source": [
    "df.head()"
   ]
  },
  {
   "cell_type": "code",
   "execution_count": 12,
   "id": "400f9d90",
   "metadata": {},
   "outputs": [
    {
     "data": {
      "text/plain": [
       "<AxesSubplot:>"
      ]
     },
     "execution_count": 12,
     "metadata": {},
     "output_type": "execute_result"
    },
    {
     "data": {
      "image/png": "[encoded data removed]",
      "text/plain": [
       "<Figure size 864x576 with 1 Axes>"
      ]
     },
     "metadata": {
      "needs_background": "light"
     },
     "output_type": "display_data"
    }
   ],
   "source": [
    "df.plot(figsize=(12, 8))"
   ]
  },
  {
   "cell_type": "markdown",
   "id": "c655eefb",
   "metadata": {},
   "source": [
    "#### Length of Input Time Series - Number of Input Time Steps"
   ]
  },
  {
   "cell_type": "code",
   "execution_count": 13,
   "id": "0b56fd55",
   "metadata": {},
   "outputs": [],
   "source": [
    "# Set the length of the input sequence\n",
    "# I.e the number of time series steps that are used to predict the future one\n",
    "# Currently use 60 historical data points to predict the next one\n",
    "# It means that 60 consecutive closing prices will be used to predict the next one.\n",
    "\n",
    "length60 = 60"
   ]
  },
  {
   "cell_type": "code",
   "execution_count": 14,
   "id": "8e1da87f",
   "metadata": {},
   "outputs": [
    {
     "data": {
      "text/plain": [
       "60"
      ]
     },
     "execution_count": 14,
     "metadata": {},
     "output_type": "execute_result"
    }
   ],
   "source": [
    "length60"
   ]
  },
  {
   "cell_type": "markdown",
   "id": "6716c338",
   "metadata": {},
   "source": [
    "### Time Series Dataset: Train/test split"
   ]
  },
  {
   "cell_type": "code",
   "execution_count": 15,
   "id": "3df1d84b",
   "metadata": {},
   "outputs": [
    {
     "data": {
      "text/plain": [
       "1462"
      ]
     },
     "execution_count": 15,
     "metadata": {},
     "output_type": "execute_result"
    }
   ],
   "source": [
    "len(df)"
   ]
  },
  {
   "cell_type": "code",
   "execution_count": 16,
   "id": "1d1ed025",
   "metadata": {},
   "outputs": [],
   "source": [
    "# set percentage of data used for testing\n",
    "\n",
    "test_percent = 0.1"
   ]
  },
  {
   "cell_type": "code",
   "execution_count": 17,
   "id": "c9a790e4",
   "metadata": {},
   "outputs": [
    {
     "data": {
      "text/plain": [
       "146.20000000000002"
      ]
     },
     "execution_count": 17,
     "metadata": {},
     "output_type": "execute_result"
    }
   ],
   "source": [
    "# Number of data points reserved for testing the model\n",
    "# 20% of the orignal dataset\n",
    "\n",
    "len(df)*test_percent"
   ]
  },
  {
   "cell_type": "markdown",
   "id": "26654203",
   "metadata": {},
   "source": [
    "#### Split data into Train/Test"
   ]
  },
  {
   "cell_type": "code",
   "execution_count": 18,
   "id": "4061e4f5",
   "metadata": {},
   "outputs": [
    {
     "data": {
      "text/plain": [
       "146.0"
      ]
     },
     "execution_count": 18,
     "metadata": {},
     "output_type": "execute_result"
    }
   ],
   "source": [
    "# Need to find the length (number of data points) of the testing dataset\n",
    "# It has been fond(above) that around 146 data points are used for testing\n",
    "\n",
    "test_length = np.round(len(df)*test_percent)\n",
    "\n",
    "test_length"
   ]
  },
  {
   "cell_type": "code",
   "execution_count": 19,
   "id": "58595c4f",
   "metadata": {},
   "outputs": [
    {
     "data": {
      "text/plain": [
       "1316"
      ]
     },
     "execution_count": 19,
     "metadata": {},
     "output_type": "execute_result"
    }
   ],
   "source": [
    "# The testing data set starts at this index\n",
    "\n",
    "# test_start_index = int(len(df)- test_length)\n",
    "split_index = int(len(df) - test_length)\n",
    "\n",
    "split_index"
   ]
  },
  {
   "cell_type": "code",
   "execution_count": 20,
   "id": "7ab294e4",
   "metadata": {},
   "outputs": [],
   "source": [
    "# Create separate training / testing dataset\n",
    "\n",
    "# Training dataset: All the indices from start to split_index\n",
    "# Excluding split_index\n",
    "data_train = df.iloc[:split_index]\n",
    "\n",
    "# Testing dataset: All the indices from (split_index - length60) to the end of the dataframe\n",
    "# Split_index - length60 needs the last 60 historical data points (belong to data_train)\n",
    "# to predict the first data point of data_test\n",
    "data_test = df.iloc[split_index - length60:]"
   ]
  },
  {
   "cell_type": "code",
   "execution_count": 21,
   "id": "a4c490b4",
   "metadata": {},
   "outputs": [
    {
     "data": {
      "text/html": [
       "<div>\n",
       "<style scoped>\n",
       "    .dataframe tbody tr th:only-of-type {\n",
       "        vertical-align: middle;\n",
       "    }\n",
       "\n",
       "    .dataframe tbody tr th {\n",
       "        vertical-align: top;\n",
       "    }\n",
       "\n",
       "    .dataframe thead th {\n",
       "        text-align: right;\n",
       "    }\n",
       "</style>\n",
       "<table border=\"1\" class=\"dataframe\">\n",
       "  <thead>\n",
       "    <tr style=\"text-align: right;\">\n",
       "      <th></th>\n",
       "      <th>meantemp</th>\n",
       "    </tr>\n",
       "  </thead>\n",
       "  <tbody>\n",
       "    <tr>\n",
       "      <th>0</th>\n",
       "      <td>10.000000</td>\n",
       "    </tr>\n",
       "    <tr>\n",
       "      <th>1</th>\n",
       "      <td>7.400000</td>\n",
       "    </tr>\n",
       "    <tr>\n",
       "      <th>2</th>\n",
       "      <td>7.166667</td>\n",
       "    </tr>\n",
       "    <tr>\n",
       "      <th>3</th>\n",
       "      <td>8.666667</td>\n",
       "    </tr>\n",
       "    <tr>\n",
       "      <th>4</th>\n",
       "      <td>6.000000</td>\n",
       "    </tr>\n",
       "  </tbody>\n",
       "</table>\n",
       "</div>"
      ],
      "text/plain": [
       "    meantemp\n",
       "0  10.000000\n",
       "1   7.400000\n",
       "2   7.166667\n",
       "3   8.666667\n",
       "4   6.000000"
      ]
     },
     "execution_count": 21,
     "metadata": {},
     "output_type": "execute_result"
    }
   ],
   "source": [
    "data_train.head(5)"
   ]
  },
  {
   "cell_type": "code",
   "execution_count": 22,
   "id": "2abad7e7",
   "metadata": {},
   "outputs": [
    {
     "data": {
      "text/html": [
       "<div>\n",
       "<style scoped>\n",
       "    .dataframe tbody tr th:only-of-type {\n",
       "        vertical-align: middle;\n",
       "    }\n",
       "\n",
       "    .dataframe tbody tr th {\n",
       "        vertical-align: top;\n",
       "    }\n",
       "\n",
       "    .dataframe thead th {\n",
       "        text-align: right;\n",
       "    }\n",
       "</style>\n",
       "<table border=\"1\" class=\"dataframe\">\n",
       "  <thead>\n",
       "    <tr style=\"text-align: right;\">\n",
       "      <th></th>\n",
       "      <th>meantemp</th>\n",
       "    </tr>\n",
       "  </thead>\n",
       "  <tbody>\n",
       "    <tr>\n",
       "      <th>1311</th>\n",
       "      <td>33.111111</td>\n",
       "    </tr>\n",
       "    <tr>\n",
       "      <th>1312</th>\n",
       "      <td>33.800000</td>\n",
       "    </tr>\n",
       "    <tr>\n",
       "      <th>1313</th>\n",
       "      <td>30.066667</td>\n",
       "    </tr>\n",
       "    <tr>\n",
       "      <th>1314</th>\n",
       "      <td>33.117647</td>\n",
       "    </tr>\n",
       "    <tr>\n",
       "      <th>1315</th>\n",
       "      <td>33.809524</td>\n",
       "    </tr>\n",
       "  </tbody>\n",
       "</table>\n",
       "</div>"
      ],
      "text/plain": [
       "       meantemp\n",
       "1311  33.111111\n",
       "1312  33.800000\n",
       "1313  30.066667\n",
       "1314  33.117647\n",
       "1315  33.809524"
      ]
     },
     "execution_count": 22,
     "metadata": {},
     "output_type": "execute_result"
    }
   ],
   "source": [
    "data_train.tail(5)"
   ]
  },
  {
   "cell_type": "code",
   "execution_count": 23,
   "id": "7853232a",
   "metadata": {},
   "outputs": [
    {
     "data": {
      "text/html": [
       "<div>\n",
       "<style scoped>\n",
       "    .dataframe tbody tr th:only-of-type {\n",
       "        vertical-align: middle;\n",
       "    }\n",
       "\n",
       "    .dataframe tbody tr th {\n",
       "        vertical-align: top;\n",
       "    }\n",
       "\n",
       "    .dataframe thead th {\n",
       "        text-align: right;\n",
       "    }\n",
       "</style>\n",
       "<table border=\"1\" class=\"dataframe\">\n",
       "  <thead>\n",
       "    <tr style=\"text-align: right;\">\n",
       "      <th></th>\n",
       "      <th>meantemp</th>\n",
       "    </tr>\n",
       "  </thead>\n",
       "  <tbody>\n",
       "    <tr>\n",
       "      <th>1256</th>\n",
       "      <td>36.133333</td>\n",
       "    </tr>\n",
       "    <tr>\n",
       "      <th>1257</th>\n",
       "      <td>33.437500</td>\n",
       "    </tr>\n",
       "    <tr>\n",
       "      <th>1258</th>\n",
       "      <td>35.500000</td>\n",
       "    </tr>\n",
       "    <tr>\n",
       "      <th>1259</th>\n",
       "      <td>36.000000</td>\n",
       "    </tr>\n",
       "    <tr>\n",
       "      <th>1260</th>\n",
       "      <td>32.625000</td>\n",
       "    </tr>\n",
       "  </tbody>\n",
       "</table>\n",
       "</div>"
      ],
      "text/plain": [
       "       meantemp\n",
       "1256  36.133333\n",
       "1257  33.437500\n",
       "1258  35.500000\n",
       "1259  36.000000\n",
       "1260  32.625000"
      ]
     },
     "execution_count": 23,
     "metadata": {},
     "output_type": "execute_result"
    }
   ],
   "source": [
    "data_test.head(5)"
   ]
  },
  {
   "cell_type": "code",
   "execution_count": 24,
   "id": "ca258572",
   "metadata": {},
   "outputs": [
    {
     "data": {
      "text/html": [
       "<div>\n",
       "<style scoped>\n",
       "    .dataframe tbody tr th:only-of-type {\n",
       "        vertical-align: middle;\n",
       "    }\n",
       "\n",
       "    .dataframe tbody tr th {\n",
       "        vertical-align: top;\n",
       "    }\n",
       "\n",
       "    .dataframe thead th {\n",
       "        text-align: right;\n",
       "    }\n",
       "</style>\n",
       "<table border=\"1\" class=\"dataframe\">\n",
       "  <thead>\n",
       "    <tr style=\"text-align: right;\">\n",
       "      <th></th>\n",
       "      <th>meantemp</th>\n",
       "    </tr>\n",
       "  </thead>\n",
       "  <tbody>\n",
       "    <tr>\n",
       "      <th>1457</th>\n",
       "      <td>17.217391</td>\n",
       "    </tr>\n",
       "    <tr>\n",
       "      <th>1458</th>\n",
       "      <td>15.238095</td>\n",
       "    </tr>\n",
       "    <tr>\n",
       "      <th>1459</th>\n",
       "      <td>14.095238</td>\n",
       "    </tr>\n",
       "    <tr>\n",
       "      <th>1460</th>\n",
       "      <td>15.052632</td>\n",
       "    </tr>\n",
       "    <tr>\n",
       "      <th>1461</th>\n",
       "      <td>10.000000</td>\n",
       "    </tr>\n",
       "  </tbody>\n",
       "</table>\n",
       "</div>"
      ],
      "text/plain": [
       "       meantemp\n",
       "1457  17.217391\n",
       "1458  15.238095\n",
       "1459  14.095238\n",
       "1460  15.052632\n",
       "1461  10.000000"
      ]
     },
     "execution_count": 24,
     "metadata": {},
     "output_type": "execute_result"
    }
   ],
   "source": [
    "data_test.tail(5)"
   ]
  },
  {
   "cell_type": "markdown",
   "id": "75d26258",
   "metadata": {},
   "source": [
    "### Normalize Data (Scale it into the range [0,1])"
   ]
  },
  {
   "cell_type": "code",
   "execution_count": 25,
   "id": "159b4bcd",
   "metadata": {},
   "outputs": [],
   "source": [
    "# Create a MinMaxScaler to normalize the data\n",
    "scaler = MinMaxScaler()"
   ]
  },
  {
   "cell_type": "code",
   "execution_count": 26,
   "id": "1c831754",
   "metadata": {},
   "outputs": [
    {
     "data": {
      "text/plain": [
       "MinMaxScaler()"
      ]
     },
     "execution_count": 26,
     "metadata": {},
     "output_type": "execute_result"
    }
   ],
   "source": [
    "# Ignore the warning: Just convert the data to floats\n",
    "# Only scale the training data - Do not scale testing data\n",
    "\n",
    "# Train the scaler to perform the normalization\n",
    "scaler.fit(data_train)"
   ]
  },
  {
   "cell_type": "code",
   "execution_count": 27,
   "id": "f9a781ca",
   "metadata": {},
   "outputs": [],
   "source": [
    "# Normalize the training dataset\n",
    "normalized_train = scaler.transform(data_train)\n",
    "\n",
    "# Normal;ize the testing dataset\n",
    "normalized_test = scaler.transform(data_test)"
   ]
  },
  {
   "cell_type": "markdown",
   "id": "dccdfb41",
   "metadata": {},
   "source": [
    "### Create TimeseriesGenerator for Training"
   ]
  },
  {
   "cell_type": "code",
   "execution_count": 73,
   "id": "d708ef03",
   "metadata": {},
   "outputs": [],
   "source": [
    "# TimeseriesGenerator: Generate time series batches for training/testing\n",
    "\n",
    "# Set the length of the input sequence as above\n",
    "# length60\n",
    "\n",
    "# batch_size:Number of time series samples in each batch\n",
    "# Sample: A single time series input that has 60 historical data points\n",
    "batch_size32 = 32\n",
    "\n",
    "# Create a TimeseriesGenerator for training: Train_tsGenerator\n",
    "# This time series generator produces time series batches used to train the mode\n",
    "# TimeseriesGenerator (input, outputs, length, batch_size)\n",
    "# Normally: Inputs & outputs are the same dataset during training &testing/vaidation\n",
    "\n",
    "train_tsGenerator60 = TimeseriesGenerator(normalized_train, normalized_train, length=length60, batch_size=batch_size32)"
   ]
  },
  {
   "cell_type": "code",
   "execution_count": 74,
   "id": "7a6f616f",
   "metadata": {},
   "outputs": [
    {
     "data": {
      "text/plain": [
       "1316"
      ]
     },
     "execution_count": 74,
     "metadata": {},
     "output_type": "execute_result"
    }
   ],
   "source": [
    "len(normalized_train)"
   ]
  },
  {
   "cell_type": "code",
   "execution_count": 75,
   "id": "e7de2797",
   "metadata": {},
   "outputs": [
    {
     "data": {
      "text/plain": [
       "40"
      ]
     },
     "execution_count": 75,
     "metadata": {},
     "output_type": "execute_result"
    }
   ],
   "source": [
    "len(train_tsGenerator60)"
   ]
  },
  {
   "cell_type": "code",
   "execution_count": 76,
   "id": "f6c55206",
   "metadata": {},
   "outputs": [],
   "source": [
    "# What does the first batch look like?\n",
    "x,y = train_tsGenerator60[0]"
   ]
  },
  {
   "cell_type": "code",
   "execution_count": 77,
   "id": "b22c8bd4",
   "metadata": {},
   "outputs": [
    {
     "name": "stdout",
     "output_type": "stream",
     "text": [
      "[[[0.12227074]\n",
      "  [0.04279476]\n",
      "  [0.0356623 ]\n",
      "  ...\n",
      "  [0.45240175]\n",
      "  [0.41048035]\n",
      "  [0.34643377]]\n",
      "\n",
      " [[0.04279476]\n",
      "  [0.0356623 ]\n",
      "  [0.08151383]\n",
      "  ...\n",
      "  [0.41048035]\n",
      "  [0.34643377]\n",
      "  [0.39737991]]\n",
      "\n",
      " [[0.0356623 ]\n",
      "  [0.08151383]\n",
      "  [0.        ]\n",
      "  ...\n",
      "  [0.34643377]\n",
      "  [0.39737991]\n",
      "  [0.40756914]]\n",
      "\n",
      " ...\n",
      "\n",
      " [[0.26637555]\n",
      "  [0.31179039]\n",
      "  [0.30567686]\n",
      "  ...\n",
      "  [0.50218341]\n",
      "  [0.46615721]\n",
      "  [0.5349345 ]]\n",
      "\n",
      " [[0.31179039]\n",
      "  [0.30567686]\n",
      "  [0.31441048]\n",
      "  ...\n",
      "  [0.46615721]\n",
      "  [0.5349345 ]\n",
      "  [0.52576419]]\n",
      "\n",
      " [[0.30567686]\n",
      "  [0.31441048]\n",
      "  [0.36681223]\n",
      "  ...\n",
      "  [0.5349345 ]\n",
      "  [0.52576419]\n",
      "  [0.59224891]]]\n"
     ]
    }
   ],
   "source": [
    "print(x)"
   ]
  },
  {
   "cell_type": "code",
   "execution_count": 78,
   "id": "2d7d196a",
   "metadata": {},
   "outputs": [
    {
     "name": "stdout",
     "output_type": "stream",
     "text": [
      "[[0.39737991]\n",
      " [0.40756914]\n",
      " [0.35458515]\n",
      " [0.45469432]\n",
      " [0.45414847]\n",
      " [0.53275109]\n",
      " [0.55531295]\n",
      " [0.59388646]\n",
      " [0.52401747]\n",
      " [0.55021834]\n",
      " [0.5349345 ]\n",
      " [0.47379913]\n",
      " [0.4992722 ]\n",
      " [0.55531295]\n",
      " [0.43813683]\n",
      " [0.50946143]\n",
      " [0.53275109]\n",
      " [0.50436681]\n",
      " [0.70815138]\n",
      " [0.54512373]\n",
      " [0.58842795]\n",
      " [0.65338428]\n",
      " [0.6419214 ]\n",
      " [0.5349345 ]\n",
      " [0.55458515]\n",
      " [0.45851528]\n",
      " [0.50218341]\n",
      " [0.46615721]\n",
      " [0.5349345 ]\n",
      " [0.52576419]\n",
      " [0.59224891]\n",
      " [0.58588064]]\n"
     ]
    }
   ],
   "source": [
    "print(y)"
   ]
  },
  {
   "cell_type": "markdown",
   "id": "6434ffb5",
   "metadata": {},
   "source": [
    "## Build, Train, and Test Model"
   ]
  },
  {
   "cell_type": "code",
   "execution_count": 79,
   "id": "87873608",
   "metadata": {},
   "outputs": [],
   "source": [
    "# Set number of features\n",
    "# Features: Attribute/variable of the data set - used as predictors\n",
    "\n",
    "# Only using one feature: Close price\n",
    "n_features =1"
   ]
  },
  {
   "cell_type": "code",
   "execution_count": 80,
   "id": "5b9a9984",
   "metadata": {},
   "outputs": [],
   "source": [
    "# Define model\n",
    "model = Sequential()\n",
    "\n",
    "# Add 1st LSTM Layer\n",
    "# This layer has 125 LSTM cells\n",
    "# Activation function: relu\n",
    "# MUST: return_sequences= True\n",
    "# --Because of multiple LSTM layers: The layers are stacked\n",
    "# --Outputs = inputs of the next LTSM layer\n",
    "model.add(LSTM(50, activation='relu', return_sequences=True, input_shape=(length60, n_features)))\n",
    "\n",
    "# Add 1st Dropout Layer\n",
    "model.add(Dropout(0.3))\n",
    "\n",
    "# Add 2nd LSTM layer\n",
    "# MUST: return_sequences = True\n",
    "# --Because of multiple LSTM layers: The layers are stacked\n",
    "# --Outputs = inputs of the next LSTM layer\n",
    "model.add(LSTM(50, activation='relu', return_sequences=True))\n",
    "\n",
    "# Add 2nd Dropout Layer\n",
    "model.add(Dropout(0.3))\n",
    "\n",
    "# Add 3rd LSTM\n",
    "model.add(LSTM(50, activation='relu', return_sequences=True))\n",
    "\n",
    "# Add 3rd Dropout Layer\n",
    "model.add(Dropout(0.3))\n",
    "\n",
    "# Add 4th LSTM layer\n",
    "model.add(LSTM(50, activation='relu'))\n",
    "\n",
    "# Add FC layer for final prediction\n",
    "model.add(Dense(1))\n"
   ]
  },
  {
   "cell_type": "markdown",
   "id": "ddc306ca",
   "metadata": {},
   "source": [
    "### Compile Model"
   ]
  },
  {
   "cell_type": "code",
   "execution_count": 81,
   "id": "aad08d04",
   "metadata": {},
   "outputs": [
    {
     "name": "stdout",
     "output_type": "stream",
     "text": [
      "Model: \"sequential_1\"\n",
      "_________________________________________________________________\n",
      " Layer (type)                Output Shape              Param #   \n",
      "=================================================================\n",
      " lstm_4 (LSTM)               (None, 60, 50)            10400     \n",
      "                                                                 \n",
      " dropout_3 (Dropout)         (None, 60, 50)            0         \n",
      "                                                                 \n",
      " lstm_5 (LSTM)               (None, 60, 50)            20200     \n",
      "                                                                 \n",
      " dropout_4 (Dropout)         (None, 60, 50)            0         \n",
      "                                                                 \n",
      " lstm_6 (LSTM)               (None, 60, 50)            20200     \n",
      "                                                                 \n",
      " dropout_5 (Dropout)         (None, 60, 50)            0         \n",
      "                                                                 \n",
      " lstm_7 (LSTM)               (None, 50)                20200     \n",
      "                                                                 \n",
      " dense_1 (Dense)             (None, 1)                 51        \n",
      "                                                                 \n",
      "=================================================================\n",
      "Total params: 71,051\n",
      "Trainable params: 71,051\n",
      "Non-trainable params: 0\n",
      "_________________________________________________________________\n"
     ]
    }
   ],
   "source": [
    "# Compile the model\n",
    "model.compile(optimizer='adam', loss='mse')\n",
    "\n",
    "model.summary()"
   ]
  },
  {
   "cell_type": "markdown",
   "id": "620d12ca",
   "metadata": {},
   "source": [
    "### Train(Fit) Model Using fit_generator()"
   ]
  },
  {
   "cell_type": "code",
   "execution_count": 82,
   "id": "a42b235d",
   "metadata": {},
   "outputs": [
    {
     "name": "stdout",
     "output_type": "stream",
     "text": [
      "Epoch 1/50\n"
     ]
    },
    {
     "name": "stderr",
     "output_type": "stream",
     "text": [
      "C:\\Users\\trisa\\AppData\\Local\\Temp\\ipykernel_7128\\2907909120.py:3: UserWarning: `Model.fit_generator` is deprecated and will be removed in a future version. Please use `Model.fit`, which supports generators.\n",
      "  model.fit_generator(train_tsGenerator60, epochs=50)\n"
     ]
    },
    {
     "name": "stdout",
     "output_type": "stream",
     "text": [
      "40/40 [==============================] - 4s 30ms/step - loss: 0.1558\n",
      "Epoch 2/50\n",
      "40/40 [==============================] - 1s 30ms/step - loss: 0.0276\n",
      "Epoch 3/50\n",
      "40/40 [==============================] - 1s 30ms/step - loss: 0.0219\n",
      "Epoch 4/50\n",
      "40/40 [==============================] - 1s 30ms/step - loss: 0.0167\n",
      "Epoch 5/50\n",
      "40/40 [==============================] - 1s 30ms/step - loss: 0.0137\n",
      "Epoch 6/50\n",
      "40/40 [==============================] - 1s 30ms/step - loss: 0.0131\n",
      "Epoch 7/50\n",
      "40/40 [==============================] - 1s 30ms/step - loss: 0.0127\n",
      "Epoch 8/50\n",
      "40/40 [==============================] - 1s 31ms/step - loss: 0.0144\n",
      "Epoch 9/50\n",
      "40/40 [==============================] - 1s 30ms/step - loss: 0.0142\n",
      "Epoch 10/50\n",
      "40/40 [==============================] - 1s 30ms/step - loss: 0.0135\n",
      "Epoch 11/50\n",
      "40/40 [==============================] - 1s 30ms/step - loss: 0.0153\n",
      "Epoch 12/50\n",
      "40/40 [==============================] - 1s 30ms/step - loss: 0.0124\n",
      "Epoch 13/50\n",
      "40/40 [==============================] - 1s 31ms/step - loss: 0.0139\n",
      "Epoch 14/50\n",
      "40/40 [==============================] - 1s 31ms/step - loss: 0.0102\n",
      "Epoch 15/50\n",
      "40/40 [==============================] - 1s 31ms/step - loss: 0.0103\n",
      "Epoch 16/50\n",
      "40/40 [==============================] - 1s 30ms/step - loss: 0.0117\n",
      "Epoch 17/50\n",
      "40/40 [==============================] - 1s 30ms/step - loss: 0.0115\n",
      "Epoch 18/50\n",
      "40/40 [==============================] - 1s 30ms/step - loss: 0.0112\n",
      "Epoch 19/50\n",
      "40/40 [==============================] - 1s 30ms/step - loss: 0.0101\n",
      "Epoch 20/50\n",
      "40/40 [==============================] - 1s 30ms/step - loss: 0.0091\n",
      "Epoch 21/50\n",
      "40/40 [==============================] - 1s 30ms/step - loss: 0.0098\n",
      "Epoch 22/50\n",
      "40/40 [==============================] - 1s 31ms/step - loss: 0.0096\n",
      "Epoch 23/50\n",
      "40/40 [==============================] - 1s 30ms/step - loss: 0.0098\n",
      "Epoch 24/50\n",
      "40/40 [==============================] - 1s 30ms/step - loss: 0.0093\n",
      "Epoch 25/50\n",
      "40/40 [==============================] - 1s 31ms/step - loss: 0.0101\n",
      "Epoch 26/50\n",
      "40/40 [==============================] - 1s 31ms/step - loss: 0.0086\n",
      "Epoch 27/50\n",
      "40/40 [==============================] - 1s 31ms/step - loss: 0.0092\n",
      "Epoch 28/50\n",
      "40/40 [==============================] - 1s 31ms/step - loss: 0.0088\n",
      "Epoch 29/50\n",
      "40/40 [==============================] - 1s 30ms/step - loss: 0.0079\n",
      "Epoch 30/50\n",
      "40/40 [==============================] - 1s 30ms/step - loss: 0.0077\n",
      "Epoch 31/50\n",
      "40/40 [==============================] - 1s 30ms/step - loss: 0.0097\n",
      "Epoch 32/50\n",
      "40/40 [==============================] - 1s 31ms/step - loss: 0.0088\n",
      "Epoch 33/50\n",
      "40/40 [==============================] - 1s 31ms/step - loss: 0.0090\n",
      "Epoch 34/50\n",
      "40/40 [==============================] - 1s 31ms/step - loss: 0.0078\n",
      "Epoch 35/50\n",
      "40/40 [==============================] - 1s 31ms/step - loss: 0.0081\n",
      "Epoch 36/50\n",
      "40/40 [==============================] - 1s 31ms/step - loss: 0.0073\n",
      "Epoch 37/50\n",
      "40/40 [==============================] - 1s 31ms/step - loss: 0.0081\n",
      "Epoch 38/50\n",
      "40/40 [==============================] - 1s 31ms/step - loss: 0.0081\n",
      "Epoch 39/50\n",
      "40/40 [==============================] - 1s 31ms/step - loss: 0.0088\n",
      "Epoch 40/50\n",
      "40/40 [==============================] - 1s 32ms/step - loss: 0.0074\n",
      "Epoch 41/50\n",
      "40/40 [==============================] - 1s 31ms/step - loss: 0.0083\n",
      "Epoch 42/50\n",
      "40/40 [==============================] - 1s 31ms/step - loss: 0.0078\n",
      "Epoch 43/50\n",
      "40/40 [==============================] - 1s 31ms/step - loss: 0.0079\n",
      "Epoch 44/50\n",
      "40/40 [==============================] - 1s 31ms/step - loss: 0.0074\n",
      "Epoch 45/50\n",
      "40/40 [==============================] - 1s 31ms/step - loss: 0.0066\n",
      "Epoch 46/50\n",
      "40/40 [==============================] - 1s 30ms/step - loss: 0.0084\n",
      "Epoch 47/50\n",
      "40/40 [==============================] - 1s 31ms/step - loss: 0.0075\n",
      "Epoch 48/50\n",
      "40/40 [==============================] - 1s 31ms/step - loss: 0.0076\n",
      "Epoch 49/50\n",
      "40/40 [==============================] - 1s 30ms/step - loss: 0.0069\n",
      "Epoch 50/50\n",
      "40/40 [==============================] - 1s 31ms/step - loss: 0.0073\n"
     ]
    },
    {
     "data": {
      "text/plain": [
       "<keras.callbacks.History at 0x19b07833190>"
      ]
     },
     "execution_count": 82,
     "metadata": {},
     "output_type": "execute_result"
    }
   ],
   "source": [
    "# Train the model\n",
    "\n",
    "model.fit_generator(train_tsGenerator60, epochs=50)"
   ]
  },
  {
   "cell_type": "markdown",
   "id": "a7c1f4aa",
   "metadata": {},
   "source": [
    "### Visualize Model's Performance after training"
   ]
  },
  {
   "cell_type": "code",
   "execution_count": 83,
   "id": "3fd58665",
   "metadata": {},
   "outputs": [
    {
     "data": {
      "text/plain": [
       "dict_keys(['loss'])"
      ]
     },
     "execution_count": 83,
     "metadata": {},
     "output_type": "execute_result"
    }
   ],
   "source": [
    "loss_history_keys = model.history.history.keys()\n",
    "\n",
    "#model.history.history is a dict\n",
    "# 'loss' : its key\n",
    "# 'loss':loss during training;\n",
    "loss_history_keys"
   ]
  },
  {
   "cell_type": "code",
   "execution_count": 84,
   "id": "ed7960a1",
   "metadata": {},
   "outputs": [
    {
     "data": {
      "text/plain": [
       "<AxesSubplot:>"
      ]
     },
     "execution_count": 84,
     "metadata": {},
     "output_type": "execute_result"
    },
    {
     "data": {
      "image/png": "[encoded data removed]",
      "text/plain": [
       "<Figure size 432x288 with 1 Axes>"
      ]
     },
     "metadata": {
      "needs_background": "light"
     },
     "output_type": "display_data"
    }
   ],
   "source": [
    "# Load the loss data (mode.history.history) into a dataframe\n",
    "df_model_loss = pd.DataFrame(model.history.history)\n",
    "\n",
    "#Visualize the loss data using DataFrame.plot()\n",
    "df_model_loss.plot()"
   ]
  },
  {
   "cell_type": "markdown",
   "id": "af050efd",
   "metadata": {},
   "source": [
    "### Prediction for Testing: Using TimeseriesGenerator"
   ]
  },
  {
   "cell_type": "markdown",
   "id": "38c08a8d",
   "metadata": {},
   "source": [
    "#### Create TimeseriesGenerator for Testing"
   ]
  },
  {
   "cell_type": "code",
   "execution_count": 85,
   "id": "8589505e",
   "metadata": {},
   "outputs": [],
   "source": [
    "# batch_size must be 1\n",
    "batch_size1 = 1\n",
    "\n",
    "# Create a TimeseriesGenerator for testing: test_tsGenerator\n",
    "test_tsGenerator60 = TimeseriesGenerator(normalized_test, normalized_test, length=length60, batch_size=batch_size1)"
   ]
  },
  {
   "cell_type": "markdown",
   "id": "c07f20c9",
   "metadata": {},
   "source": [
    "#### Predict Future Data Points for Test"
   ]
  },
  {
   "cell_type": "code",
   "execution_count": 86,
   "id": "24e4e386",
   "metadata": {},
   "outputs": [
    {
     "name": "stderr",
     "output_type": "stream",
     "text": [
      "C:\\Users\\trisa\\AppData\\Local\\Temp\\ipykernel_7128\\4281113417.py:1: UserWarning: `Model.predict_generator` is deprecated and will be removed in a future version. Please use `Model.predict`, which supports generators.\n",
      "  normalized_prediction = model.predict_generator (test_tsGenerator60)\n"
     ]
    }
   ],
   "source": [
    "normalized_prediction = model.predict_generator (test_tsGenerator60)"
   ]
  },
  {
   "cell_type": "code",
   "execution_count": 87,
   "id": "b6a8b22b",
   "metadata": {},
   "outputs": [
    {
     "data": {
      "text/plain": [
       "array([[0.75232035],\n",
       "       [0.7574998 ],\n",
       "       [0.76322895],\n",
       "       [0.76840866],\n",
       "       [0.772268  ],\n",
       "       [0.77460843],\n",
       "       [0.77525824],\n",
       "       [0.7747291 ],\n",
       "       [0.77356285],\n",
       "       [0.77197915],\n",
       "       [0.7700872 ],\n",
       "       [0.76833427],\n",
       "       [0.7672665 ],\n",
       "       [0.7670541 ],\n",
       "       [0.76776   ],\n",
       "       [0.76922196],\n",
       "       [0.77097636],\n",
       "       [0.7728119 ],\n",
       "       [0.7745632 ],\n",
       "       [0.7762217 ],\n",
       "       [0.7780426 ],\n",
       "       [0.77964187],\n",
       "       [0.7806631 ],\n",
       "       [0.7803555 ],\n",
       "       [0.7781561 ],\n",
       "       [0.7745736 ],\n",
       "       [0.77036923],\n",
       "       [0.76635444],\n",
       "       [0.76300955],\n",
       "       [0.7604611 ],\n",
       "       [0.75879353],\n",
       "       [0.75814575],\n",
       "       [0.758339  ],\n",
       "       [0.7592287 ],\n",
       "       [0.76062155],\n",
       "       [0.7624412 ],\n",
       "       [0.76474893],\n",
       "       [0.7673106 ],\n",
       "       [0.77000034],\n",
       "       [0.772668  ],\n",
       "       [0.7753321 ],\n",
       "       [0.7780211 ],\n",
       "       [0.7807577 ],\n",
       "       [0.78368056],\n",
       "       [0.78686756],\n",
       "       [0.7897791 ],\n",
       "       [0.7920391 ],\n",
       "       [0.7934759 ],\n",
       "       [0.7940432 ],\n",
       "       [0.7938548 ],\n",
       "       [0.79321384],\n",
       "       [0.792458  ],\n",
       "       [0.791822  ],\n",
       "       [0.7914431 ],\n",
       "       [0.79142743],\n",
       "       [0.79186   ],\n",
       "       [0.7928199 ],\n",
       "       [0.7938759 ],\n",
       "       [0.79429185],\n",
       "       [0.79379827],\n",
       "       [0.7924286 ],\n",
       "       [0.7902949 ],\n",
       "       [0.7876204 ],\n",
       "       [0.78445905],\n",
       "       [0.7807966 ],\n",
       "       [0.7766447 ],\n",
       "       [0.77218664],\n",
       "       [0.767599  ],\n",
       "       [0.76254016],\n",
       "       [0.75687844],\n",
       "       [0.75071156],\n",
       "       [0.74423903],\n",
       "       [0.7378411 ],\n",
       "       [0.7319331 ],\n",
       "       [0.72665673],\n",
       "       [0.7223175 ],\n",
       "       [0.71862084],\n",
       "       [0.7154903 ],\n",
       "       [0.71277356],\n",
       "       [0.7102219 ],\n",
       "       [0.70735717],\n",
       "       [0.7033244 ],\n",
       "       [0.6975415 ],\n",
       "       [0.6896835 ],\n",
       "       [0.679725  ],\n",
       "       [0.66775477],\n",
       "       [0.653985  ],\n",
       "       [0.6399946 ],\n",
       "       [0.62673706],\n",
       "       [0.61399096],\n",
       "       [0.60146743],\n",
       "       [0.5900305 ],\n",
       "       [0.5799822 ],\n",
       "       [0.5711029 ],\n",
       "       [0.5634893 ],\n",
       "       [0.5574473 ],\n",
       "       [0.5529522 ],\n",
       "       [0.5502914 ],\n",
       "       [0.54906845],\n",
       "       [0.54826427],\n",
       "       [0.5468256 ],\n",
       "       [0.5440808 ],\n",
       "       [0.53982973],\n",
       "       [0.53360325],\n",
       "       [0.5262943 ],\n",
       "       [0.51849914],\n",
       "       [0.511397  ],\n",
       "       [0.50603163],\n",
       "       [0.5021875 ],\n",
       "       [0.5006845 ],\n",
       "       [0.5022955 ],\n",
       "       [0.50685215],\n",
       "       [0.5131618 ],\n",
       "       [0.51957476],\n",
       "       [0.52390206],\n",
       "       [0.5245799 ],\n",
       "       [0.5206664 ],\n",
       "       [0.51332617],\n",
       "       [0.50282806],\n",
       "       [0.48956665],\n",
       "       [0.47419563],\n",
       "       [0.45744535],\n",
       "       [0.43948656],\n",
       "       [0.42214462],\n",
       "       [0.40542108],\n",
       "       [0.39137822],\n",
       "       [0.38154897],\n",
       "       [0.37609154],\n",
       "       [0.3742991 ],\n",
       "       [0.37500086],\n",
       "       [0.37579012],\n",
       "       [0.37579173],\n",
       "       [0.37399384],\n",
       "       [0.37097716],\n",
       "       [0.36868656],\n",
       "       [0.36769414],\n",
       "       [0.3676479 ],\n",
       "       [0.36706135],\n",
       "       [0.36576676],\n",
       "       [0.36219305],\n",
       "       [0.35705018],\n",
       "       [0.35122043],\n",
       "       [0.3457614 ],\n",
       "       [0.34038085],\n",
       "       [0.33412844],\n",
       "       [0.32691553]], dtype=float32)"
      ]
     },
     "execution_count": 87,
     "metadata": {},
     "output_type": "execute_result"
    }
   ],
   "source": [
    "# Prediction is a numpy 2D array with only one column\n",
    "\n",
    "normalized_prediction"
   ]
  },
  {
   "cell_type": "code",
   "execution_count": 88,
   "id": "f2c28a0d",
   "metadata": {},
   "outputs": [
    {
     "data": {
      "text/plain": [
       "146"
      ]
     },
     "execution_count": 88,
     "metadata": {},
     "output_type": "execute_result"
    }
   ],
   "source": [
    "len(normalized_prediction)"
   ]
  },
  {
   "cell_type": "code",
   "execution_count": 89,
   "id": "22a41421",
   "metadata": {},
   "outputs": [],
   "source": [
    "# Convert normalized predictions back to the true values\n",
    "\n",
    "prediction = scaler.inverse_transform(normalized_prediction)"
   ]
  },
  {
   "cell_type": "code",
   "execution_count": 90,
   "id": "3448ee38",
   "metadata": {},
   "outputs": [],
   "source": [
    "# Flatten all the 2D array\n",
    "\n",
    "# data_train = data_train.reshape((-1))\n",
    "# data_test = data_test.reshape((-1))\n",
    "# prediction = prediction.reshapre ((-1))\n",
    "\n",
    "prediction_index = np.arange(1316, 1462, step=1)\n",
    "\n",
    "df_prediction = pd.DataFrame(data=prediction, index=prediction_index, columns=['Prediction'])"
   ]
  },
  {
   "cell_type": "code",
   "execution_count": 91,
   "id": "ec0c13c5",
   "metadata": {},
   "outputs": [
    {
     "data": {
      "text/html": [
       "<div>\n",
       "<style scoped>\n",
       "    .dataframe tbody tr th:only-of-type {\n",
       "        vertical-align: middle;\n",
       "    }\n",
       "\n",
       "    .dataframe tbody tr th {\n",
       "        vertical-align: top;\n",
       "    }\n",
       "\n",
       "    .dataframe thead th {\n",
       "        text-align: right;\n",
       "    }\n",
       "</style>\n",
       "<table border=\"1\" class=\"dataframe\">\n",
       "  <thead>\n",
       "    <tr style=\"text-align: right;\">\n",
       "      <th></th>\n",
       "      <th>Prediction</th>\n",
       "    </tr>\n",
       "  </thead>\n",
       "  <tbody>\n",
       "    <tr>\n",
       "      <th>1316</th>\n",
       "      <td>30.611624</td>\n",
       "    </tr>\n",
       "    <tr>\n",
       "      <th>1317</th>\n",
       "      <td>30.781065</td>\n",
       "    </tr>\n",
       "    <tr>\n",
       "      <th>1318</th>\n",
       "      <td>30.968491</td>\n",
       "    </tr>\n",
       "    <tr>\n",
       "      <th>1319</th>\n",
       "      <td>31.137939</td>\n",
       "    </tr>\n",
       "    <tr>\n",
       "      <th>1320</th>\n",
       "      <td>31.264196</td>\n",
       "    </tr>\n",
       "    <tr>\n",
       "      <th>...</th>\n",
       "      <td>...</td>\n",
       "    </tr>\n",
       "    <tr>\n",
       "      <th>1457</th>\n",
       "      <td>17.489925</td>\n",
       "    </tr>\n",
       "    <tr>\n",
       "      <th>1458</th>\n",
       "      <td>17.311337</td>\n",
       "    </tr>\n",
       "    <tr>\n",
       "      <th>1459</th>\n",
       "      <td>17.135317</td>\n",
       "    </tr>\n",
       "    <tr>\n",
       "      <th>1460</th>\n",
       "      <td>16.930773</td>\n",
       "    </tr>\n",
       "    <tr>\n",
       "      <th>1461</th>\n",
       "      <td>16.694807</td>\n",
       "    </tr>\n",
       "  </tbody>\n",
       "</table>\n",
       "<p>146 rows × 1 columns</p>\n",
       "</div>"
      ],
      "text/plain": [
       "      Prediction\n",
       "1316   30.611624\n",
       "1317   30.781065\n",
       "1318   30.968491\n",
       "1319   31.137939\n",
       "1320   31.264196\n",
       "...          ...\n",
       "1457   17.489925\n",
       "1458   17.311337\n",
       "1459   17.135317\n",
       "1460   16.930773\n",
       "1461   16.694807\n",
       "\n",
       "[146 rows x 1 columns]"
      ]
     },
     "execution_count": 91,
     "metadata": {},
     "output_type": "execute_result"
    }
   ],
   "source": [
    "df_prediction"
   ]
  },
  {
   "cell_type": "markdown",
   "id": "c7aab589",
   "metadata": {},
   "source": [
    "### Visualize Prediction"
   ]
  },
  {
   "cell_type": "code",
   "execution_count": 92,
   "id": "31cce749",
   "metadata": {},
   "outputs": [
    {
     "data": {
      "text/plain": [
       "<AxesSubplot:>"
      ]
     },
     "execution_count": 92,
     "metadata": {},
     "output_type": "execute_result"
    },
    {
     "data": {
      "image/png": "[encoded data removed]",
      "text/plain": [
       "<Figure size 576x864 with 1 Axes>"
      ]
     },
     "metadata": {
      "needs_background": "light"
     },
     "output_type": "display_data"
    }
   ],
   "source": [
    "ax = data_train.plot()\n",
    "\n",
    "df_prediction.plot(ax=ax, figsize=(8,12))"
   ]
  },
  {
   "cell_type": "markdown",
   "id": "86fca44c",
   "metadata": {},
   "source": [
    "### Visualize Predction and Compare Actual Close Price"
   ]
  },
  {
   "cell_type": "code",
   "execution_count": 93,
   "id": "f26f69f7",
   "metadata": {},
   "outputs": [
    {
     "data": {
      "text/plain": [
       "<AxesSubplot:>"
      ]
     },
     "execution_count": 93,
     "metadata": {},
     "output_type": "execute_result"
    },
    {
     "data": {
      "image/png": "[encoded data removed]",
      "text/plain": [
       "<Figure size 576x864 with 1 Axes>"
      ]
     },
     "metadata": {
      "needs_background": "light"
     },
     "output_type": "display_data"
    }
   ],
   "source": [
    "ax = df.plot()\n",
    "df_prediction.plot( ax=ax, figsize=(8,12))"
   ]
  },
  {
   "cell_type": "markdown",
   "id": "ee674f7e",
   "metadata": {},
   "source": [
    "## Time Series Forecasting with LSTM"
   ]
  },
  {
   "cell_type": "markdown",
   "id": "e18ac91d",
   "metadata": {},
   "source": [
    "#### Overview\n",
    "\n",
    "#### Time series forecasting:\n",
    "#### - Forecasat into the \"future\" or unknown range\n",
    "#### - Should employ all the available data\n",
    "#### - i.e No splitting of the data into training/testing"
   ]
  },
  {
   "cell_type": "markdown",
   "id": "249dfa5a",
   "metadata": {},
   "source": [
    "#### Preprocess Full Input Dataset"
   ]
  },
  {
   "cell_type": "code",
   "execution_count": 94,
   "id": "e9de9719",
   "metadata": {},
   "outputs": [],
   "source": [
    "# Still use MinMaxScaler to normalize the full input dataset df\n",
    "\n",
    "full_scaler = MinMaxScaler()\n",
    "normalized_full_data = full_scaler.fit_transform(df)"
   ]
  },
  {
   "cell_type": "markdown",
   "id": "17d3b282",
   "metadata": {},
   "source": [
    "#### Create TimeSeriesGenerator for Forecasting"
   ]
  },
  {
   "cell_type": "code",
   "execution_count": 95,
   "id": "9ca24b7c",
   "metadata": {},
   "outputs": [
    {
     "data": {
      "text/plain": [
       "60"
      ]
     },
     "execution_count": 95,
     "metadata": {},
     "output_type": "execute_result"
    }
   ],
   "source": [
    "# Number of time strps of the input time series\n",
    "# Still use length60:\n",
    "length60"
   ]
  },
  {
   "cell_type": "code",
   "execution_count": 96,
   "id": "22acd989",
   "metadata": {},
   "outputs": [],
   "source": [
    "# Create Timeseries Generator for forecasting\n",
    "\n",
    "forecast_tsGenerator = TimeseriesGenerator(normalized_full_data, normalized_full_data, length=length60, batch_size=batch_size32)"
   ]
  },
  {
   "cell_type": "markdown",
   "id": "6bd077b1",
   "metadata": {},
   "source": [
    "#### Build, Compile, and Fit LSTM Model for Forecasting"
   ]
  },
  {
   "cell_type": "code",
   "execution_count": 97,
   "id": "c8dec5d5",
   "metadata": {
    "scrolled": true
   },
   "outputs": [
    {
     "name": "stdout",
     "output_type": "stream",
     "text": [
      "Epoch 1/30\n",
      " 3/44 [=>............................] - ETA: 1s - loss: 0.0072"
     ]
    },
    {
     "name": "stderr",
     "output_type": "stream",
     "text": [
      "C:\\Users\\trisa\\AppData\\Local\\Temp\\ipykernel_7128\\1768419428.py:5: UserWarning: `Model.fit_generator` is deprecated and will be removed in a future version. Please use `Model.fit`, which supports generators.\n",
      "  model.fit_generator(forecast_tsGenerator, epochs = 30)\n"
     ]
    },
    {
     "name": "stdout",
     "output_type": "stream",
     "text": [
      "44/44 [==============================] - 2s 34ms/step - loss: 0.0066\n",
      "Epoch 2/30\n",
      "44/44 [==============================] - 1s 30ms/step - loss: 0.0076\n",
      "Epoch 3/30\n",
      "44/44 [==============================] - 1s 30ms/step - loss: 0.0073\n",
      "Epoch 4/30\n",
      "44/44 [==============================] - 1s 30ms/step - loss: 0.0070\n",
      "Epoch 5/30\n",
      "44/44 [==============================] - 1s 30ms/step - loss: 0.0062\n",
      "Epoch 6/30\n",
      "44/44 [==============================] - 1s 30ms/step - loss: 0.0063\n",
      "Epoch 7/30\n",
      "44/44 [==============================] - 1s 30ms/step - loss: 0.0066\n",
      "Epoch 8/30\n",
      "44/44 [==============================] - 1s 31ms/step - loss: 0.0061\n",
      "Epoch 9/30\n",
      "44/44 [==============================] - 1s 30ms/step - loss: 0.0064\n",
      "Epoch 10/30\n",
      "44/44 [==============================] - 1s 30ms/step - loss: 0.0078\n",
      "Epoch 11/30\n",
      "44/44 [==============================] - 1s 30ms/step - loss: 0.0072\n",
      "Epoch 12/30\n",
      "44/44 [==============================] - 1s 30ms/step - loss: 0.0082\n",
      "Epoch 13/30\n",
      "44/44 [==============================] - 1s 32ms/step - loss: 0.0074\n",
      "Epoch 14/30\n",
      "44/44 [==============================] - 1s 30ms/step - loss: 0.0064\n",
      "Epoch 15/30\n",
      "44/44 [==============================] - 1s 30ms/step - loss: 0.0061\n",
      "Epoch 16/30\n",
      "44/44 [==============================] - 1s 30ms/step - loss: 0.0060\n",
      "Epoch 17/30\n",
      "44/44 [==============================] - 1s 30ms/step - loss: 0.0067\n",
      "Epoch 18/30\n",
      "44/44 [==============================] - 1s 30ms/step - loss: 0.0063\n",
      "Epoch 19/30\n",
      "44/44 [==============================] - 1s 30ms/step - loss: 0.0061\n",
      "Epoch 20/30\n",
      "44/44 [==============================] - 1s 30ms/step - loss: 0.0060\n",
      "Epoch 21/30\n",
      "44/44 [==============================] - 1s 31ms/step - loss: 0.0071\n",
      "Epoch 22/30\n",
      "44/44 [==============================] - 1s 31ms/step - loss: 0.0088\n",
      "Epoch 23/30\n",
      "44/44 [==============================] - 1s 30ms/step - loss: 0.0058\n",
      "Epoch 24/30\n",
      "44/44 [==============================] - 1s 31ms/step - loss: 0.0057\n",
      "Epoch 25/30\n",
      "44/44 [==============================] - 1s 32ms/step - loss: 0.0060\n",
      "Epoch 26/30\n",
      "44/44 [==============================] - 1s 31ms/step - loss: 0.0060\n",
      "Epoch 27/30\n",
      "44/44 [==============================] - 1s 30ms/step - loss: 0.0061\n",
      "Epoch 28/30\n",
      "44/44 [==============================] - 1s 30ms/step - loss: 0.0057\n",
      "Epoch 29/30\n",
      "44/44 [==============================] - 1s 30ms/step - loss: 0.0062\n",
      "Epoch 30/30\n",
      "44/44 [==============================] - 1s 30ms/step - loss: 0.0067\n"
     ]
    },
    {
     "data": {
      "text/plain": [
       "<keras.callbacks.History at 0x19b1b6b0eb0>"
      ]
     },
     "execution_count": 97,
     "metadata": {},
     "output_type": "execute_result"
    }
   ],
   "source": [
    "# Train/Fit LSTM model\n",
    "# In forecasting, we don't validate, only FORECAST\n",
    "# So, no need to EarlyStop, no need for validation_generator\n",
    "\n",
    "model.fit_generator(forecast_tsGenerator, epochs = 30)"
   ]
  },
  {
   "cell_type": "markdown",
   "id": "d5181df7",
   "metadata": {},
   "source": [
    "#### Time Series Forecasting using LSTM Neural Network: 1/01/17 - 4/24/17"
   ]
  },
  {
   "cell_type": "code",
   "execution_count": 98,
   "id": "d82a7cb8",
   "metadata": {},
   "outputs": [
    {
     "name": "stdout",
     "output_type": "stream",
     "text": [
      "1/1 [==============================] - 0s 465ms/step\n",
      "1/1 [==============================] - 0s 16ms/step\n",
      "1/1 [==============================] - 0s 15ms/step\n",
      "1/1 [==============================] - 0s 16ms/step\n",
      "1/1 [==============================] - 0s 16ms/step\n",
      "1/1 [==============================] - 0s 16ms/step\n",
      "1/1 [==============================] - 0s 17ms/step\n",
      "1/1 [==============================] - 0s 17ms/step\n",
      "1/1 [==============================] - 0s 16ms/step\n",
      "1/1 [==============================] - 0s 16ms/step\n",
      "1/1 [==============================] - 0s 15ms/step\n",
      "1/1 [==============================] - 0s 16ms/step\n",
      "1/1 [==============================] - 0s 16ms/step\n",
      "1/1 [==============================] - 0s 18ms/step\n",
      "1/1 [==============================] - 0s 15ms/step\n",
      "1/1 [==============================] - 0s 18ms/step\n",
      "1/1 [==============================] - 0s 14ms/step\n",
      "1/1 [==============================] - 0s 13ms/step\n",
      "1/1 [==============================] - 0s 13ms/step\n",
      "1/1 [==============================] - 0s 13ms/step\n",
      "1/1 [==============================] - 0s 14ms/step\n",
      "1/1 [==============================] - 0s 13ms/step\n",
      "1/1 [==============================] - 0s 13ms/step\n",
      "1/1 [==============================] - 0s 13ms/step\n",
      "1/1 [==============================] - 0s 14ms/step\n",
      "1/1 [==============================] - 0s 14ms/step\n",
      "1/1 [==============================] - 0s 13ms/step\n",
      "1/1 [==============================] - 0s 13ms/step\n",
      "1/1 [==============================] - 0s 13ms/step\n",
      "1/1 [==============================] - 0s 14ms/step\n",
      "1/1 [==============================] - 0s 13ms/step\n",
      "1/1 [==============================] - 0s 13ms/step\n",
      "1/1 [==============================] - 0s 13ms/step\n",
      "1/1 [==============================] - 0s 13ms/step\n",
      "1/1 [==============================] - 0s 13ms/step\n",
      "1/1 [==============================] - 0s 13ms/step\n",
      "1/1 [==============================] - 0s 13ms/step\n",
      "1/1 [==============================] - 0s 13ms/step\n",
      "1/1 [==============================] - 0s 13ms/step\n",
      "1/1 [==============================] - 0s 15ms/step\n",
      "1/1 [==============================] - 0s 14ms/step\n",
      "1/1 [==============================] - 0s 14ms/step\n",
      "1/1 [==============================] - 0s 13ms/step\n",
      "1/1 [==============================] - 0s 13ms/step\n",
      "1/1 [==============================] - 0s 13ms/step\n",
      "1/1 [==============================] - 0s 13ms/step\n",
      "1/1 [==============================] - 0s 14ms/step\n",
      "1/1 [==============================] - 0s 13ms/step\n",
      "1/1 [==============================] - 0s 13ms/step\n",
      "1/1 [==============================] - 0s 13ms/step\n",
      "1/1 [==============================] - 0s 13ms/step\n",
      "1/1 [==============================] - 0s 15ms/step\n",
      "1/1 [==============================] - 0s 13ms/step\n",
      "1/1 [==============================] - 0s 13ms/step\n",
      "1/1 [==============================] - 0s 13ms/step\n",
      "1/1 [==============================] - 0s 13ms/step\n",
      "1/1 [==============================] - 0s 13ms/step\n",
      "1/1 [==============================] - 0s 14ms/step\n",
      "1/1 [==============================] - 0s 14ms/step\n",
      "1/1 [==============================] - 0s 12ms/step\n",
      "1/1 [==============================] - 0s 13ms/step\n",
      "1/1 [==============================] - 0s 14ms/step\n",
      "1/1 [==============================] - 0s 14ms/step\n",
      "1/1 [==============================] - 0s 13ms/step\n",
      "1/1 [==============================] - 0s 13ms/step\n",
      "1/1 [==============================] - 0s 14ms/step\n",
      "1/1 [==============================] - 0s 15ms/step\n",
      "1/1 [==============================] - 0s 14ms/step\n",
      "1/1 [==============================] - 0s 13ms/step\n",
      "1/1 [==============================] - 0s 13ms/step\n",
      "1/1 [==============================] - 0s 14ms/step\n",
      "1/1 [==============================] - 0s 13ms/step\n",
      "1/1 [==============================] - 0s 15ms/step\n",
      "1/1 [==============================] - 0s 16ms/step\n",
      "1/1 [==============================] - 0s 13ms/step\n",
      "1/1 [==============================] - 0s 13ms/step\n",
      "1/1 [==============================] - 0s 14ms/step\n",
      "1/1 [==============================] - 0s 13ms/step\n",
      "1/1 [==============================] - 0s 13ms/step\n",
      "1/1 [==============================] - 0s 13ms/step\n",
      "1/1 [==============================] - 0s 14ms/step\n",
      "1/1 [==============================] - 0s 14ms/step\n",
      "1/1 [==============================] - 0s 13ms/step\n",
      "1/1 [==============================] - 0s 13ms/step\n",
      "1/1 [==============================] - 0s 13ms/step\n",
      "1/1 [==============================] - 0s 12ms/step\n",
      "1/1 [==============================] - 0s 14ms/step\n",
      "1/1 [==============================] - 0s 12ms/step\n",
      "1/1 [==============================] - 0s 14ms/step\n",
      "1/1 [==============================] - 0s 13ms/step\n",
      "1/1 [==============================] - 0s 13ms/step\n",
      "1/1 [==============================] - 0s 13ms/step\n",
      "1/1 [==============================] - 0s 14ms/step\n",
      "1/1 [==============================] - 0s 13ms/step\n",
      "1/1 [==============================] - 0s 13ms/step\n",
      "1/1 [==============================] - 0s 12ms/step\n",
      "1/1 [==============================] - 0s 13ms/step\n",
      "1/1 [==============================] - 0s 13ms/step\n",
      "1/1 [==============================] - 0s 13ms/step\n",
      "1/1 [==============================] - 0s 14ms/step\n",
      "1/1 [==============================] - 0s 15ms/step\n",
      "1/1 [==============================] - 0s 17ms/step\n",
      "1/1 [==============================] - 0s 16ms/step\n",
      "1/1 [==============================] - 0s 13ms/step\n",
      "1/1 [==============================] - 0s 13ms/step\n",
      "1/1 [==============================] - 0s 13ms/step\n",
      "1/1 [==============================] - 0s 13ms/step\n",
      "1/1 [==============================] - 0s 12ms/step\n",
      "1/1 [==============================] - 0s 13ms/step\n",
      "1/1 [==============================] - 0s 13ms/step\n",
      "1/1 [==============================] - 0s 13ms/step\n",
      "1/1 [==============================] - 0s 13ms/step\n",
      "1/1 [==============================] - 0s 13ms/step\n",
      "1/1 [==============================] - 0s 14ms/step\n"
     ]
    }
   ],
   "source": [
    "forecast = []\n",
    "\n",
    "# Set periods with the time span of forecasting\n",
    "# Let's forecast for the next 114 business days 1/01/17 - 4/24/17\n",
    "periods = 114\n",
    "\n",
    "first_eval_batch = normalized_full_data[-length60:]\n",
    "current_batch = first_eval_batch.reshape((1, length60, n_features))\n",
    "\n",
    "for i in range(periods):\n",
    "    \n",
    "    # get prediction 1 time stamp ahead ([0] is for grabbing just the number instead of [array])\n",
    "    current_pred = model.predict(current_batch)[0]\n",
    "    \n",
    "    # store prediction\n",
    "    forecast.append(current_pred)\n",
    "    \n",
    "    # update batch to now include prediction and drop first value\n",
    "    current_batch = np.append(current_batch[:,1:,:], [[current_pred]], axis=1)"
   ]
  },
  {
   "cell_type": "markdown",
   "id": "986631dd",
   "metadata": {},
   "source": [
    "#### Inverse to Transform Normalized Data Back into True Values"
   ]
  },
  {
   "cell_type": "code",
   "execution_count": 99,
   "id": "0c984fbb",
   "metadata": {},
   "outputs": [
    {
     "data": {
      "text/plain": [
       "array([[15.88784891],\n",
       "       [15.54290064],\n",
       "       [15.25110338],\n",
       "       [15.03795726],\n",
       "       [14.90497736],\n",
       "       [14.83958278],\n",
       "       [14.82403312],\n",
       "       [14.84142351],\n",
       "       [14.87860562],\n",
       "       [14.92662638],\n",
       "       [14.9802327 ],\n",
       "       [15.03691405],\n",
       "       [15.09580369],\n",
       "       [15.15696888],\n",
       "       [15.22082497],\n",
       "       [15.28777462],\n",
       "       [15.35821463],\n",
       "       [15.43248233],\n",
       "       [15.51051437],\n",
       "       [15.59202604],\n",
       "       [15.67680286],\n",
       "       [15.76481947],\n",
       "       [15.85802484],\n",
       "       [15.95868086],\n",
       "       [16.0662435 ],\n",
       "       [16.1807469 ],\n",
       "       [16.30205456],\n",
       "       [16.43048822],\n",
       "       [16.56642127],\n",
       "       [16.70955443],\n",
       "       [16.85943431],\n",
       "       [17.01631832],\n",
       "       [17.1816845 ],\n",
       "       [17.357279  ],\n",
       "       [17.54364   ],\n",
       "       [17.7414022 ],\n",
       "       [17.95180186],\n",
       "       [18.17609082],\n",
       "       [18.41307769],\n",
       "       [18.66116059],\n",
       "       [18.91851343],\n",
       "       [19.18413979],\n",
       "       [19.45569782],\n",
       "       [19.73111085],\n",
       "       [20.01041202],\n",
       "       [20.29295104],\n",
       "       [20.57900968],\n",
       "       [20.86881801],\n",
       "       [21.16417096],\n",
       "       [21.46593818],\n",
       "       [21.77362536],\n",
       "       [22.08687665],\n",
       "       [22.40568035],\n",
       "       [22.72978296],\n",
       "       [23.05658622],\n",
       "       [23.38609793],\n",
       "       [23.71935348],\n",
       "       [24.05639774],\n",
       "       [24.39724824],\n",
       "       [24.74248413],\n",
       "       [25.09254997],\n",
       "       [25.44644352],\n",
       "       [25.80270427],\n",
       "       [26.16190745],\n",
       "       [26.52497733],\n",
       "       [26.89259639],\n",
       "       [27.26502201],\n",
       "       [27.64214109],\n",
       "       [28.01592775],\n",
       "       [28.38238855],\n",
       "       [28.73916213],\n",
       "       [29.08518968],\n",
       "       [29.42011047],\n",
       "       [29.7438465 ],\n",
       "       [30.05640752],\n",
       "       [30.35779158],\n",
       "       [30.64756969],\n",
       "       [30.92524463],\n",
       "       [31.19035816],\n",
       "       [31.4425398 ],\n",
       "       [31.68157116],\n",
       "       [31.90735084],\n",
       "       [32.11991979],\n",
       "       [32.31949834],\n",
       "       [32.50678263],\n",
       "       [32.68240638],\n",
       "       [32.84675178],\n",
       "       [33.00031994],\n",
       "       [33.14367636],\n",
       "       [33.27732996],\n",
       "       [33.40169412],\n",
       "       [33.51599278],\n",
       "       [33.62017718],\n",
       "       [33.71548944],\n",
       "       [33.80273876],\n",
       "       [33.88255887],\n",
       "       [33.95546651],\n",
       "       [34.0219082 ],\n",
       "       [34.08231097],\n",
       "       [34.13705507],\n",
       "       [34.18653243],\n",
       "       [34.23109403],\n",
       "       [34.27110841],\n",
       "       [34.30689145],\n",
       "       [34.33877465],\n",
       "       [34.36706024],\n",
       "       [34.39201341],\n",
       "       [34.41392664],\n",
       "       [34.43309049],\n",
       "       [34.44977014],\n",
       "       [34.46418592],\n",
       "       [34.47657378],\n",
       "       [34.48713847],\n",
       "       [34.49610226]])"
      ]
     },
     "execution_count": 99,
     "metadata": {},
     "output_type": "execute_result"
    }
   ],
   "source": [
    "forecast = full_scaler.inverse_transform(forecast)\n",
    "\n",
    "forecast"
   ]
  },
  {
   "cell_type": "code",
   "execution_count": 100,
   "id": "9025a143",
   "metadata": {},
   "outputs": [
    {
     "data": {
      "text/html": [
       "<div>\n",
       "<style scoped>\n",
       "    .dataframe tbody tr th:only-of-type {\n",
       "        vertical-align: middle;\n",
       "    }\n",
       "\n",
       "    .dataframe tbody tr th {\n",
       "        vertical-align: top;\n",
       "    }\n",
       "\n",
       "    .dataframe thead th {\n",
       "        text-align: right;\n",
       "    }\n",
       "</style>\n",
       "<table border=\"1\" class=\"dataframe\">\n",
       "  <thead>\n",
       "    <tr style=\"text-align: right;\">\n",
       "      <th></th>\n",
       "      <th>meantemp</th>\n",
       "    </tr>\n",
       "  </thead>\n",
       "  <tbody>\n",
       "    <tr>\n",
       "      <th>0</th>\n",
       "      <td>10.000000</td>\n",
       "    </tr>\n",
       "    <tr>\n",
       "      <th>1</th>\n",
       "      <td>7.400000</td>\n",
       "    </tr>\n",
       "    <tr>\n",
       "      <th>2</th>\n",
       "      <td>7.166667</td>\n",
       "    </tr>\n",
       "    <tr>\n",
       "      <th>3</th>\n",
       "      <td>8.666667</td>\n",
       "    </tr>\n",
       "    <tr>\n",
       "      <th>4</th>\n",
       "      <td>6.000000</td>\n",
       "    </tr>\n",
       "    <tr>\n",
       "      <th>...</th>\n",
       "      <td>...</td>\n",
       "    </tr>\n",
       "    <tr>\n",
       "      <th>1457</th>\n",
       "      <td>17.217391</td>\n",
       "    </tr>\n",
       "    <tr>\n",
       "      <th>1458</th>\n",
       "      <td>15.238095</td>\n",
       "    </tr>\n",
       "    <tr>\n",
       "      <th>1459</th>\n",
       "      <td>14.095238</td>\n",
       "    </tr>\n",
       "    <tr>\n",
       "      <th>1460</th>\n",
       "      <td>15.052632</td>\n",
       "    </tr>\n",
       "    <tr>\n",
       "      <th>1461</th>\n",
       "      <td>10.000000</td>\n",
       "    </tr>\n",
       "  </tbody>\n",
       "</table>\n",
       "<p>1462 rows × 1 columns</p>\n",
       "</div>"
      ],
      "text/plain": [
       "       meantemp\n",
       "0     10.000000\n",
       "1      7.400000\n",
       "2      7.166667\n",
       "3      8.666667\n",
       "4      6.000000\n",
       "...         ...\n",
       "1457  17.217391\n",
       "1458  15.238095\n",
       "1459  14.095238\n",
       "1460  15.052632\n",
       "1461  10.000000\n",
       "\n",
       "[1462 rows x 1 columns]"
      ]
     },
     "execution_count": 100,
     "metadata": {},
     "output_type": "execute_result"
    }
   ],
   "source": [
    "df"
   ]
  },
  {
   "cell_type": "markdown",
   "id": "eeeb9b93",
   "metadata": {},
   "source": [
    "#### Creating new timestamp index with pandas: 1/01/17 - 2/24/17"
   ]
  },
  {
   "cell_type": "code",
   "execution_count": 101,
   "id": "0ab9f20d",
   "metadata": {},
   "outputs": [],
   "source": [
    "# calculate forecast index\n",
    "\n",
    "forecast_index = np.arange(1462, 1576, step=1)"
   ]
  },
  {
   "cell_type": "code",
   "execution_count": 102,
   "id": "b69ec29a",
   "metadata": {},
   "outputs": [],
   "source": [
    "forecast_df = pd.DataFrame(data=forecast, index=forecast_index, columns=['Forecast'])"
   ]
  },
  {
   "cell_type": "code",
   "execution_count": 103,
   "id": "e0e44849",
   "metadata": {},
   "outputs": [
    {
     "data": {
      "text/html": [
       "<div>\n",
       "<style scoped>\n",
       "    .dataframe tbody tr th:only-of-type {\n",
       "        vertical-align: middle;\n",
       "    }\n",
       "\n",
       "    .dataframe tbody tr th {\n",
       "        vertical-align: top;\n",
       "    }\n",
       "\n",
       "    .dataframe thead th {\n",
       "        text-align: right;\n",
       "    }\n",
       "</style>\n",
       "<table border=\"1\" class=\"dataframe\">\n",
       "  <thead>\n",
       "    <tr style=\"text-align: right;\">\n",
       "      <th></th>\n",
       "      <th>Forecast</th>\n",
       "    </tr>\n",
       "  </thead>\n",
       "  <tbody>\n",
       "    <tr>\n",
       "      <th>1462</th>\n",
       "      <td>15.887849</td>\n",
       "    </tr>\n",
       "    <tr>\n",
       "      <th>1463</th>\n",
       "      <td>15.542901</td>\n",
       "    </tr>\n",
       "    <tr>\n",
       "      <th>1464</th>\n",
       "      <td>15.251103</td>\n",
       "    </tr>\n",
       "    <tr>\n",
       "      <th>1465</th>\n",
       "      <td>15.037957</td>\n",
       "    </tr>\n",
       "    <tr>\n",
       "      <th>1466</th>\n",
       "      <td>14.904977</td>\n",
       "    </tr>\n",
       "    <tr>\n",
       "      <th>...</th>\n",
       "      <td>...</td>\n",
       "    </tr>\n",
       "    <tr>\n",
       "      <th>1571</th>\n",
       "      <td>34.449770</td>\n",
       "    </tr>\n",
       "    <tr>\n",
       "      <th>1572</th>\n",
       "      <td>34.464186</td>\n",
       "    </tr>\n",
       "    <tr>\n",
       "      <th>1573</th>\n",
       "      <td>34.476574</td>\n",
       "    </tr>\n",
       "    <tr>\n",
       "      <th>1574</th>\n",
       "      <td>34.487138</td>\n",
       "    </tr>\n",
       "    <tr>\n",
       "      <th>1575</th>\n",
       "      <td>34.496102</td>\n",
       "    </tr>\n",
       "  </tbody>\n",
       "</table>\n",
       "<p>114 rows × 1 columns</p>\n",
       "</div>"
      ],
      "text/plain": [
       "       Forecast\n",
       "1462  15.887849\n",
       "1463  15.542901\n",
       "1464  15.251103\n",
       "1465  15.037957\n",
       "1466  14.904977\n",
       "...         ...\n",
       "1571  34.449770\n",
       "1572  34.464186\n",
       "1573  34.476574\n",
       "1574  34.487138\n",
       "1575  34.496102\n",
       "\n",
       "[114 rows x 1 columns]"
      ]
     },
     "execution_count": 103,
     "metadata": {},
     "output_type": "execute_result"
    }
   ],
   "source": [
    "forecast_df"
   ]
  },
  {
   "cell_type": "markdown",
   "id": "e2e2f5ae",
   "metadata": {},
   "source": [
    "#### Plot the forecast"
   ]
  },
  {
   "cell_type": "code",
   "execution_count": 104,
   "id": "08fb80ee",
   "metadata": {},
   "outputs": [
    {
     "data": {
      "text/plain": [
       "<AxesSubplot:>"
      ]
     },
     "execution_count": 104,
     "metadata": {},
     "output_type": "execute_result"
    },
    {
     "data": {
      "image/png": "[encoded data removed]",
      "text/plain": [
       "<Figure size 432x288 with 1 Axes>"
      ]
     },
     "metadata": {
      "needs_background": "light"
     },
     "output_type": "display_data"
    },
    {
     "data": {
      "image/png": "[encoded data removed]",
      "text/plain": [
       "<Figure size 432x288 with 1 Axes>"
      ]
     },
     "metadata": {
      "needs_background": "light"
     },
     "output_type": "display_data"
    }
   ],
   "source": [
    "df.plot()\n",
    "forecast_df.plot()"
   ]
  },
  {
   "cell_type": "markdown",
   "id": "d05907dc",
   "metadata": {},
   "source": [
    "#### Joining Pandas Plots"
   ]
  },
  {
   "cell_type": "code",
   "execution_count": 105,
   "id": "b8a9cad5",
   "metadata": {
    "scrolled": true
   },
   "outputs": [
    {
     "data": {
      "text/plain": [
       "<AxesSubplot:>"
      ]
     },
     "execution_count": 105,
     "metadata": {},
     "output_type": "execute_result"
    },
    {
     "data": {
      "image/png": "[encoded data removed]",
      "text/plain": [
       "<Figure size 864x576 with 1 Axes>"
      ]
     },
     "metadata": {
      "needs_background": "light"
     },
     "output_type": "display_data"
    }
   ],
   "source": [
    "ax = df.plot()\n",
    "\n",
    "forecast_df.plot(ax=ax, figsize=(12, 8))"
   ]
  },
  {
   "cell_type": "code",
   "execution_count": 106,
   "id": "b7ad78fa",
   "metadata": {},
   "outputs": [],
   "source": [
    "dir_path_dataset_2 = 'DELHI_010117_042417.csv'"
   ]
  },
  {
   "cell_type": "code",
   "execution_count": 107,
   "id": "3f5ed1ea",
   "metadata": {},
   "outputs": [],
   "source": [
    "df_DELHI_2017 = pd.read_csv(dir_path_dataset_2)"
   ]
  },
  {
   "cell_type": "code",
   "execution_count": 108,
   "id": "2d884d09",
   "metadata": {},
   "outputs": [
    {
     "data": {
      "text/html": [
       "<div>\n",
       "<style scoped>\n",
       "    .dataframe tbody tr th:only-of-type {\n",
       "        vertical-align: middle;\n",
       "    }\n",
       "\n",
       "    .dataframe tbody tr th {\n",
       "        vertical-align: top;\n",
       "    }\n",
       "\n",
       "    .dataframe thead th {\n",
       "        text-align: right;\n",
       "    }\n",
       "</style>\n",
       "<table border=\"1\" class=\"dataframe\">\n",
       "  <thead>\n",
       "    <tr style=\"text-align: right;\">\n",
       "      <th></th>\n",
       "      <th>date</th>\n",
       "      <th>meantemp</th>\n",
       "      <th>humidity</th>\n",
       "      <th>wind_speed</th>\n",
       "      <th>meanpressure</th>\n",
       "    </tr>\n",
       "  </thead>\n",
       "  <tbody>\n",
       "    <tr>\n",
       "      <th>109</th>\n",
       "      <td>2017-04-20</td>\n",
       "      <td>34.500</td>\n",
       "      <td>27.500000</td>\n",
       "      <td>5.562500</td>\n",
       "      <td>998.625000</td>\n",
       "    </tr>\n",
       "    <tr>\n",
       "      <th>110</th>\n",
       "      <td>2017-04-21</td>\n",
       "      <td>34.250</td>\n",
       "      <td>39.375000</td>\n",
       "      <td>6.962500</td>\n",
       "      <td>999.875000</td>\n",
       "    </tr>\n",
       "    <tr>\n",
       "      <th>111</th>\n",
       "      <td>2017-04-22</td>\n",
       "      <td>32.900</td>\n",
       "      <td>40.900000</td>\n",
       "      <td>8.890000</td>\n",
       "      <td>1001.600000</td>\n",
       "    </tr>\n",
       "    <tr>\n",
       "      <th>112</th>\n",
       "      <td>2017-04-23</td>\n",
       "      <td>32.875</td>\n",
       "      <td>27.500000</td>\n",
       "      <td>9.962500</td>\n",
       "      <td>1002.125000</td>\n",
       "    </tr>\n",
       "    <tr>\n",
       "      <th>113</th>\n",
       "      <td>2017-04-24</td>\n",
       "      <td>32.000</td>\n",
       "      <td>27.142857</td>\n",
       "      <td>12.157143</td>\n",
       "      <td>1004.142857</td>\n",
       "    </tr>\n",
       "  </tbody>\n",
       "</table>\n",
       "</div>"
      ],
      "text/plain": [
       "           date  meantemp   humidity  wind_speed  meanpressure\n",
       "109  2017-04-20    34.500  27.500000    5.562500    998.625000\n",
       "110  2017-04-21    34.250  39.375000    6.962500    999.875000\n",
       "111  2017-04-22    32.900  40.900000    8.890000   1001.600000\n",
       "112  2017-04-23    32.875  27.500000    9.962500   1002.125000\n",
       "113  2017-04-24    32.000  27.142857   12.157143   1004.142857"
      ]
     },
     "execution_count": 108,
     "metadata": {},
     "output_type": "execute_result"
    }
   ],
   "source": [
    "df_DELHI_2017.tail()"
   ]
  },
  {
   "cell_type": "code",
   "execution_count": 109,
   "id": "fadd2ce0",
   "metadata": {},
   "outputs": [],
   "source": [
    "df_DELHI_2017 = df_DELHI_2017.iloc[:,1:2]"
   ]
  },
  {
   "cell_type": "code",
   "execution_count": 110,
   "id": "1039de17",
   "metadata": {},
   "outputs": [
    {
     "data": {
      "text/html": [
       "<div>\n",
       "<style scoped>\n",
       "    .dataframe tbody tr th:only-of-type {\n",
       "        vertical-align: middle;\n",
       "    }\n",
       "\n",
       "    .dataframe tbody tr th {\n",
       "        vertical-align: top;\n",
       "    }\n",
       "\n",
       "    .dataframe thead th {\n",
       "        text-align: right;\n",
       "    }\n",
       "</style>\n",
       "<table border=\"1\" class=\"dataframe\">\n",
       "  <thead>\n",
       "    <tr style=\"text-align: right;\">\n",
       "      <th></th>\n",
       "      <th>meantemp</th>\n",
       "    </tr>\n",
       "  </thead>\n",
       "  <tbody>\n",
       "    <tr>\n",
       "      <th>0</th>\n",
       "      <td>15.913043</td>\n",
       "    </tr>\n",
       "    <tr>\n",
       "      <th>1</th>\n",
       "      <td>18.500000</td>\n",
       "    </tr>\n",
       "    <tr>\n",
       "      <th>2</th>\n",
       "      <td>17.111111</td>\n",
       "    </tr>\n",
       "    <tr>\n",
       "      <th>3</th>\n",
       "      <td>18.700000</td>\n",
       "    </tr>\n",
       "    <tr>\n",
       "      <th>4</th>\n",
       "      <td>18.388889</td>\n",
       "    </tr>\n",
       "    <tr>\n",
       "      <th>...</th>\n",
       "      <td>...</td>\n",
       "    </tr>\n",
       "    <tr>\n",
       "      <th>109</th>\n",
       "      <td>34.500000</td>\n",
       "    </tr>\n",
       "    <tr>\n",
       "      <th>110</th>\n",
       "      <td>34.250000</td>\n",
       "    </tr>\n",
       "    <tr>\n",
       "      <th>111</th>\n",
       "      <td>32.900000</td>\n",
       "    </tr>\n",
       "    <tr>\n",
       "      <th>112</th>\n",
       "      <td>32.875000</td>\n",
       "    </tr>\n",
       "    <tr>\n",
       "      <th>113</th>\n",
       "      <td>32.000000</td>\n",
       "    </tr>\n",
       "  </tbody>\n",
       "</table>\n",
       "<p>114 rows × 1 columns</p>\n",
       "</div>"
      ],
      "text/plain": [
       "      meantemp\n",
       "0    15.913043\n",
       "1    18.500000\n",
       "2    17.111111\n",
       "3    18.700000\n",
       "4    18.388889\n",
       "..         ...\n",
       "109  34.500000\n",
       "110  34.250000\n",
       "111  32.900000\n",
       "112  32.875000\n",
       "113  32.000000\n",
       "\n",
       "[114 rows x 1 columns]"
      ]
     },
     "execution_count": 110,
     "metadata": {},
     "output_type": "execute_result"
    }
   ],
   "source": [
    "df_DELHI_2017"
   ]
  },
  {
   "cell_type": "code",
   "execution_count": 111,
   "id": "ce7de662",
   "metadata": {},
   "outputs": [
    {
     "data": {
      "text/plain": [
       "<AxesSubplot:>"
      ]
     },
     "execution_count": 111,
     "metadata": {},
     "output_type": "execute_result"
    },
    {
     "data": {
      "image/png": "[encoded data removed]",
      "text/plain": [
       "<Figure size 432x288 with 1 Axes>"
      ]
     },
     "metadata": {
      "needs_background": "light"
     },
     "output_type": "display_data"
    }
   ],
   "source": [
    "df_DELHI_2017.plot()"
   ]
  },
  {
   "cell_type": "code",
   "execution_count": 112,
   "id": "c6010066",
   "metadata": {},
   "outputs": [
    {
     "data": {
      "text/plain": [
       "array([15.88784891, 15.54290064, 15.25110338, 15.03795726, 14.90497736,\n",
       "       14.83958278, 14.82403312, 14.84142351, 14.87860562, 14.92662638,\n",
       "       14.9802327 , 15.03691405, 15.09580369, 15.15696888, 15.22082497,\n",
       "       15.28777462, 15.35821463, 15.43248233, 15.51051437, 15.59202604,\n",
       "       15.67680286, 15.76481947, 15.85802484, 15.95868086, 16.0662435 ,\n",
       "       16.1807469 , 16.30205456, 16.43048822, 16.56642127, 16.70955443,\n",
       "       16.85943431, 17.01631832, 17.1816845 , 17.357279  , 17.54364   ,\n",
       "       17.7414022 , 17.95180186, 18.17609082, 18.41307769, 18.66116059,\n",
       "       18.91851343, 19.18413979, 19.45569782, 19.73111085, 20.01041202,\n",
       "       20.29295104, 20.57900968, 20.86881801, 21.16417096, 21.46593818,\n",
       "       21.77362536, 22.08687665, 22.40568035, 22.72978296, 23.05658622,\n",
       "       23.38609793, 23.71935348, 24.05639774, 24.39724824, 24.74248413,\n",
       "       25.09254997, 25.44644352, 25.80270427, 26.16190745, 26.52497733,\n",
       "       26.89259639, 27.26502201, 27.64214109, 28.01592775, 28.38238855,\n",
       "       28.73916213, 29.08518968, 29.42011047, 29.7438465 , 30.05640752,\n",
       "       30.35779158, 30.64756969, 30.92524463, 31.19035816, 31.4425398 ,\n",
       "       31.68157116, 31.90735084, 32.11991979, 32.31949834, 32.50678263,\n",
       "       32.68240638, 32.84675178, 33.00031994, 33.14367636, 33.27732996,\n",
       "       33.40169412, 33.51599278, 33.62017718, 33.71548944, 33.80273876,\n",
       "       33.88255887, 33.95546651, 34.0219082 , 34.08231097, 34.13705507,\n",
       "       34.18653243, 34.23109403, 34.27110841, 34.30689145, 34.33877465,\n",
       "       34.36706024, 34.39201341, 34.41392664, 34.43309049, 34.44977014,\n",
       "       34.46418592, 34.47657378, 34.48713847, 34.49610226])"
      ]
     },
     "execution_count": 112,
     "metadata": {},
     "output_type": "execute_result"
    }
   ],
   "source": [
    "forecast_df['Forecast'].values"
   ]
  },
  {
   "cell_type": "code",
   "execution_count": 113,
   "id": "c4e0d767",
   "metadata": {},
   "outputs": [],
   "source": [
    "df_DELHI_2017['Forecast'] = forecast_df['Forecast'].values"
   ]
  },
  {
   "cell_type": "code",
   "execution_count": 114,
   "id": "86a98287",
   "metadata": {},
   "outputs": [
    {
     "data": {
      "text/html": [
       "<div>\n",
       "<style scoped>\n",
       "    .dataframe tbody tr th:only-of-type {\n",
       "        vertical-align: middle;\n",
       "    }\n",
       "\n",
       "    .dataframe tbody tr th {\n",
       "        vertical-align: top;\n",
       "    }\n",
       "\n",
       "    .dataframe thead th {\n",
       "        text-align: right;\n",
       "    }\n",
       "</style>\n",
       "<table border=\"1\" class=\"dataframe\">\n",
       "  <thead>\n",
       "    <tr style=\"text-align: right;\">\n",
       "      <th></th>\n",
       "      <th>meantemp</th>\n",
       "      <th>Forecast</th>\n",
       "    </tr>\n",
       "  </thead>\n",
       "  <tbody>\n",
       "    <tr>\n",
       "      <th>0</th>\n",
       "      <td>15.913043</td>\n",
       "      <td>15.887849</td>\n",
       "    </tr>\n",
       "    <tr>\n",
       "      <th>1</th>\n",
       "      <td>18.500000</td>\n",
       "      <td>15.542901</td>\n",
       "    </tr>\n",
       "    <tr>\n",
       "      <th>2</th>\n",
       "      <td>17.111111</td>\n",
       "      <td>15.251103</td>\n",
       "    </tr>\n",
       "    <tr>\n",
       "      <th>3</th>\n",
       "      <td>18.700000</td>\n",
       "      <td>15.037957</td>\n",
       "    </tr>\n",
       "    <tr>\n",
       "      <th>4</th>\n",
       "      <td>18.388889</td>\n",
       "      <td>14.904977</td>\n",
       "    </tr>\n",
       "    <tr>\n",
       "      <th>...</th>\n",
       "      <td>...</td>\n",
       "      <td>...</td>\n",
       "    </tr>\n",
       "    <tr>\n",
       "      <th>109</th>\n",
       "      <td>34.500000</td>\n",
       "      <td>34.449770</td>\n",
       "    </tr>\n",
       "    <tr>\n",
       "      <th>110</th>\n",
       "      <td>34.250000</td>\n",
       "      <td>34.464186</td>\n",
       "    </tr>\n",
       "    <tr>\n",
       "      <th>111</th>\n",
       "      <td>32.900000</td>\n",
       "      <td>34.476574</td>\n",
       "    </tr>\n",
       "    <tr>\n",
       "      <th>112</th>\n",
       "      <td>32.875000</td>\n",
       "      <td>34.487138</td>\n",
       "    </tr>\n",
       "    <tr>\n",
       "      <th>113</th>\n",
       "      <td>32.000000</td>\n",
       "      <td>34.496102</td>\n",
       "    </tr>\n",
       "  </tbody>\n",
       "</table>\n",
       "<p>114 rows × 2 columns</p>\n",
       "</div>"
      ],
      "text/plain": [
       "      meantemp   Forecast\n",
       "0    15.913043  15.887849\n",
       "1    18.500000  15.542901\n",
       "2    17.111111  15.251103\n",
       "3    18.700000  15.037957\n",
       "4    18.388889  14.904977\n",
       "..         ...        ...\n",
       "109  34.500000  34.449770\n",
       "110  34.250000  34.464186\n",
       "111  32.900000  34.476574\n",
       "112  32.875000  34.487138\n",
       "113  32.000000  34.496102\n",
       "\n",
       "[114 rows x 2 columns]"
      ]
     },
     "execution_count": 114,
     "metadata": {},
     "output_type": "execute_result"
    }
   ],
   "source": [
    "df_DELHI_2017"
   ]
  },
  {
   "cell_type": "code",
   "execution_count": 115,
   "id": "a99491f7",
   "metadata": {},
   "outputs": [
    {
     "data": {
      "text/plain": [
       "<AxesSubplot:>"
      ]
     },
     "execution_count": 115,
     "metadata": {},
     "output_type": "execute_result"
    },
    {
     "data": {
      "image/png": "[encoded data removed]",
      "text/plain": [
       "<Figure size 432x288 with 1 Axes>"
      ]
     },
     "metadata": {
      "needs_background": "light"
     },
     "output_type": "display_data"
    }
   ],
   "source": [
    "df_DELHI_2017.plot()"
   ]
  },
  {
   "cell_type": "code",
   "execution_count": null,
   "id": "9f2292cc",
   "metadata": {},
   "outputs": [],
   "source": []
  },
  {
   "cell_type": "code",
   "execution_count": null,
   "id": "7c11b2b0",
   "metadata": {},
   "outputs": [],
   "source": []
  }
 ],
 "metadata": {
  "kernelspec": {
   "display_name": "Python 3 (ipykernel)",
   "language": "python",
   "name": "python3"
  },
  "language_info": {
   "codemirror_mode": {
    "name": "ipython",
    "version": 3
   },
   "file_extension": ".py",
   "mimetype": "text/x-python",
   "name": "python",
   "nbconvert_exporter": "python",
   "pygments_lexer": "ipython3",
   "version": "3.9.12"
  }
 },
 "nbformat": 4,
 "nbformat_minor": 5
}
