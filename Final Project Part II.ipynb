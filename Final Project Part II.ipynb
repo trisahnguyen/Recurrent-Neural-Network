{
 "cells": [
  {
   "cell_type": "markdown",
   "id": "69e51f4b",
   "metadata": {},
   "source": [
    "#### Trisa Nguyen\n",
    "#### October 17, 2022"
   ]
  },
  {
   "cell_type": "markdown",
   "id": "61884a7d",
   "metadata": {},
   "source": [
    "# Final Project Part III"
   ]
  },
  {
   "cell_type": "markdown",
   "id": "8ca1c7fc",
   "metadata": {},
   "source": [
    "## Import Python Libraries"
   ]
  },
  {
   "cell_type": "code",
   "execution_count": 1,
   "id": "2dd0dd68",
   "metadata": {},
   "outputs": [],
   "source": [
    "# Basic libraries\n",
    "\n",
    "import pandas as pd\n",
    "import numpy as np\n",
    "%matplotlib inline\n",
    "import matplotlib.pyplot as plt"
   ]
  },
  {
   "cell_type": "code",
   "execution_count": 2,
   "id": "77c1e9f3",
   "metadata": {},
   "outputs": [],
   "source": [
    "# For timeseries Recurrent neural network\n",
    "from tensorflow.keras.models import Sequential\n",
    "from tensorflow.keras.layers import Dense,SimpleRNN"
   ]
  },
  {
   "cell_type": "code",
   "execution_count": 3,
   "id": "f53ca3d5",
   "metadata": {},
   "outputs": [],
   "source": [
    "# Keras: TimeseriesGenerator\n",
    "\n",
    "#This class produces time series batches used on training/testing the model\n",
    "from tensorflow.keras.preprocessing.sequence import TimeseriesGenerator\n",
    "\n",
    "# Keras: MinMaxScaler\n",
    "#This class is use to preprocess (scale) the data\n",
    "from sklearn.preprocessing import MinMaxScaler"
   ]
  },
  {
   "cell_type": "markdown",
   "id": "59e09089",
   "metadata": {},
   "source": [
    "## Generate Data"
   ]
  },
  {
   "cell_type": "code",
   "execution_count": 4,
   "id": "d8d5c7f7",
   "metadata": {},
   "outputs": [],
   "source": [
    "# Create a simple sine wave using Numpy\n",
    "\n",
    "x=np.linspace(0,32,1024)\n",
    "y=np.sin(x)"
   ]
  },
  {
   "cell_type": "code",
   "execution_count": 5,
   "id": "b2ebc2ea",
   "metadata": {},
   "outputs": [
    {
     "data": {
      "text/plain": [
       "array([0.00000000e+00, 3.12805474e-02, 6.25610948e-02, ...,\n",
       "       3.19374389e+01, 3.19687195e+01, 3.20000000e+01])"
      ]
     },
     "execution_count": 5,
     "metadata": {},
     "output_type": "execute_result"
    }
   ],
   "source": [
    "x"
   ]
  },
  {
   "cell_type": "code",
   "execution_count": 6,
   "id": "16bd1b1f",
   "metadata": {},
   "outputs": [
    {
     "data": {
      "text/plain": [
       "array([0.        , 0.03127545, 0.06252029, ..., 0.49819203, 0.52506622,\n",
       "       0.55142668])"
      ]
     },
     "execution_count": 6,
     "metadata": {},
     "output_type": "execute_result"
    }
   ],
   "source": [
    "y"
   ]
  },
  {
   "cell_type": "code",
   "execution_count": 7,
   "id": "463e1e78",
   "metadata": {},
   "outputs": [
    {
     "data": {
      "text/plain": [
       "[<matplotlib.lines.Line2D at 0x251dd1bfd00>]"
      ]
     },
     "execution_count": 7,
     "metadata": {},
     "output_type": "execute_result"
    },
    {
     "data": {
      "image/png": "[encoded data removed]",
      "text/plain": [
       "<Figure size 432x288 with 1 Axes>"
      ]
     },
     "metadata": {
      "needs_background": "light"
     },
     "output_type": "display_data"
    }
   ],
   "source": [
    "plt.plot(x, y)"
   ]
  },
  {
   "cell_type": "code",
   "execution_count": 8,
   "id": "bbef595f",
   "metadata": {},
   "outputs": [],
   "source": [
    "# Load the data into pandas dataframe\n",
    "# Index: x\n",
    "# Data: y\n",
    "# Column label: sine\n",
    "\n",
    "df = pd.DataFrame(data=y, index=x, columns=[\"Sine\"])"
   ]
  },
  {
   "cell_type": "code",
   "execution_count": 9,
   "id": "b7e9388c",
   "metadata": {},
   "outputs": [
    {
     "data": {
      "text/html": [
       "<div>\n",
       "<style scoped>\n",
       "    .dataframe tbody tr th:only-of-type {\n",
       "        vertical-align: middle;\n",
       "    }\n",
       "\n",
       "    .dataframe tbody tr th {\n",
       "        vertical-align: top;\n",
       "    }\n",
       "\n",
       "    .dataframe thead th {\n",
       "        text-align: right;\n",
       "    }\n",
       "</style>\n",
       "<table border=\"1\" class=\"dataframe\">\n",
       "  <thead>\n",
       "    <tr style=\"text-align: right;\">\n",
       "      <th></th>\n",
       "      <th>Sine</th>\n",
       "    </tr>\n",
       "  </thead>\n",
       "  <tbody>\n",
       "    <tr>\n",
       "      <th>0.000000</th>\n",
       "      <td>0.000000</td>\n",
       "    </tr>\n",
       "    <tr>\n",
       "      <th>0.031281</th>\n",
       "      <td>0.031275</td>\n",
       "    </tr>\n",
       "    <tr>\n",
       "      <th>0.062561</th>\n",
       "      <td>0.062520</td>\n",
       "    </tr>\n",
       "    <tr>\n",
       "      <th>0.093842</th>\n",
       "      <td>0.093704</td>\n",
       "    </tr>\n",
       "    <tr>\n",
       "      <th>0.125122</th>\n",
       "      <td>0.124796</td>\n",
       "    </tr>\n",
       "  </tbody>\n",
       "</table>\n",
       "</div>"
      ],
      "text/plain": [
       "              Sine\n",
       "0.000000  0.000000\n",
       "0.031281  0.031275\n",
       "0.062561  0.062520\n",
       "0.093842  0.093704\n",
       "0.125122  0.124796"
      ]
     },
     "execution_count": 9,
     "metadata": {},
     "output_type": "execute_result"
    }
   ],
   "source": [
    "df.head(5)"
   ]
  },
  {
   "cell_type": "code",
   "execution_count": 10,
   "id": "d4142dac",
   "metadata": {},
   "outputs": [
    {
     "data": {
      "text/plain": [
       "1024"
      ]
     },
     "execution_count": 10,
     "metadata": {},
     "output_type": "execute_result"
    }
   ],
   "source": [
    "# Check length of dataframe\n",
    "\n",
    "len(df)"
   ]
  },
  {
   "cell_type": "markdown",
   "id": "372d5e02",
   "metadata": {},
   "source": [
    "## Split Data into Train and Test"
   ]
  },
  {
   "cell_type": "code",
   "execution_count": 11,
   "id": "2265face",
   "metadata": {},
   "outputs": [],
   "source": [
    "# Set percentage of data used for testing\n",
    "\n",
    "test_percent = 0.2"
   ]
  },
  {
   "cell_type": "code",
   "execution_count": 12,
   "id": "17d539b1",
   "metadata": {},
   "outputs": [
    {
     "data": {
      "text/plain": [
       "204.8"
      ]
     },
     "execution_count": 12,
     "metadata": {},
     "output_type": "execute_result"
    }
   ],
   "source": [
    "# Number of data points reserved for testing the model\n",
    "# 20% of the original dataset\n",
    "\n",
    "len(df)*test_percent"
   ]
  },
  {
   "cell_type": "code",
   "execution_count": 13,
   "id": "f3ff2a69",
   "metadata": {},
   "outputs": [],
   "source": [
    "# Need to find the length (number of data points) of the testing dataset\n",
    "# It has been found (above) that around 205 data points are used for testing\n",
    "\n",
    "test_length = np.round(len(df)*test_percent)"
   ]
  },
  {
   "cell_type": "code",
   "execution_count": 14,
   "id": "300660ad",
   "metadata": {},
   "outputs": [
    {
     "data": {
      "text/plain": [
       "205.0"
      ]
     },
     "execution_count": 14,
     "metadata": {},
     "output_type": "execute_result"
    }
   ],
   "source": [
    "test_length"
   ]
  },
  {
   "cell_type": "code",
   "execution_count": 15,
   "id": "e5ec0d9b",
   "metadata": {},
   "outputs": [],
   "source": [
    "# The testing data set starts at this index\n",
    "# Index starting with 0\n",
    "\n",
    "test_start_index = int(len(df) - test_length)"
   ]
  },
  {
   "cell_type": "code",
   "execution_count": 16,
   "id": "66ff1ca5",
   "metadata": {},
   "outputs": [
    {
     "data": {
      "text/plain": [
       "819"
      ]
     },
     "execution_count": 16,
     "metadata": {},
     "output_type": "execute_result"
    }
   ],
   "source": [
    "test_start_index"
   ]
  },
  {
   "cell_type": "code",
   "execution_count": 17,
   "id": "a94195cb",
   "metadata": {},
   "outputs": [],
   "source": [
    "# Create separate training / testing datasets\n",
    "\n",
    "# Training dataset: All the indicies from start to test_start_index\n",
    "# excluding test_start_index\n",
    "data_train = df.iloc[:test_start_index]\n",
    "\n",
    "# Test dataset: All the indicies from the test_start_index to the end of the dataframe\n",
    "# including test_start_index\n",
    "data_test = df.iloc[test_start_index:]"
   ]
  },
  {
   "cell_type": "code",
   "execution_count": 18,
   "id": "348b2000",
   "metadata": {},
   "outputs": [
    {
     "data": {
      "text/html": [
       "<div>\n",
       "<style scoped>\n",
       "    .dataframe tbody tr th:only-of-type {\n",
       "        vertical-align: middle;\n",
       "    }\n",
       "\n",
       "    .dataframe tbody tr th {\n",
       "        vertical-align: top;\n",
       "    }\n",
       "\n",
       "    .dataframe thead th {\n",
       "        text-align: right;\n",
       "    }\n",
       "</style>\n",
       "<table border=\"1\" class=\"dataframe\">\n",
       "  <thead>\n",
       "    <tr style=\"text-align: right;\">\n",
       "      <th></th>\n",
       "      <th>Sine</th>\n",
       "    </tr>\n",
       "  </thead>\n",
       "  <tbody>\n",
       "    <tr>\n",
       "      <th>0.000000</th>\n",
       "      <td>0.000000</td>\n",
       "    </tr>\n",
       "    <tr>\n",
       "      <th>0.031281</th>\n",
       "      <td>0.031275</td>\n",
       "    </tr>\n",
       "    <tr>\n",
       "      <th>0.062561</th>\n",
       "      <td>0.062520</td>\n",
       "    </tr>\n",
       "    <tr>\n",
       "      <th>0.093842</th>\n",
       "      <td>0.093704</td>\n",
       "    </tr>\n",
       "    <tr>\n",
       "      <th>0.125122</th>\n",
       "      <td>0.124796</td>\n",
       "    </tr>\n",
       "  </tbody>\n",
       "</table>\n",
       "</div>"
      ],
      "text/plain": [
       "              Sine\n",
       "0.000000  0.000000\n",
       "0.031281  0.031275\n",
       "0.062561  0.062520\n",
       "0.093842  0.093704\n",
       "0.125122  0.124796"
      ]
     },
     "execution_count": 18,
     "metadata": {},
     "output_type": "execute_result"
    }
   ],
   "source": [
    "data_train.head(5)"
   ]
  },
  {
   "cell_type": "code",
   "execution_count": 19,
   "id": "c8b42df7",
   "metadata": {},
   "outputs": [
    {
     "data": {
      "text/html": [
       "<div>\n",
       "<style scoped>\n",
       "    .dataframe tbody tr th:only-of-type {\n",
       "        vertical-align: middle;\n",
       "    }\n",
       "\n",
       "    .dataframe tbody tr th {\n",
       "        vertical-align: top;\n",
       "    }\n",
       "\n",
       "    .dataframe thead th {\n",
       "        text-align: right;\n",
       "    }\n",
       "</style>\n",
       "<table border=\"1\" class=\"dataframe\">\n",
       "  <thead>\n",
       "    <tr style=\"text-align: right;\">\n",
       "      <th></th>\n",
       "      <th>Sine</th>\n",
       "    </tr>\n",
       "  </thead>\n",
       "  <tbody>\n",
       "    <tr>\n",
       "      <th>25.618768</th>\n",
       "      <td>0.467117</td>\n",
       "    </tr>\n",
       "    <tr>\n",
       "      <th>25.650049</th>\n",
       "      <td>0.494542</td>\n",
       "    </tr>\n",
       "    <tr>\n",
       "      <th>25.681329</th>\n",
       "      <td>0.521483</td>\n",
       "    </tr>\n",
       "    <tr>\n",
       "      <th>25.712610</th>\n",
       "      <td>0.547914</td>\n",
       "    </tr>\n",
       "    <tr>\n",
       "      <th>25.743891</th>\n",
       "      <td>0.573809</td>\n",
       "    </tr>\n",
       "  </tbody>\n",
       "</table>\n",
       "</div>"
      ],
      "text/plain": [
       "               Sine\n",
       "25.618768  0.467117\n",
       "25.650049  0.494542\n",
       "25.681329  0.521483\n",
       "25.712610  0.547914\n",
       "25.743891  0.573809"
      ]
     },
     "execution_count": 19,
     "metadata": {},
     "output_type": "execute_result"
    }
   ],
   "source": [
    "data_test.head(5)"
   ]
  },
  {
   "cell_type": "markdown",
   "id": "2ec11802",
   "metadata": {},
   "source": [
    "## Normalize Data (Scale it into range [0,1])"
   ]
  },
  {
   "cell_type": "code",
   "execution_count": 20,
   "id": "d5d6557e",
   "metadata": {},
   "outputs": [],
   "source": [
    "# Create a MinMaxScaler to normalize the data\n",
    "scaler = MinMaxScaler()"
   ]
  },
  {
   "cell_type": "code",
   "execution_count": 21,
   "id": "6eee7674",
   "metadata": {},
   "outputs": [
    {
     "data": {
      "text/plain": [
       "MinMaxScaler()"
      ]
     },
     "execution_count": 21,
     "metadata": {},
     "output_type": "execute_result"
    }
   ],
   "source": [
    "# IGNORE the warning: Just converting the data to floats\n",
    "# ONLY scale the TRAINING data; DO NOT scale the testing data\n",
    "\n",
    "# Train the scaler to perform the normalization\n",
    "scaler.fit(data_train)"
   ]
  },
  {
   "cell_type": "code",
   "execution_count": 22,
   "id": "8cdfb032",
   "metadata": {},
   "outputs": [],
   "source": [
    "# Normalize the training dataset\n",
    "normalized_train = scaler.transform(data_train)\n",
    "\n",
    "# Normalize the testing dataset\n",
    "normalized_test = scaler.transform(data_test)"
   ]
  },
  {
   "cell_type": "markdown",
   "id": "1c63d005",
   "metadata": {},
   "source": [
    "## Create TimeseriesGenerator Instance"
   ]
  },
  {
   "cell_type": "code",
   "execution_count": 23,
   "id": "b5158f45",
   "metadata": {},
   "outputs": [],
   "source": [
    "# TimeseriesGenerator: Generate time series batches for training/testing\n",
    "\n",
    "# Set the length of the input sequence\n",
    "# i.e the number of time series steps that are used to predict the future one\n",
    "# Use 50 historical data points to predict the next one\n",
    "length = 50\n",
    "\n",
    "# batch_size: Number of time series samples in each batch\n",
    "# One sample: each sample is a time series input sequence\n",
    "# Only one sample in each batch\n",
    "batch_size=1\n",
    "\n",
    "# Create a TimeSeriesGenerator for training: train_tsGenerator\n",
    "# This time series generator produces time series batches used to train the model\n",
    "# TimeseriesGenerator (inputs dataset, outputs dataset, length, batch_size)\n",
    "\n",
    "train_tsGenerator50 = TimeseriesGenerator(\n",
    "    normalized_train, normalized_train, \n",
    "    length=length, \n",
    "    batch_size=batch_size)\n"
   ]
  },
  {
   "cell_type": "code",
   "execution_count": 24,
   "id": "32ff0aed",
   "metadata": {},
   "outputs": [],
   "source": [
    "# What does the first batch look like?\n",
    "\n",
    "X,y = train_tsGenerator50[0]"
   ]
  },
  {
   "cell_type": "code",
   "execution_count": 25,
   "id": "bf027d9e",
   "metadata": {},
   "outputs": [
    {
     "data": {
      "text/plain": [
       "array([0.49999294, 0.5156309 , 0.53125357, 0.54684565, 0.56239189,\n",
       "       0.57787708, 0.59328606, 0.60860378, 0.62381522, 0.63890552,\n",
       "       0.65385991, 0.66866375, 0.68330257, 0.69776204, 0.71202802,\n",
       "       0.72608654, 0.73992385, 0.75352642, 0.76688093, 0.77997432,\n",
       "       0.79279378, 0.80532676, 0.81756101, 0.82948455, 0.84108572,\n",
       "       0.85235316, 0.86327586, 0.87384313, 0.88404462, 0.89387036,\n",
       "       0.90331073, 0.9123565 , 0.92099882, 0.92922923, 0.93703967,\n",
       "       0.94442251, 0.95137053, 0.95787692, 0.96393532, 0.9695398 ,\n",
       "       0.97468488, 0.97936553, 0.98357716, 0.98731565, 0.99057736,\n",
       "       0.99335908, 0.99565809, 0.99747214, 0.99879947, 0.99963877])"
      ]
     },
     "execution_count": 25,
     "metadata": {},
     "output_type": "execute_result"
    }
   ],
   "source": [
    "# Print X.flatten()\n",
    "\n",
    "X.flatten()"
   ]
  },
  {
   "cell_type": "code",
   "execution_count": 26,
   "id": "6d03db07",
   "metadata": {},
   "outputs": [
    {
     "data": {
      "text/plain": [
       "array([[0.99998922]])"
      ]
     },
     "execution_count": 26,
     "metadata": {},
     "output_type": "execute_result"
    }
   ],
   "source": [
    "# Print y: what does X predict\n",
    "\n",
    "y"
   ]
  },
  {
   "cell_type": "markdown",
   "id": "df13fccd",
   "metadata": {},
   "source": [
    "## Build, Train, and Test Model"
   ]
  },
  {
   "cell_type": "markdown",
   "id": "f07164a8",
   "metadata": {},
   "source": [
    "### Build SimpleRNN Model"
   ]
  },
  {
   "cell_type": "code",
   "execution_count": 27,
   "id": "a3a66a37",
   "metadata": {},
   "outputs": [],
   "source": [
    "# Data set: Onlt one column/attribute: Sine values of index x\n",
    "# Features: How many features used to train the model: Only one\n",
    "n_features = 1\n",
    "\n",
    "# define model\n",
    "model = Sequential()\n",
    "\n",
    "# Add a simple RNN layer: Using SimpleRNN cells\n",
    "# This layer has 125 neurons: One neuron for each input data point\n",
    "# NOTES: # time series steps of the input sequence: 50\n",
    "model.add(SimpleRNN(125, input_shape=(length, n_features)))\n",
    "\n",
    "# Add a FC (fully-connected) layer for the final prediction\n",
    "# Only one neuro of the Dense/FC layer\n",
    "# Output: Predict the next data point of the input sequence: only one value\n",
    "model.add(Dense(1))"
   ]
  },
  {
   "cell_type": "markdown",
   "id": "05a10cff",
   "metadata": {},
   "source": [
    "### Compile Model"
   ]
  },
  {
   "cell_type": "code",
   "execution_count": 28,
   "id": "9749fe45",
   "metadata": {},
   "outputs": [
    {
     "name": "stdout",
     "output_type": "stream",
     "text": [
      "Model: \"sequential\"\n",
      "_________________________________________________________________\n",
      " Layer (type)                Output Shape              Param #   \n",
      "=================================================================\n",
      " simple_rnn (SimpleRNN)      (None, 125)               15875     \n",
      "                                                                 \n",
      " dense (Dense)               (None, 1)                 126       \n",
      "                                                                 \n",
      "=================================================================\n",
      "Total params: 16,001\n",
      "Trainable params: 16,001\n",
      "Non-trainable params: 0\n",
      "_________________________________________________________________\n"
     ]
    }
   ],
   "source": [
    "# Compile the model\n",
    "# Loss function: MSE (mean squared error)\n",
    "# NOTES: Why MSE? The data is real values/continuous: A regression problem\n",
    "# Optimizer: adam\n",
    "\n",
    "model.compile(optimizer='adam', loss='mse')\n",
    " \n",
    "model.summary()"
   ]
  },
  {
   "cell_type": "markdown",
   "id": "2fa994b2",
   "metadata": {},
   "source": [
    "### Train (Fit) Model"
   ]
  },
  {
   "cell_type": "code",
   "execution_count": 29,
   "id": "4e687906",
   "metadata": {},
   "outputs": [
    {
     "name": "stdout",
     "output_type": "stream",
     "text": [
      "Epoch 1/5\n"
     ]
    },
    {
     "name": "stderr",
     "output_type": "stream",
     "text": [
      "C:\\Users\\trisa\\AppData\\Local\\Temp\\ipykernel_25996\\445224677.py:4: UserWarning: `Model.fit_generator` is deprecated and will be removed in a future version. Please use `Model.fit`, which supports generators.\n",
      "  model.fit_generator(train_tsGenerator50, epochs=5)\n"
     ]
    },
    {
     "name": "stdout",
     "output_type": "stream",
     "text": [
      "769/769 [==============================] - 3s 3ms/step - loss: 0.0013\n",
      "Epoch 2/5\n",
      "769/769 [==============================] - 3s 4ms/step - loss: 0.0011\n",
      "Epoch 3/5\n",
      "769/769 [==============================] - 3s 4ms/step - loss: 2.2769e-05\n",
      "Epoch 4/5\n",
      "769/769 [==============================] - 3s 4ms/step - loss: 1.1962e-05\n",
      "Epoch 5/5\n",
      "769/769 [==============================] - 3s 4ms/step - loss: 7.8917e-05\n"
     ]
    },
    {
     "data": {
      "text/plain": [
       "<keras.callbacks.History at 0x251e385a940>"
      ]
     },
     "execution_count": 29,
     "metadata": {},
     "output_type": "execute_result"
    }
   ],
   "source": [
    "# Fit the model\n",
    "# Use fit_generator(), NOT fit()\n",
    "\n",
    "model.fit_generator(train_tsGenerator50, epochs=5)"
   ]
  },
  {
   "cell_type": "markdown",
   "id": "f57c9be3",
   "metadata": {},
   "source": [
    "## Visualize the Model's Performance after Training"
   ]
  },
  {
   "cell_type": "code",
   "execution_count": 30,
   "id": "92be0b26",
   "metadata": {},
   "outputs": [
    {
     "data": {
      "text/plain": [
       "<AxesSubplot:>"
      ]
     },
     "execution_count": 30,
     "metadata": {},
     "output_type": "execute_result"
    },
    {
     "data": {
      "image/png": "[encoded data removed]",
      "text/plain": [
       "<Figure size 432x288 with 1 Axes>"
      ]
     },
     "metadata": {
      "needs_background": "light"
     },
     "output_type": "display_data"
    }
   ],
   "source": [
    "# Load the loss data (model.history.history) into data frame\n",
    "df_model_loss = pd.DataFrame(model.history.history)\n",
    "\n",
    "# Visualize the loss data using DataFrame.plot()\n",
    "df_model_loss.plot()"
   ]
  },
  {
   "cell_type": "markdown",
   "id": "1f0f7011",
   "metadata": {},
   "source": [
    "## Evaluate Model on Test Data"
   ]
  },
  {
   "cell_type": "markdown",
   "id": "1e68ece8",
   "metadata": {},
   "source": [
    "### Sneak peek into test data"
   ]
  },
  {
   "cell_type": "code",
   "execution_count": 31,
   "id": "f1c1a7d0",
   "metadata": {},
   "outputs": [
    {
     "data": {
      "text/plain": [
       "50"
      ]
     },
     "execution_count": 31,
     "metadata": {},
     "output_type": "execute_result"
    }
   ],
   "source": [
    "# Number of time steps of the input time series\n",
    "\n",
    "length"
   ]
  },
  {
   "cell_type": "code",
   "execution_count": 32,
   "id": "13f5e96b",
   "metadata": {},
   "outputs": [
    {
     "data": {
      "text/plain": [
       "array([[0.05947937],\n",
       "       [0.06709305],\n",
       "       [0.07513027],\n",
       "       [0.08358318],\n",
       "       [0.0924435 ],\n",
       "       [0.10170257],\n",
       "       [0.11135132],\n",
       "       [0.12138031],\n",
       "       [0.13177973],\n",
       "       [0.14253942],\n",
       "       [0.15364883],\n",
       "       [0.1650971 ],\n",
       "       [0.17687303],\n",
       "       [0.1889651 ],\n",
       "       [0.20136148],\n",
       "       [0.21405004],\n",
       "       [0.22701836],\n",
       "       [0.24025376],\n",
       "       [0.25374328],\n",
       "       [0.26747374],\n",
       "       [0.28143168],\n",
       "       [0.29560347],\n",
       "       [0.30997523],\n",
       "       [0.3245329 ],\n",
       "       [0.33926225],\n",
       "       [0.35414885],\n",
       "       [0.36917814],\n",
       "       [0.38433542],\n",
       "       [0.39960586],\n",
       "       [0.41497451],\n",
       "       [0.43042635],\n",
       "       [0.44594625],\n",
       "       [0.46151903],\n",
       "       [0.47712946],\n",
       "       [0.49276225],\n",
       "       [0.50840212],\n",
       "       [0.52403376],\n",
       "       [0.53964187],\n",
       "       [0.5552112 ],\n",
       "       [0.5707265 ],\n",
       "       [0.5861726 ],\n",
       "       [0.60153438],\n",
       "       [0.61679681],\n",
       "       [0.63194496],\n",
       "       [0.64696401],\n",
       "       [0.66183926],\n",
       "       [0.67655617],\n",
       "       [0.69110032],\n",
       "       [0.7054575 ],\n",
       "       [0.71961365]])"
      ]
     },
     "execution_count": 32,
     "metadata": {},
     "output_type": "execute_result"
    }
   ],
   "source": [
    "# Take a sneak peek into the 1st time series batch (50 data points)\n",
    "# array[-length:]: A sequence of [50th to the last...last]\n",
    "first_eval_batch = normalized_train[-length:]\n",
    "\n",
    "first_eval_batch"
   ]
  },
  {
   "cell_type": "markdown",
   "id": "d81e0e96",
   "metadata": {},
   "source": [
    "#### Important Notes:\n",
    "#### First_eval_batch: Currently is a 2D array 50 x 1 (50 rows, 1 column)\n",
    "#### It is necessary to reshape it into a 3D array 1 x 50 x 1\n",
    "#### (1 plane, 50 row, 1 column)\n",
    "#### ( # samples in a batch, # time series steps, # features)"
   ]
  },
  {
   "cell_type": "code",
   "execution_count": 33,
   "id": "16ddb08b",
   "metadata": {},
   "outputs": [
    {
     "data": {
      "text/plain": [
       "array([[[0.05947937],\n",
       "        [0.06709305],\n",
       "        [0.07513027],\n",
       "        [0.08358318],\n",
       "        [0.0924435 ],\n",
       "        [0.10170257],\n",
       "        [0.11135132],\n",
       "        [0.12138031],\n",
       "        [0.13177973],\n",
       "        [0.14253942],\n",
       "        [0.15364883],\n",
       "        [0.1650971 ],\n",
       "        [0.17687303],\n",
       "        [0.1889651 ],\n",
       "        [0.20136148],\n",
       "        [0.21405004],\n",
       "        [0.22701836],\n",
       "        [0.24025376],\n",
       "        [0.25374328],\n",
       "        [0.26747374],\n",
       "        [0.28143168],\n",
       "        [0.29560347],\n",
       "        [0.30997523],\n",
       "        [0.3245329 ],\n",
       "        [0.33926225],\n",
       "        [0.35414885],\n",
       "        [0.36917814],\n",
       "        [0.38433542],\n",
       "        [0.39960586],\n",
       "        [0.41497451],\n",
       "        [0.43042635],\n",
       "        [0.44594625],\n",
       "        [0.46151903],\n",
       "        [0.47712946],\n",
       "        [0.49276225],\n",
       "        [0.50840212],\n",
       "        [0.52403376],\n",
       "        [0.53964187],\n",
       "        [0.5552112 ],\n",
       "        [0.5707265 ],\n",
       "        [0.5861726 ],\n",
       "        [0.60153438],\n",
       "        [0.61679681],\n",
       "        [0.63194496],\n",
       "        [0.64696401],\n",
       "        [0.66183926],\n",
       "        [0.67655617],\n",
       "        [0.69110032],\n",
       "        [0.7054575 ],\n",
       "        [0.71961365]]])"
      ]
     },
     "execution_count": 33,
     "metadata": {},
     "output_type": "execute_result"
    }
   ],
   "source": [
    "first_eval_batch = first_eval_batch.reshape((1, length, n_features))\n",
    "\n",
    "first_eval_batch"
   ]
  },
  {
   "cell_type": "markdown",
   "id": "32932919",
   "metadata": {},
   "source": [
    "### Evaluate Model"
   ]
  },
  {
   "cell_type": "code",
   "execution_count": 34,
   "id": "41a34c84",
   "metadata": {},
   "outputs": [
    {
     "name": "stdout",
     "output_type": "stream",
     "text": [
      "1/1 [==============================] - 0s 171ms/step\n",
      "1/1 [==============================] - 0s 18ms/step\n",
      "1/1 [==============================] - 0s 18ms/step\n",
      "1/1 [==============================] - 0s 18ms/step\n",
      "1/1 [==============================] - 0s 18ms/step\n",
      "1/1 [==============================] - 0s 18ms/step\n",
      "1/1 [==============================] - 0s 18ms/step\n",
      "1/1 [==============================] - 0s 18ms/step\n",
      "1/1 [==============================] - 0s 18ms/step\n",
      "1/1 [==============================] - 0s 18ms/step\n",
      "1/1 [==============================] - 0s 18ms/step\n",
      "1/1 [==============================] - 0s 17ms/step\n",
      "1/1 [==============================] - 0s 18ms/step\n",
      "1/1 [==============================] - 0s 18ms/step\n",
      "1/1 [==============================] - 0s 20ms/step\n",
      "1/1 [==============================] - 0s 18ms/step\n",
      "1/1 [==============================] - 0s 18ms/step\n",
      "1/1 [==============================] - 0s 18ms/step\n",
      "1/1 [==============================] - 0s 18ms/step\n",
      "1/1 [==============================] - 0s 18ms/step\n",
      "1/1 [==============================] - 0s 19ms/step\n",
      "1/1 [==============================] - 0s 19ms/step\n",
      "1/1 [==============================] - 0s 18ms/step\n",
      "1/1 [==============================] - 0s 18ms/step\n",
      "1/1 [==============================] - 0s 18ms/step\n",
      "1/1 [==============================] - 0s 18ms/step\n",
      "1/1 [==============================] - 0s 18ms/step\n",
      "1/1 [==============================] - 0s 18ms/step\n",
      "1/1 [==============================] - 0s 18ms/step\n",
      "1/1 [==============================] - 0s 18ms/step\n",
      "1/1 [==============================] - 0s 18ms/step\n",
      "1/1 [==============================] - 0s 18ms/step\n",
      "1/1 [==============================] - 0s 18ms/step\n",
      "1/1 [==============================] - 0s 18ms/step\n",
      "1/1 [==============================] - 0s 18ms/step\n",
      "1/1 [==============================] - 0s 18ms/step\n",
      "1/1 [==============================] - 0s 19ms/step\n",
      "1/1 [==============================] - 0s 18ms/step\n",
      "1/1 [==============================] - 0s 18ms/step\n",
      "1/1 [==============================] - 0s 18ms/step\n",
      "1/1 [==============================] - 0s 18ms/step\n",
      "1/1 [==============================] - 0s 17ms/step\n",
      "1/1 [==============================] - 0s 18ms/step\n",
      "1/1 [==============================] - 0s 17ms/step\n",
      "1/1 [==============================] - 0s 17ms/step\n",
      "1/1 [==============================] - 0s 18ms/step\n",
      "1/1 [==============================] - 0s 18ms/step\n",
      "1/1 [==============================] - 0s 18ms/step\n",
      "1/1 [==============================] - 0s 18ms/step\n",
      "1/1 [==============================] - 0s 18ms/step\n",
      "1/1 [==============================] - 0s 17ms/step\n",
      "1/1 [==============================] - 0s 18ms/step\n",
      "1/1 [==============================] - 0s 17ms/step\n",
      "1/1 [==============================] - 0s 18ms/step\n",
      "1/1 [==============================] - 0s 18ms/step\n",
      "1/1 [==============================] - 0s 18ms/step\n",
      "1/1 [==============================] - 0s 18ms/step\n",
      "1/1 [==============================] - 0s 17ms/step\n",
      "1/1 [==============================] - 0s 18ms/step\n",
      "1/1 [==============================] - 0s 18ms/step\n",
      "1/1 [==============================] - 0s 18ms/step\n",
      "1/1 [==============================] - 0s 19ms/step\n",
      "1/1 [==============================] - 0s 18ms/step\n",
      "1/1 [==============================] - 0s 19ms/step\n",
      "1/1 [==============================] - 0s 19ms/step\n",
      "1/1 [==============================] - 0s 18ms/step\n",
      "1/1 [==============================] - 0s 18ms/step\n",
      "1/1 [==============================] - 0s 18ms/step\n",
      "1/1 [==============================] - 0s 18ms/step\n",
      "1/1 [==============================] - 0s 19ms/step\n",
      "1/1 [==============================] - 0s 19ms/step\n",
      "1/1 [==============================] - 0s 18ms/step\n",
      "1/1 [==============================] - 0s 19ms/step\n",
      "1/1 [==============================] - 0s 18ms/step\n",
      "1/1 [==============================] - 0s 18ms/step\n",
      "1/1 [==============================] - 0s 18ms/step\n",
      "1/1 [==============================] - 0s 18ms/step\n",
      "1/1 [==============================] - 0s 17ms/step\n",
      "1/1 [==============================] - 0s 18ms/step\n",
      "1/1 [==============================] - 0s 18ms/step\n",
      "1/1 [==============================] - 0s 18ms/step\n",
      "1/1 [==============================] - 0s 18ms/step\n",
      "1/1 [==============================] - 0s 18ms/step\n",
      "1/1 [==============================] - 0s 18ms/step\n",
      "1/1 [==============================] - 0s 18ms/step\n",
      "1/1 [==============================] - 0s 18ms/step\n",
      "1/1 [==============================] - 0s 18ms/step\n",
      "1/1 [==============================] - 0s 18ms/step\n",
      "1/1 [==============================] - 0s 18ms/step\n",
      "1/1 [==============================] - 0s 18ms/step\n",
      "1/1 [==============================] - 0s 19ms/step\n",
      "1/1 [==============================] - 0s 18ms/step\n",
      "1/1 [==============================] - 0s 17ms/step\n",
      "1/1 [==============================] - 0s 18ms/step\n",
      "1/1 [==============================] - 0s 18ms/step\n",
      "1/1 [==============================] - 0s 18ms/step\n",
      "1/1 [==============================] - 0s 18ms/step\n",
      "1/1 [==============================] - 0s 17ms/step\n",
      "1/1 [==============================] - 0s 18ms/step\n",
      "1/1 [==============================] - 0s 17ms/step\n",
      "1/1 [==============================] - 0s 18ms/step\n",
      "1/1 [==============================] - 0s 18ms/step\n",
      "1/1 [==============================] - 0s 18ms/step\n",
      "1/1 [==============================] - 0s 18ms/step\n",
      "1/1 [==============================] - 0s 19ms/step\n",
      "1/1 [==============================] - 0s 18ms/step\n",
      "1/1 [==============================] - 0s 19ms/step\n",
      "1/1 [==============================] - 0s 18ms/step\n",
      "1/1 [==============================] - 0s 19ms/step\n",
      "1/1 [==============================] - 0s 17ms/step\n",
      "1/1 [==============================] - 0s 17ms/step\n",
      "1/1 [==============================] - 0s 18ms/step\n",
      "1/1 [==============================] - 0s 18ms/step\n",
      "1/1 [==============================] - 0s 17ms/step\n",
      "1/1 [==============================] - 0s 18ms/step\n",
      "1/1 [==============================] - 0s 18ms/step\n",
      "1/1 [==============================] - 0s 18ms/step\n",
      "1/1 [==============================] - 0s 19ms/step\n",
      "1/1 [==============================] - 0s 18ms/step\n",
      "1/1 [==============================] - 0s 18ms/step\n",
      "1/1 [==============================] - 0s 18ms/step\n",
      "1/1 [==============================] - 0s 18ms/step\n",
      "1/1 [==============================] - 0s 18ms/step\n",
      "1/1 [==============================] - 0s 17ms/step\n",
      "1/1 [==============================] - 0s 22ms/step\n",
      "1/1 [==============================] - 0s 18ms/step\n",
      "1/1 [==============================] - 0s 19ms/step\n",
      "1/1 [==============================] - 0s 18ms/step\n",
      "1/1 [==============================] - 0s 18ms/step\n",
      "1/1 [==============================] - 0s 18ms/step\n",
      "1/1 [==============================] - 0s 18ms/step\n",
      "1/1 [==============================] - 0s 17ms/step\n",
      "1/1 [==============================] - 0s 18ms/step\n",
      "1/1 [==============================] - 0s 19ms/step\n",
      "1/1 [==============================] - 0s 17ms/step\n",
      "1/1 [==============================] - 0s 17ms/step\n",
      "1/1 [==============================] - 0s 18ms/step\n",
      "1/1 [==============================] - 0s 18ms/step\n",
      "1/1 [==============================] - 0s 18ms/step\n",
      "1/1 [==============================] - 0s 18ms/step\n",
      "1/1 [==============================] - 0s 18ms/step\n",
      "1/1 [==============================] - 0s 17ms/step\n",
      "1/1 [==============================] - 0s 19ms/step\n",
      "1/1 [==============================] - 0s 17ms/step\n",
      "1/1 [==============================] - 0s 18ms/step\n",
      "1/1 [==============================] - 0s 18ms/step\n",
      "1/1 [==============================] - 0s 18ms/step\n",
      "1/1 [==============================] - 0s 17ms/step\n",
      "1/1 [==============================] - 0s 18ms/step\n",
      "1/1 [==============================] - 0s 18ms/step\n",
      "1/1 [==============================] - 0s 18ms/step\n",
      "1/1 [==============================] - 0s 18ms/step\n",
      "1/1 [==============================] - 0s 18ms/step\n",
      "1/1 [==============================] - 0s 17ms/step\n",
      "1/1 [==============================] - 0s 19ms/step\n",
      "1/1 [==============================] - 0s 18ms/step\n",
      "1/1 [==============================] - 0s 18ms/step\n",
      "1/1 [==============================] - 0s 18ms/step\n",
      "1/1 [==============================] - 0s 18ms/step\n",
      "1/1 [==============================] - 0s 18ms/step\n",
      "1/1 [==============================] - 0s 18ms/step\n",
      "1/1 [==============================] - 0s 18ms/step\n",
      "1/1 [==============================] - 0s 18ms/step\n",
      "1/1 [==============================] - 0s 18ms/step\n",
      "1/1 [==============================] - 0s 18ms/step\n",
      "1/1 [==============================] - 0s 18ms/step\n",
      "1/1 [==============================] - 0s 18ms/step\n",
      "1/1 [==============================] - 0s 18ms/step\n",
      "1/1 [==============================] - 0s 17ms/step\n",
      "1/1 [==============================] - 0s 18ms/step\n",
      "1/1 [==============================] - 0s 17ms/step\n",
      "1/1 [==============================] - 0s 18ms/step\n",
      "1/1 [==============================] - 0s 17ms/step\n",
      "1/1 [==============================] - 0s 18ms/step\n",
      "1/1 [==============================] - 0s 18ms/step\n",
      "1/1 [==============================] - 0s 18ms/step\n",
      "1/1 [==============================] - 0s 18ms/step\n",
      "1/1 [==============================] - 0s 18ms/step\n",
      "1/1 [==============================] - 0s 18ms/step\n",
      "1/1 [==============================] - 0s 18ms/step\n",
      "1/1 [==============================] - 0s 18ms/step\n",
      "1/1 [==============================] - 0s 17ms/step\n",
      "1/1 [==============================] - 0s 17ms/step\n",
      "1/1 [==============================] - 0s 18ms/step\n",
      "1/1 [==============================] - 0s 17ms/step\n",
      "1/1 [==============================] - 0s 18ms/step\n",
      "1/1 [==============================] - 0s 18ms/step\n",
      "1/1 [==============================] - 0s 19ms/step\n",
      "1/1 [==============================] - 0s 17ms/step\n",
      "1/1 [==============================] - 0s 18ms/step\n",
      "1/1 [==============================] - 0s 18ms/step\n",
      "1/1 [==============================] - 0s 17ms/step\n",
      "1/1 [==============================] - 0s 18ms/step\n",
      "1/1 [==============================] - 0s 17ms/step\n",
      "1/1 [==============================] - 0s 18ms/step\n",
      "1/1 [==============================] - 0s 18ms/step\n",
      "1/1 [==============================] - 0s 18ms/step\n",
      "1/1 [==============================] - 0s 18ms/step\n",
      "1/1 [==============================] - 0s 18ms/step\n",
      "1/1 [==============================] - 0s 18ms/step\n",
      "1/1 [==============================] - 0s 18ms/step\n",
      "1/1 [==============================] - 0s 17ms/step\n",
      "1/1 [==============================] - 0s 18ms/step\n",
      "1/1 [==============================] - 0s 18ms/step\n",
      "1/1 [==============================] - 0s 18ms/step\n"
     ]
    }
   ],
   "source": [
    "# Declare a list to store all the predictions\n",
    "# Similar to: test_predictions = list();\n",
    "test_predictions = []\n",
    "\n",
    "# Get the first time series batch for testing\n",
    "# The 1ist batch: The 1st time series input sequence\n",
    "# = the last 50 data points of the train data set\n",
    "first_eval_batch = normalized_train[-length:]\n",
    "\n",
    "# Reshape the batch into 3D array: #samples/batch x length x #features\n",
    "current_batch = first_eval_batch.reshape((1, length, n_features))\n",
    "\n",
    "#Run a FOR LOOP to make a prediction for each batch\n",
    "for i in range(len(data_test)):\n",
    "    \n",
    "    # Get the value of the first element: The prediction\n",
    "    current_pred = model.predict(current_batch)[0]\n",
    "    \n",
    "    # Store prediction into the list of predictions\n",
    "    test_predictions.append(current_pred)\n",
    "    \n",
    "    # Generate a new batch to prepare for the next iteration of testing\n",
    "    current_batch = np.append(current_batch[:,1:,:],[[current_pred]], axis=1)\n"
   ]
  },
  {
   "cell_type": "code",
   "execution_count": 35,
   "id": "3ef294b7",
   "metadata": {},
   "outputs": [
    {
     "data": {
      "text/plain": [
       "array([[ 0.46585751],\n",
       "       [ 0.49238212],\n",
       "       [ 0.51792196],\n",
       "       [ 0.54271949],\n",
       "       [ 0.56667232],\n",
       "       [ 0.5899918 ],\n",
       "       [ 0.61227799],\n",
       "       [ 0.63379016],\n",
       "       [ 0.65434427],\n",
       "       [ 0.6739732 ],\n",
       "       [ 0.69262953],\n",
       "       [ 0.71035794],\n",
       "       [ 0.72717883],\n",
       "       [ 0.74305499],\n",
       "       [ 0.75808872],\n",
       "       [ 0.77206997],\n",
       "       [ 0.78512306],\n",
       "       [ 0.79724276],\n",
       "       [ 0.80844421],\n",
       "       [ 0.81875971],\n",
       "       [ 0.8281039 ],\n",
       "       [ 0.83656417],\n",
       "       [ 0.84412169],\n",
       "       [ 0.85077465],\n",
       "       [ 0.85656539],\n",
       "       [ 0.8614746 ],\n",
       "       [ 0.86555197],\n",
       "       [ 0.86873075],\n",
       "       [ 0.87112229],\n",
       "       [ 0.87265327],\n",
       "       [ 0.87342276],\n",
       "       [ 0.87331726],\n",
       "       [ 0.87250844],\n",
       "       [ 0.87086087],\n",
       "       [ 0.86849115],\n",
       "       [ 0.86535349],\n",
       "       [ 0.86149748],\n",
       "       [ 0.85690502],\n",
       "       [ 0.85161602],\n",
       "       [ 0.84561047],\n",
       "       [ 0.83893211],\n",
       "       [ 0.83158118],\n",
       "       [ 0.82356174],\n",
       "       [ 0.81489429],\n",
       "       [ 0.80557954],\n",
       "       [ 0.79564157],\n",
       "       [ 0.7850724 ],\n",
       "       [ 0.77390099],\n",
       "       [ 0.76211543],\n",
       "       [ 0.74975171],\n",
       "       [ 0.7368084 ],\n",
       "       [ 0.72330196],\n",
       "       [ 0.70924371],\n",
       "       [ 0.69465605],\n",
       "       [ 0.67952219],\n",
       "       [ 0.66388599],\n",
       "       [ 0.64773362],\n",
       "       [ 0.63109858],\n",
       "       [ 0.61397312],\n",
       "       [ 0.59638835],\n",
       "       [ 0.57833808],\n",
       "       [ 0.55985186],\n",
       "       [ 0.54092482],\n",
       "       [ 0.52158246],\n",
       "       [ 0.50182132],\n",
       "       [ 0.48166871],\n",
       "       [ 0.46112259],\n",
       "       [ 0.44020347],\n",
       "       [ 0.41891803],\n",
       "       [ 0.39727973],\n",
       "       [ 0.3752968 ],\n",
       "       [ 0.35298498],\n",
       "       [ 0.33035226],\n",
       "       [ 0.30741138],\n",
       "       [ 0.28417547],\n",
       "       [ 0.26065274],\n",
       "       [ 0.23686072],\n",
       "       [ 0.21280728],\n",
       "       [ 0.18850994],\n",
       "       [ 0.16397586],\n",
       "       [ 0.13922648],\n",
       "       [ 0.11426766],\n",
       "       [ 0.08912109],\n",
       "       [ 0.06379607],\n",
       "       [ 0.03831452],\n",
       "       [ 0.01268516],\n",
       "       [-0.01306711],\n",
       "       [-0.03893196],\n",
       "       [-0.06488599],\n",
       "       [-0.09091452],\n",
       "       [-0.11699472],\n",
       "       [-0.1431092 ],\n",
       "       [-0.16923518],\n",
       "       [-0.1953527 ],\n",
       "       [-0.22143844],\n",
       "       [-0.24747049],\n",
       "       [-0.27342481],\n",
       "       [-0.29927769],\n",
       "       [-0.32500468],\n",
       "       [-0.35057974],\n",
       "       [-0.37597808],\n",
       "       [-0.40117305],\n",
       "       [-0.42613938],\n",
       "       [-0.45084882],\n",
       "       [-0.47527586],\n",
       "       [-0.49939188],\n",
       "       [-0.52317097],\n",
       "       [-0.54658438],\n",
       "       [-0.56960653],\n",
       "       [-0.59220841],\n",
       "       [-0.6143655 ],\n",
       "       [-0.63604847],\n",
       "       [-0.65723381],\n",
       "       [-0.67789332],\n",
       "       [-0.6980038 ],\n",
       "       [-0.71753844],\n",
       "       [-0.73647523],\n",
       "       [-0.75478892],\n",
       "       [-0.77245869],\n",
       "       [-0.78946127],\n",
       "       [-0.80577713],\n",
       "       [-0.82138502],\n",
       "       [-0.83626712],\n",
       "       [-0.85040451],\n",
       "       [-0.86378057],\n",
       "       [-0.87637926],\n",
       "       [-0.88818558],\n",
       "       [-0.89918567],\n",
       "       [-0.90936639],\n",
       "       [-0.91871636],\n",
       "       [-0.92722426],\n",
       "       [-0.93488085],\n",
       "       [-0.94167686],\n",
       "       [-0.94760489],\n",
       "       [-0.95265782],\n",
       "       [-0.95683024],\n",
       "       [-0.96011652],\n",
       "       [-0.96251325],\n",
       "       [-0.96401666],\n",
       "       [-0.96462486],\n",
       "       [-0.96433574],\n",
       "       [-0.96314893],\n",
       "       [-0.96106392],\n",
       "       [-0.95808179],\n",
       "       [-0.95420328],\n",
       "       [-0.94943106],\n",
       "       [-0.94376713],\n",
       "       [-0.93721511],\n",
       "       [-0.92977862],\n",
       "       [-0.9214625 ],\n",
       "       [-0.91227145],\n",
       "       [-0.9022114 ],\n",
       "       [-0.89128846],\n",
       "       [-0.87950954],\n",
       "       [-0.86688217],\n",
       "       [-0.8534143 ],\n",
       "       [-0.8391148 ],\n",
       "       [-0.82399297],\n",
       "       [-0.8080589 ],\n",
       "       [-0.79132314],\n",
       "       [-0.77379745],\n",
       "       [-0.75549376],\n",
       "       [-0.73642531],\n",
       "       [-0.7166057 ],\n",
       "       [-0.69605004],\n",
       "       [-0.67477318],\n",
       "       [-0.65279249],\n",
       "       [-0.63012481],\n",
       "       [-0.60678906],\n",
       "       [-0.58280455],\n",
       "       [-0.55819203],\n",
       "       [-0.5329731 ],\n",
       "       [-0.50717079],\n",
       "       [-0.48080917],\n",
       "       [-0.45391347],\n",
       "       [-0.42651042],\n",
       "       [-0.39862714],\n",
       "       [-0.37029296],\n",
       "       [-0.34153786],\n",
       "       [-0.31239337],\n",
       "       [-0.28289179],\n",
       "       [-0.2530671 ],\n",
       "       [-0.22295405],\n",
       "       [-0.19258828],\n",
       "       [-0.16200727],\n",
       "       [-0.13124859],\n",
       "       [-0.1003511 ],\n",
       "       [-0.06935436],\n",
       "       [-0.03829897],\n",
       "       [-0.00722594],\n",
       "       [ 0.02382354],\n",
       "       [ 0.05480747],\n",
       "       [ 0.08568339],\n",
       "       [ 0.1164097 ],\n",
       "       [ 0.14694338],\n",
       "       [ 0.17724293],\n",
       "       [ 0.20726699],\n",
       "       [ 0.23697301],\n",
       "       [ 0.26632153],\n",
       "       [ 0.29527153],\n",
       "       [ 0.32378441],\n",
       "       [ 0.351822  ],\n",
       "       [ 0.37934664],\n",
       "       [ 0.40632245],\n",
       "       [ 0.432717  ]])"
      ]
     },
     "execution_count": 35,
     "metadata": {},
     "output_type": "execute_result"
    }
   ],
   "source": [
    "# Convert the scaled result back to the real values\n",
    "true_predictions = scaler.inverse_transform(test_predictions)\n",
    "\n",
    "true_predictions"
   ]
  },
  {
   "cell_type": "code",
   "execution_count": 36,
   "id": "fb3bed5c",
   "metadata": {},
   "outputs": [
    {
     "data": {
      "text/plain": [
       "(50, 1)"
      ]
     },
     "execution_count": 36,
     "metadata": {},
     "output_type": "execute_result"
    }
   ],
   "source": [
    "first_eval_batch.shape"
   ]
  },
  {
   "cell_type": "code",
   "execution_count": 37,
   "id": "d0ba7adf",
   "metadata": {},
   "outputs": [
    {
     "data": {
      "text/html": [
       "<div>\n",
       "<style scoped>\n",
       "    .dataframe tbody tr th:only-of-type {\n",
       "        vertical-align: middle;\n",
       "    }\n",
       "\n",
       "    .dataframe tbody tr th {\n",
       "        vertical-align: top;\n",
       "    }\n",
       "\n",
       "    .dataframe thead th {\n",
       "        text-align: right;\n",
       "    }\n",
       "</style>\n",
       "<table border=\"1\" class=\"dataframe\">\n",
       "  <thead>\n",
       "    <tr style=\"text-align: right;\">\n",
       "      <th></th>\n",
       "      <th>Sine</th>\n",
       "    </tr>\n",
       "  </thead>\n",
       "  <tbody>\n",
       "    <tr>\n",
       "      <th>25.618768</th>\n",
       "      <td>0.467117</td>\n",
       "    </tr>\n",
       "    <tr>\n",
       "      <th>25.650049</th>\n",
       "      <td>0.494542</td>\n",
       "    </tr>\n",
       "    <tr>\n",
       "      <th>25.681329</th>\n",
       "      <td>0.521483</td>\n",
       "    </tr>\n",
       "    <tr>\n",
       "      <th>25.712610</th>\n",
       "      <td>0.547914</td>\n",
       "    </tr>\n",
       "    <tr>\n",
       "      <th>25.743891</th>\n",
       "      <td>0.573809</td>\n",
       "    </tr>\n",
       "    <tr>\n",
       "      <th>...</th>\n",
       "      <td>...</td>\n",
       "    </tr>\n",
       "    <tr>\n",
       "      <th>31.874878</th>\n",
       "      <td>0.443008</td>\n",
       "    </tr>\n",
       "    <tr>\n",
       "      <th>31.906158</th>\n",
       "      <td>0.470830</td>\n",
       "    </tr>\n",
       "    <tr>\n",
       "      <th>31.937439</th>\n",
       "      <td>0.498192</td>\n",
       "    </tr>\n",
       "    <tr>\n",
       "      <th>31.968719</th>\n",
       "      <td>0.525066</td>\n",
       "    </tr>\n",
       "    <tr>\n",
       "      <th>32.000000</th>\n",
       "      <td>0.551427</td>\n",
       "    </tr>\n",
       "  </tbody>\n",
       "</table>\n",
       "<p>205 rows × 1 columns</p>\n",
       "</div>"
      ],
      "text/plain": [
       "               Sine\n",
       "25.618768  0.467117\n",
       "25.650049  0.494542\n",
       "25.681329  0.521483\n",
       "25.712610  0.547914\n",
       "25.743891  0.573809\n",
       "...             ...\n",
       "31.874878  0.443008\n",
       "31.906158  0.470830\n",
       "31.937439  0.498192\n",
       "31.968719  0.525066\n",
       "32.000000  0.551427\n",
       "\n",
       "[205 rows x 1 columns]"
      ]
     },
     "execution_count": 37,
     "metadata": {},
     "output_type": "execute_result"
    }
   ],
   "source": [
    "data_test"
   ]
  },
  {
   "cell_type": "code",
   "execution_count": 38,
   "id": "6fe50649",
   "metadata": {},
   "outputs": [
    {
     "name": "stderr",
     "output_type": "stream",
     "text": [
      "C:\\Users\\trisa\\AppData\\Local\\Temp\\ipykernel_25996\\1287699972.py:6: SettingWithCopyWarning: \n",
      "A value is trying to be set on a copy of a slice from a DataFrame.\n",
      "Try using .loc[row_indexer,col_indexer] = value instead\n",
      "\n",
      "See the caveats in the documentation: https://pandas.pydata.org/pandas-docs/stable/user_guide/indexing.html#returning-a-view-versus-a-copy\n",
      "  data_test['Predictions'] = true_predictions\n"
     ]
    }
   ],
   "source": [
    "# Notes: A warning will be displayed and that is okay.\n",
    "\n",
    "# Copy the true values of predictions into the dataframe of the original test data\n",
    "# Add it as another column/attribute \n",
    "\n",
    "data_test['Predictions'] = true_predictions"
   ]
  },
  {
   "cell_type": "code",
   "execution_count": 39,
   "id": "7d557de2",
   "metadata": {},
   "outputs": [
    {
     "data": {
      "text/html": [
       "<div>\n",
       "<style scoped>\n",
       "    .dataframe tbody tr th:only-of-type {\n",
       "        vertical-align: middle;\n",
       "    }\n",
       "\n",
       "    .dataframe tbody tr th {\n",
       "        vertical-align: top;\n",
       "    }\n",
       "\n",
       "    .dataframe thead th {\n",
       "        text-align: right;\n",
       "    }\n",
       "</style>\n",
       "<table border=\"1\" class=\"dataframe\">\n",
       "  <thead>\n",
       "    <tr style=\"text-align: right;\">\n",
       "      <th></th>\n",
       "      <th>Sine</th>\n",
       "      <th>Predictions</th>\n",
       "    </tr>\n",
       "  </thead>\n",
       "  <tbody>\n",
       "    <tr>\n",
       "      <th>25.618768</th>\n",
       "      <td>0.467117</td>\n",
       "      <td>0.465858</td>\n",
       "    </tr>\n",
       "    <tr>\n",
       "      <th>25.650049</th>\n",
       "      <td>0.494542</td>\n",
       "      <td>0.492382</td>\n",
       "    </tr>\n",
       "    <tr>\n",
       "      <th>25.681329</th>\n",
       "      <td>0.521483</td>\n",
       "      <td>0.517922</td>\n",
       "    </tr>\n",
       "    <tr>\n",
       "      <th>25.712610</th>\n",
       "      <td>0.547914</td>\n",
       "      <td>0.542719</td>\n",
       "    </tr>\n",
       "    <tr>\n",
       "      <th>25.743891</th>\n",
       "      <td>0.573809</td>\n",
       "      <td>0.566672</td>\n",
       "    </tr>\n",
       "    <tr>\n",
       "      <th>...</th>\n",
       "      <td>...</td>\n",
       "      <td>...</td>\n",
       "    </tr>\n",
       "    <tr>\n",
       "      <th>31.874878</th>\n",
       "      <td>0.443008</td>\n",
       "      <td>0.323784</td>\n",
       "    </tr>\n",
       "    <tr>\n",
       "      <th>31.906158</th>\n",
       "      <td>0.470830</td>\n",
       "      <td>0.351822</td>\n",
       "    </tr>\n",
       "    <tr>\n",
       "      <th>31.937439</th>\n",
       "      <td>0.498192</td>\n",
       "      <td>0.379347</td>\n",
       "    </tr>\n",
       "    <tr>\n",
       "      <th>31.968719</th>\n",
       "      <td>0.525066</td>\n",
       "      <td>0.406322</td>\n",
       "    </tr>\n",
       "    <tr>\n",
       "      <th>32.000000</th>\n",
       "      <td>0.551427</td>\n",
       "      <td>0.432717</td>\n",
       "    </tr>\n",
       "  </tbody>\n",
       "</table>\n",
       "<p>205 rows × 2 columns</p>\n",
       "</div>"
      ],
      "text/plain": [
       "               Sine  Predictions\n",
       "25.618768  0.467117     0.465858\n",
       "25.650049  0.494542     0.492382\n",
       "25.681329  0.521483     0.517922\n",
       "25.712610  0.547914     0.542719\n",
       "25.743891  0.573809     0.566672\n",
       "...             ...          ...\n",
       "31.874878  0.443008     0.323784\n",
       "31.906158  0.470830     0.351822\n",
       "31.937439  0.498192     0.379347\n",
       "31.968719  0.525066     0.406322\n",
       "32.000000  0.551427     0.432717\n",
       "\n",
       "[205 rows x 2 columns]"
      ]
     },
     "execution_count": 39,
     "metadata": {},
     "output_type": "execute_result"
    }
   ],
   "source": [
    "# Updated data_test\n",
    "data_test"
   ]
  },
  {
   "cell_type": "code",
   "execution_count": 40,
   "id": "eedaffd6",
   "metadata": {},
   "outputs": [
    {
     "data": {
      "text/plain": [
       "<AxesSubplot:>"
      ]
     },
     "execution_count": 40,
     "metadata": {},
     "output_type": "execute_result"
    },
    {
     "data": {
      "image/png": "[encoded data removed]",
      "text/plain": [
       "<Figure size 864x576 with 1 Axes>"
      ]
     },
     "metadata": {
      "needs_background": "light"
     },
     "output_type": "display_data"
    }
   ],
   "source": [
    "# Visualize the data of the updated test data\n",
    "# Compare the predicted sine wave against the original sine wave\n",
    "\n",
    "data_test.plot(figsize=(12,8))"
   ]
  },
  {
   "cell_type": "code",
   "execution_count": null,
   "id": "378aa164",
   "metadata": {},
   "outputs": [],
   "source": []
  },
  {
   "cell_type": "code",
   "execution_count": null,
   "id": "8580f8b2",
   "metadata": {},
   "outputs": [],
   "source": []
  }
 ],
 "metadata": {
  "kernelspec": {
   "display_name": "Python 3 (ipykernel)",
   "language": "python",
   "name": "python3"
  },
  "language_info": {
   "codemirror_mode": {
    "name": "ipython",
    "version": 3
   },
   "file_extension": ".py",
   "mimetype": "text/x-python",
   "name": "python",
   "nbconvert_exporter": "python",
   "pygments_lexer": "ipython3",
   "version": "3.9.12"
  }
 },
 "nbformat": 4,
 "nbformat_minor": 5
}
