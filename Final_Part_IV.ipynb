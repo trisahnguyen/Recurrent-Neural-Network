{
 "cells": [
  {
   "cell_type": "markdown",
   "id": "a5d6d37f",
   "metadata": {},
   "source": [
    "#### Trisa Nguyen\n",
    "#### October 17, 2022\n",
    "#### ADTA 5560"
   ]
  },
  {
   "cell_type": "markdown",
   "id": "ef2a32b1",
   "metadata": {},
   "source": [
    "### PART I: Build, Train, and Test an LSTM with Time Series Data"
   ]
  },
  {
   "cell_type": "markdown",
   "id": "16360d3d",
   "metadata": {},
   "source": [
    "### Import libraries"
   ]
  },
  {
   "cell_type": "code",
   "execution_count": 1,
   "id": "50c97d3f",
   "metadata": {},
   "outputs": [],
   "source": [
    "# Basic libraries\n",
    "\n",
    "import pandas as pd\n",
    "import numpy as np\n",
    "import matplotlib.pyplot as plt\n",
    "%matplotlib inline"
   ]
  },
  {
   "cell_type": "code",
   "execution_count": 2,
   "id": "9830e9c9",
   "metadata": {},
   "outputs": [],
   "source": [
    "# Time series RNN LSTM\n",
    "\n",
    "from tensorflow.keras.models import Sequential\n",
    "from tensorflow.keras.layers import LSTM\n",
    "from tensorflow.keras.layers import Dropout\n",
    "from tensorflow.keras.layers import Dense"
   ]
  },
  {
   "cell_type": "code",
   "execution_count": 3,
   "id": "d5c96c92",
   "metadata": {},
   "outputs": [],
   "source": [
    "# Keras:TimeseriesGenerator\n",
    "\n",
    "# This class produces time series batches used on training/testing the model\n",
    "from tensorflow.keras.preprocessing.sequence import TimeseriesGenerator\n",
    "\n",
    "# Keras: MinMaxScaler\n",
    "#This class is used to preprocess (scale) the data\n",
    "from sklearn.preprocessing import MinMaxScaler"
   ]
  },
  {
   "cell_type": "markdown",
   "id": "d8f50d99",
   "metadata": {},
   "source": [
    "### Import Dataset: "
   ]
  },
  {
   "cell_type": "code",
   "execution_count": 4,
   "id": "b471c7ad",
   "metadata": {},
   "outputs": [],
   "source": [
    "dir_path_dataset_1 = 'DELHI_01013_123116.csv'"
   ]
  },
  {
   "cell_type": "markdown",
   "id": "ee7ce5b9",
   "metadata": {},
   "source": [
    "### Load Dataset"
   ]
  },
  {
   "cell_type": "code",
   "execution_count": 5,
   "id": "eab49714",
   "metadata": {},
   "outputs": [],
   "source": [
    "df_ALL = pd.read_csv(dir_path_dataset_1)"
   ]
  },
  {
   "cell_type": "code",
   "execution_count": 6,
   "id": "89f83444",
   "metadata": {},
   "outputs": [
    {
     "data": {
      "text/html": [
       "<div>\n",
       "<style scoped>\n",
       "    .dataframe tbody tr th:only-of-type {\n",
       "        vertical-align: middle;\n",
       "    }\n",
       "\n",
       "    .dataframe tbody tr th {\n",
       "        vertical-align: top;\n",
       "    }\n",
       "\n",
       "    .dataframe thead th {\n",
       "        text-align: right;\n",
       "    }\n",
       "</style>\n",
       "<table border=\"1\" class=\"dataframe\">\n",
       "  <thead>\n",
       "    <tr style=\"text-align: right;\">\n",
       "      <th></th>\n",
       "      <th>date</th>\n",
       "      <th>meantemp</th>\n",
       "      <th>humidity</th>\n",
       "      <th>wind_speed</th>\n",
       "      <th>meanpressure</th>\n",
       "    </tr>\n",
       "  </thead>\n",
       "  <tbody>\n",
       "    <tr>\n",
       "      <th>0</th>\n",
       "      <td>2013-01-01</td>\n",
       "      <td>10.000000</td>\n",
       "      <td>84.500000</td>\n",
       "      <td>0.000000</td>\n",
       "      <td>1015.666667</td>\n",
       "    </tr>\n",
       "    <tr>\n",
       "      <th>1</th>\n",
       "      <td>2013-01-02</td>\n",
       "      <td>7.400000</td>\n",
       "      <td>92.000000</td>\n",
       "      <td>2.980000</td>\n",
       "      <td>1017.800000</td>\n",
       "    </tr>\n",
       "    <tr>\n",
       "      <th>2</th>\n",
       "      <td>2013-01-03</td>\n",
       "      <td>7.166667</td>\n",
       "      <td>87.000000</td>\n",
       "      <td>4.633333</td>\n",
       "      <td>1018.666667</td>\n",
       "    </tr>\n",
       "    <tr>\n",
       "      <th>3</th>\n",
       "      <td>2013-01-04</td>\n",
       "      <td>8.666667</td>\n",
       "      <td>71.333333</td>\n",
       "      <td>1.233333</td>\n",
       "      <td>1017.166667</td>\n",
       "    </tr>\n",
       "    <tr>\n",
       "      <th>4</th>\n",
       "      <td>2013-01-05</td>\n",
       "      <td>6.000000</td>\n",
       "      <td>86.833333</td>\n",
       "      <td>3.700000</td>\n",
       "      <td>1016.500000</td>\n",
       "    </tr>\n",
       "  </tbody>\n",
       "</table>\n",
       "</div>"
      ],
      "text/plain": [
       "         date   meantemp   humidity  wind_speed  meanpressure\n",
       "0  2013-01-01  10.000000  84.500000    0.000000   1015.666667\n",
       "1  2013-01-02   7.400000  92.000000    2.980000   1017.800000\n",
       "2  2013-01-03   7.166667  87.000000    4.633333   1018.666667\n",
       "3  2013-01-04   8.666667  71.333333    1.233333   1017.166667\n",
       "4  2013-01-05   6.000000  86.833333    3.700000   1016.500000"
      ]
     },
     "execution_count": 6,
     "metadata": {},
     "output_type": "execute_result"
    }
   ],
   "source": [
    "df_ALL.head()"
   ]
  },
  {
   "cell_type": "markdown",
   "id": "fde8c756",
   "metadata": {},
   "source": [
    "### Exploratory Data Analysis"
   ]
  },
  {
   "cell_type": "code",
   "execution_count": 7,
   "id": "689affdc",
   "metadata": {},
   "outputs": [
    {
     "data": {
      "text/plain": [
       "(1462, 5)"
      ]
     },
     "execution_count": 7,
     "metadata": {},
     "output_type": "execute_result"
    }
   ],
   "source": [
    "df_ALL.shape"
   ]
  },
  {
   "cell_type": "code",
   "execution_count": 8,
   "id": "6acaf004",
   "metadata": {},
   "outputs": [
    {
     "data": {
      "text/plain": [
       "date             object\n",
       "meantemp        float64\n",
       "humidity        float64\n",
       "wind_speed      float64\n",
       "meanpressure    float64\n",
       "dtype: object"
      ]
     },
     "execution_count": 8,
     "metadata": {},
     "output_type": "execute_result"
    }
   ],
   "source": [
    "df_ALL.dtypes"
   ]
  },
  {
   "cell_type": "code",
   "execution_count": 9,
   "id": "b738265b",
   "metadata": {},
   "outputs": [
    {
     "data": {
      "text/html": [
       "<div>\n",
       "<style scoped>\n",
       "    .dataframe tbody tr th:only-of-type {\n",
       "        vertical-align: middle;\n",
       "    }\n",
       "\n",
       "    .dataframe tbody tr th {\n",
       "        vertical-align: top;\n",
       "    }\n",
       "\n",
       "    .dataframe thead th {\n",
       "        text-align: right;\n",
       "    }\n",
       "</style>\n",
       "<table border=\"1\" class=\"dataframe\">\n",
       "  <thead>\n",
       "    <tr style=\"text-align: right;\">\n",
       "      <th></th>\n",
       "      <th>meantemp</th>\n",
       "      <th>humidity</th>\n",
       "      <th>wind_speed</th>\n",
       "      <th>meanpressure</th>\n",
       "    </tr>\n",
       "  </thead>\n",
       "  <tbody>\n",
       "    <tr>\n",
       "      <th>count</th>\n",
       "      <td>1462.000000</td>\n",
       "      <td>1462.000000</td>\n",
       "      <td>1462.000000</td>\n",
       "      <td>1462.000000</td>\n",
       "    </tr>\n",
       "    <tr>\n",
       "      <th>mean</th>\n",
       "      <td>25.495521</td>\n",
       "      <td>60.771702</td>\n",
       "      <td>6.802209</td>\n",
       "      <td>1011.104548</td>\n",
       "    </tr>\n",
       "    <tr>\n",
       "      <th>std</th>\n",
       "      <td>7.348103</td>\n",
       "      <td>16.769652</td>\n",
       "      <td>4.561602</td>\n",
       "      <td>180.231668</td>\n",
       "    </tr>\n",
       "    <tr>\n",
       "      <th>min</th>\n",
       "      <td>6.000000</td>\n",
       "      <td>13.428571</td>\n",
       "      <td>0.000000</td>\n",
       "      <td>-3.041667</td>\n",
       "    </tr>\n",
       "    <tr>\n",
       "      <th>25%</th>\n",
       "      <td>18.857143</td>\n",
       "      <td>50.375000</td>\n",
       "      <td>3.475000</td>\n",
       "      <td>1001.580357</td>\n",
       "    </tr>\n",
       "    <tr>\n",
       "      <th>50%</th>\n",
       "      <td>27.714286</td>\n",
       "      <td>62.625000</td>\n",
       "      <td>6.221667</td>\n",
       "      <td>1008.563492</td>\n",
       "    </tr>\n",
       "    <tr>\n",
       "      <th>75%</th>\n",
       "      <td>31.305804</td>\n",
       "      <td>72.218750</td>\n",
       "      <td>9.238235</td>\n",
       "      <td>1014.944901</td>\n",
       "    </tr>\n",
       "    <tr>\n",
       "      <th>max</th>\n",
       "      <td>38.714286</td>\n",
       "      <td>100.000000</td>\n",
       "      <td>42.220000</td>\n",
       "      <td>7679.333333</td>\n",
       "    </tr>\n",
       "  </tbody>\n",
       "</table>\n",
       "</div>"
      ],
      "text/plain": [
       "          meantemp     humidity   wind_speed  meanpressure\n",
       "count  1462.000000  1462.000000  1462.000000   1462.000000\n",
       "mean     25.495521    60.771702     6.802209   1011.104548\n",
       "std       7.348103    16.769652     4.561602    180.231668\n",
       "min       6.000000    13.428571     0.000000     -3.041667\n",
       "25%      18.857143    50.375000     3.475000   1001.580357\n",
       "50%      27.714286    62.625000     6.221667   1008.563492\n",
       "75%      31.305804    72.218750     9.238235   1014.944901\n",
       "max      38.714286   100.000000    42.220000   7679.333333"
      ]
     },
     "execution_count": 9,
     "metadata": {},
     "output_type": "execute_result"
    }
   ],
   "source": [
    "# Summary statistics\n",
    "\n",
    "df_ALL.describe()"
   ]
  },
  {
   "cell_type": "markdown",
   "id": "4d4cb571",
   "metadata": {},
   "source": [
    "#### Keep Only \"Close\" (for closing price) and Filter Out All Other Attributes\n",
    "##### Note: The research focuses only on the closing price"
   ]
  },
  {
   "cell_type": "code",
   "execution_count": 10,
   "id": "9f47c106",
   "metadata": {},
   "outputs": [],
   "source": [
    "df = df_ALL.iloc[:,1:2]"
   ]
  },
  {
   "cell_type": "code",
   "execution_count": 11,
   "id": "f711226c",
   "metadata": {},
   "outputs": [
    {
     "data": {
      "text/html": [
       "<div>\n",
       "<style scoped>\n",
       "    .dataframe tbody tr th:only-of-type {\n",
       "        vertical-align: middle;\n",
       "    }\n",
       "\n",
       "    .dataframe tbody tr th {\n",
       "        vertical-align: top;\n",
       "    }\n",
       "\n",
       "    .dataframe thead th {\n",
       "        text-align: right;\n",
       "    }\n",
       "</style>\n",
       "<table border=\"1\" class=\"dataframe\">\n",
       "  <thead>\n",
       "    <tr style=\"text-align: right;\">\n",
       "      <th></th>\n",
       "      <th>meantemp</th>\n",
       "    </tr>\n",
       "  </thead>\n",
       "  <tbody>\n",
       "    <tr>\n",
       "      <th>0</th>\n",
       "      <td>10.000000</td>\n",
       "    </tr>\n",
       "    <tr>\n",
       "      <th>1</th>\n",
       "      <td>7.400000</td>\n",
       "    </tr>\n",
       "    <tr>\n",
       "      <th>2</th>\n",
       "      <td>7.166667</td>\n",
       "    </tr>\n",
       "    <tr>\n",
       "      <th>3</th>\n",
       "      <td>8.666667</td>\n",
       "    </tr>\n",
       "    <tr>\n",
       "      <th>4</th>\n",
       "      <td>6.000000</td>\n",
       "    </tr>\n",
       "  </tbody>\n",
       "</table>\n",
       "</div>"
      ],
      "text/plain": [
       "    meantemp\n",
       "0  10.000000\n",
       "1   7.400000\n",
       "2   7.166667\n",
       "3   8.666667\n",
       "4   6.000000"
      ]
     },
     "execution_count": 11,
     "metadata": {},
     "output_type": "execute_result"
    }
   ],
   "source": [
    "df.head()"
   ]
  },
  {
   "cell_type": "code",
   "execution_count": 12,
   "id": "400f9d90",
   "metadata": {},
   "outputs": [
    {
     "data": {
      "text/plain": [
       "<AxesSubplot:>"
      ]
     },
     "execution_count": 12,
     "metadata": {},
     "output_type": "execute_result"
    },
    {
     "data": {
      "image/png": "[encoded data removed]",
      "text/plain": [
       "<Figure size 864x576 with 1 Axes>"
      ]
     },
     "metadata": {
      "needs_background": "light"
     },
     "output_type": "display_data"
    }
   ],
   "source": [
    "df.plot(figsize=(12, 8))"
   ]
  },
  {
   "cell_type": "markdown",
   "id": "c655eefb",
   "metadata": {},
   "source": [
    "#### Length of Input Time Series - Number of Input Time Steps"
   ]
  },
  {
   "cell_type": "code",
   "execution_count": 13,
   "id": "0b56fd55",
   "metadata": {},
   "outputs": [],
   "source": [
    "# Set the length of the input sequence\n",
    "# I.e the number of time series steps that are used to predict the future one\n",
    "# Currently use 60 historical data points to predict the next one\n",
    "# It means that 60 consecutive closing prices will be used to predict the next one.\n",
    "\n",
    "length60 = 60"
   ]
  },
  {
   "cell_type": "code",
   "execution_count": 14,
   "id": "8e1da87f",
   "metadata": {},
   "outputs": [
    {
     "data": {
      "text/plain": [
       "60"
      ]
     },
     "execution_count": 14,
     "metadata": {},
     "output_type": "execute_result"
    }
   ],
   "source": [
    "length60"
   ]
  },
  {
   "cell_type": "markdown",
   "id": "6716c338",
   "metadata": {},
   "source": [
    "### Time Series Dataset: Train/test split"
   ]
  },
  {
   "cell_type": "code",
   "execution_count": 15,
   "id": "3df1d84b",
   "metadata": {},
   "outputs": [
    {
     "data": {
      "text/plain": [
       "1462"
      ]
     },
     "execution_count": 15,
     "metadata": {},
     "output_type": "execute_result"
    }
   ],
   "source": [
    "len(df)"
   ]
  },
  {
   "cell_type": "code",
   "execution_count": 16,
   "id": "1d1ed025",
   "metadata": {},
   "outputs": [],
   "source": [
    "# set percentage of data used for testing\n",
    "\n",
    "test_percent = 0.1"
   ]
  },
  {
   "cell_type": "code",
   "execution_count": 17,
   "id": "c9a790e4",
   "metadata": {},
   "outputs": [
    {
     "data": {
      "text/plain": [
       "146.20000000000002"
      ]
     },
     "execution_count": 17,
     "metadata": {},
     "output_type": "execute_result"
    }
   ],
   "source": [
    "# Number of data points reserved for testing the model\n",
    "# 20% of the orignal dataset\n",
    "\n",
    "len(df)*test_percent"
   ]
  },
  {
   "cell_type": "markdown",
   "id": "26654203",
   "metadata": {},
   "source": [
    "#### Split data into Train/Test"
   ]
  },
  {
   "cell_type": "code",
   "execution_count": 18,
   "id": "4061e4f5",
   "metadata": {},
   "outputs": [
    {
     "data": {
      "text/plain": [
       "146.0"
      ]
     },
     "execution_count": 18,
     "metadata": {},
     "output_type": "execute_result"
    }
   ],
   "source": [
    "# Need to find the length (number of data points) of the testing dataset\n",
    "# It has been fond(above) that around 146 data points are used for testing\n",
    "\n",
    "test_length = np.round(len(df)*test_percent)\n",
    "\n",
    "test_length"
   ]
  },
  {
   "cell_type": "code",
   "execution_count": 19,
   "id": "58595c4f",
   "metadata": {},
   "outputs": [
    {
     "data": {
      "text/plain": [
       "1316"
      ]
     },
     "execution_count": 19,
     "metadata": {},
     "output_type": "execute_result"
    }
   ],
   "source": [
    "# The testing data set starts at this index\n",
    "\n",
    "# test_start_index = int(len(df)- test_length)\n",
    "split_index = int(len(df) - test_length)\n",
    "\n",
    "split_index"
   ]
  },
  {
   "cell_type": "code",
   "execution_count": 20,
   "id": "7ab294e4",
   "metadata": {},
   "outputs": [],
   "source": [
    "# Create separate training / testing dataset\n",
    "\n",
    "# Training dataset: All the indices from start to split_index\n",
    "# Excluding split_index\n",
    "data_train = df.iloc[:split_index]\n",
    "\n",
    "# Testing dataset: All the indices from (split_index - length60) to the end of the dataframe\n",
    "# Split_index - length60 needs the last 60 historical data points (belong to data_train)\n",
    "# to predict the first data point of data_test\n",
    "data_test = df.iloc[split_index - length60:]"
   ]
  },
  {
   "cell_type": "code",
   "execution_count": 21,
   "id": "a4c490b4",
   "metadata": {},
   "outputs": [
    {
     "data": {
      "text/html": [
       "<div>\n",
       "<style scoped>\n",
       "    .dataframe tbody tr th:only-of-type {\n",
       "        vertical-align: middle;\n",
       "    }\n",
       "\n",
       "    .dataframe tbody tr th {\n",
       "        vertical-align: top;\n",
       "    }\n",
       "\n",
       "    .dataframe thead th {\n",
       "        text-align: right;\n",
       "    }\n",
       "</style>\n",
       "<table border=\"1\" class=\"dataframe\">\n",
       "  <thead>\n",
       "    <tr style=\"text-align: right;\">\n",
       "      <th></th>\n",
       "      <th>meantemp</th>\n",
       "    </tr>\n",
       "  </thead>\n",
       "  <tbody>\n",
       "    <tr>\n",
       "      <th>0</th>\n",
       "      <td>10.000000</td>\n",
       "    </tr>\n",
       "    <tr>\n",
       "      <th>1</th>\n",
       "      <td>7.400000</td>\n",
       "    </tr>\n",
       "    <tr>\n",
       "      <th>2</th>\n",
       "      <td>7.166667</td>\n",
       "    </tr>\n",
       "    <tr>\n",
       "      <th>3</th>\n",
       "      <td>8.666667</td>\n",
       "    </tr>\n",
       "    <tr>\n",
       "      <th>4</th>\n",
       "      <td>6.000000</td>\n",
       "    </tr>\n",
       "  </tbody>\n",
       "</table>\n",
       "</div>"
      ],
      "text/plain": [
       "    meantemp\n",
       "0  10.000000\n",
       "1   7.400000\n",
       "2   7.166667\n",
       "3   8.666667\n",
       "4   6.000000"
      ]
     },
     "execution_count": 21,
     "metadata": {},
     "output_type": "execute_result"
    }
   ],
   "source": [
    "data_train.head(5)"
   ]
  },
  {
   "cell_type": "code",
   "execution_count": 22,
   "id": "2abad7e7",
   "metadata": {},
   "outputs": [
    {
     "data": {
      "text/html": [
       "<div>\n",
       "<style scoped>\n",
       "    .dataframe tbody tr th:only-of-type {\n",
       "        vertical-align: middle;\n",
       "    }\n",
       "\n",
       "    .dataframe tbody tr th {\n",
       "        vertical-align: top;\n",
       "    }\n",
       "\n",
       "    .dataframe thead th {\n",
       "        text-align: right;\n",
       "    }\n",
       "</style>\n",
       "<table border=\"1\" class=\"dataframe\">\n",
       "  <thead>\n",
       "    <tr style=\"text-align: right;\">\n",
       "      <th></th>\n",
       "      <th>meantemp</th>\n",
       "    </tr>\n",
       "  </thead>\n",
       "  <tbody>\n",
       "    <tr>\n",
       "      <th>1311</th>\n",
       "      <td>33.111111</td>\n",
       "    </tr>\n",
       "    <tr>\n",
       "      <th>1312</th>\n",
       "      <td>33.800000</td>\n",
       "    </tr>\n",
       "    <tr>\n",
       "      <th>1313</th>\n",
       "      <td>30.066667</td>\n",
       "    </tr>\n",
       "    <tr>\n",
       "      <th>1314</th>\n",
       "      <td>33.117647</td>\n",
       "    </tr>\n",
       "    <tr>\n",
       "      <th>1315</th>\n",
       "      <td>33.809524</td>\n",
       "    </tr>\n",
       "  </tbody>\n",
       "</table>\n",
       "</div>"
      ],
      "text/plain": [
       "       meantemp\n",
       "1311  33.111111\n",
       "1312  33.800000\n",
       "1313  30.066667\n",
       "1314  33.117647\n",
       "1315  33.809524"
      ]
     },
     "execution_count": 22,
     "metadata": {},
     "output_type": "execute_result"
    }
   ],
   "source": [
    "data_train.tail(5)"
   ]
  },
  {
   "cell_type": "code",
   "execution_count": 23,
   "id": "7853232a",
   "metadata": {},
   "outputs": [
    {
     "data": {
      "text/html": [
       "<div>\n",
       "<style scoped>\n",
       "    .dataframe tbody tr th:only-of-type {\n",
       "        vertical-align: middle;\n",
       "    }\n",
       "\n",
       "    .dataframe tbody tr th {\n",
       "        vertical-align: top;\n",
       "    }\n",
       "\n",
       "    .dataframe thead th {\n",
       "        text-align: right;\n",
       "    }\n",
       "</style>\n",
       "<table border=\"1\" class=\"dataframe\">\n",
       "  <thead>\n",
       "    <tr style=\"text-align: right;\">\n",
       "      <th></th>\n",
       "      <th>meantemp</th>\n",
       "    </tr>\n",
       "  </thead>\n",
       "  <tbody>\n",
       "    <tr>\n",
       "      <th>1256</th>\n",
       "      <td>36.133333</td>\n",
       "    </tr>\n",
       "    <tr>\n",
       "      <th>1257</th>\n",
       "      <td>33.437500</td>\n",
       "    </tr>\n",
       "    <tr>\n",
       "      <th>1258</th>\n",
       "      <td>35.500000</td>\n",
       "    </tr>\n",
       "    <tr>\n",
       "      <th>1259</th>\n",
       "      <td>36.000000</td>\n",
       "    </tr>\n",
       "    <tr>\n",
       "      <th>1260</th>\n",
       "      <td>32.625000</td>\n",
       "    </tr>\n",
       "  </tbody>\n",
       "</table>\n",
       "</div>"
      ],
      "text/plain": [
       "       meantemp\n",
       "1256  36.133333\n",
       "1257  33.437500\n",
       "1258  35.500000\n",
       "1259  36.000000\n",
       "1260  32.625000"
      ]
     },
     "execution_count": 23,
     "metadata": {},
     "output_type": "execute_result"
    }
   ],
   "source": [
    "data_test.head(5)"
   ]
  },
  {
   "cell_type": "code",
   "execution_count": 24,
   "id": "ca258572",
   "metadata": {},
   "outputs": [
    {
     "data": {
      "text/html": [
       "<div>\n",
       "<style scoped>\n",
       "    .dataframe tbody tr th:only-of-type {\n",
       "        vertical-align: middle;\n",
       "    }\n",
       "\n",
       "    .dataframe tbody tr th {\n",
       "        vertical-align: top;\n",
       "    }\n",
       "\n",
       "    .dataframe thead th {\n",
       "        text-align: right;\n",
       "    }\n",
       "</style>\n",
       "<table border=\"1\" class=\"dataframe\">\n",
       "  <thead>\n",
       "    <tr style=\"text-align: right;\">\n",
       "      <th></th>\n",
       "      <th>meantemp</th>\n",
       "    </tr>\n",
       "  </thead>\n",
       "  <tbody>\n",
       "    <tr>\n",
       "      <th>1457</th>\n",
       "      <td>17.217391</td>\n",
       "    </tr>\n",
       "    <tr>\n",
       "      <th>1458</th>\n",
       "      <td>15.238095</td>\n",
       "    </tr>\n",
       "    <tr>\n",
       "      <th>1459</th>\n",
       "      <td>14.095238</td>\n",
       "    </tr>\n",
       "    <tr>\n",
       "      <th>1460</th>\n",
       "      <td>15.052632</td>\n",
       "    </tr>\n",
       "    <tr>\n",
       "      <th>1461</th>\n",
       "      <td>10.000000</td>\n",
       "    </tr>\n",
       "  </tbody>\n",
       "</table>\n",
       "</div>"
      ],
      "text/plain": [
       "       meantemp\n",
       "1457  17.217391\n",
       "1458  15.238095\n",
       "1459  14.095238\n",
       "1460  15.052632\n",
       "1461  10.000000"
      ]
     },
     "execution_count": 24,
     "metadata": {},
     "output_type": "execute_result"
    }
   ],
   "source": [
    "data_test.tail(5)"
   ]
  },
  {
   "cell_type": "markdown",
   "id": "75d26258",
   "metadata": {},
   "source": [
    "### Normalize Data (Scale it into the range [0,1])"
   ]
  },
  {
   "cell_type": "code",
   "execution_count": 25,
   "id": "159b4bcd",
   "metadata": {},
   "outputs": [],
   "source": [
    "# Create a MinMaxScaler to normalize the data\n",
    "scaler = MinMaxScaler()"
   ]
  },
  {
   "cell_type": "code",
   "execution_count": 26,
   "id": "1c831754",
   "metadata": {},
   "outputs": [
    {
     "data": {
      "text/plain": [
       "MinMaxScaler()"
      ]
     },
     "execution_count": 26,
     "metadata": {},
     "output_type": "execute_result"
    }
   ],
   "source": [
    "# Ignore the warning: Just convert the data to floats\n",
    "# Only scale the training data - Do not scale testing data\n",
    "\n",
    "# Train the scaler to perform the normalization\n",
    "scaler.fit(data_train)"
   ]
  },
  {
   "cell_type": "code",
   "execution_count": 27,
   "id": "f9a781ca",
   "metadata": {},
   "outputs": [],
   "source": [
    "# Normalize the training dataset\n",
    "normalized_train = scaler.transform(data_train)\n",
    "\n",
    "# Normal;ize the testing dataset\n",
    "normalized_test = scaler.transform(data_test)"
   ]
  },
  {
   "cell_type": "markdown",
   "id": "dccdfb41",
   "metadata": {},
   "source": [
    "### Create TimeseriesGenerator for Training"
   ]
  },
  {
   "cell_type": "code",
   "execution_count": 28,
   "id": "d708ef03",
   "metadata": {},
   "outputs": [],
   "source": [
    "# TimeseriesGenerator: Generate time series batches for training/testing\n",
    "\n",
    "# Set the length of the input sequence as above\n",
    "# length60\n",
    "\n",
    "# batch_size:Number of time series samples in each batch\n",
    "# Sample: A single time series input that has 60 historical data points\n",
    "batch_size32 = 32\n",
    "\n",
    "# Create a TimeseriesGenerator for training: Train_tsGenerator\n",
    "# This time series generator produces time series batches used to train the mode\n",
    "# TimeseriesGenerator (input, outputs, length, batch_size)\n",
    "# Normally: Inputs & outputs are the same dataset during training &testing/vaidation\n",
    "\n",
    "train_tsGenerator60 = TimeseriesGenerator(normalized_train, normalized_train, length=length60, batch_size=batch_size32)"
   ]
  },
  {
   "cell_type": "code",
   "execution_count": 29,
   "id": "7a6f616f",
   "metadata": {},
   "outputs": [
    {
     "data": {
      "text/plain": [
       "1316"
      ]
     },
     "execution_count": 29,
     "metadata": {},
     "output_type": "execute_result"
    }
   ],
   "source": [
    "len(normalized_train)"
   ]
  },
  {
   "cell_type": "code",
   "execution_count": 30,
   "id": "e7de2797",
   "metadata": {},
   "outputs": [
    {
     "data": {
      "text/plain": [
       "40"
      ]
     },
     "execution_count": 30,
     "metadata": {},
     "output_type": "execute_result"
    }
   ],
   "source": [
    "len(train_tsGenerator60)"
   ]
  },
  {
   "cell_type": "code",
   "execution_count": 31,
   "id": "f6c55206",
   "metadata": {},
   "outputs": [],
   "source": [
    "# What does the first batch look like?\n",
    "x,y = train_tsGenerator60[0]"
   ]
  },
  {
   "cell_type": "code",
   "execution_count": 32,
   "id": "b22c8bd4",
   "metadata": {},
   "outputs": [
    {
     "name": "stdout",
     "output_type": "stream",
     "text": [
      "[[[0.12227074]\n",
      "  [0.04279476]\n",
      "  [0.0356623 ]\n",
      "  ...\n",
      "  [0.45240175]\n",
      "  [0.41048035]\n",
      "  [0.34643377]]\n",
      "\n",
      " [[0.04279476]\n",
      "  [0.0356623 ]\n",
      "  [0.08151383]\n",
      "  ...\n",
      "  [0.41048035]\n",
      "  [0.34643377]\n",
      "  [0.39737991]]\n",
      "\n",
      " [[0.0356623 ]\n",
      "  [0.08151383]\n",
      "  [0.        ]\n",
      "  ...\n",
      "  [0.34643377]\n",
      "  [0.39737991]\n",
      "  [0.40756914]]\n",
      "\n",
      " ...\n",
      "\n",
      " [[0.26637555]\n",
      "  [0.31179039]\n",
      "  [0.30567686]\n",
      "  ...\n",
      "  [0.50218341]\n",
      "  [0.46615721]\n",
      "  [0.5349345 ]]\n",
      "\n",
      " [[0.31179039]\n",
      "  [0.30567686]\n",
      "  [0.31441048]\n",
      "  ...\n",
      "  [0.46615721]\n",
      "  [0.5349345 ]\n",
      "  [0.52576419]]\n",
      "\n",
      " [[0.30567686]\n",
      "  [0.31441048]\n",
      "  [0.36681223]\n",
      "  ...\n",
      "  [0.5349345 ]\n",
      "  [0.52576419]\n",
      "  [0.59224891]]]\n"
     ]
    }
   ],
   "source": [
    "print(x)"
   ]
  },
  {
   "cell_type": "code",
   "execution_count": 33,
   "id": "2d7d196a",
   "metadata": {},
   "outputs": [
    {
     "name": "stdout",
     "output_type": "stream",
     "text": [
      "[[0.39737991]\n",
      " [0.40756914]\n",
      " [0.35458515]\n",
      " [0.45469432]\n",
      " [0.45414847]\n",
      " [0.53275109]\n",
      " [0.55531295]\n",
      " [0.59388646]\n",
      " [0.52401747]\n",
      " [0.55021834]\n",
      " [0.5349345 ]\n",
      " [0.47379913]\n",
      " [0.4992722 ]\n",
      " [0.55531295]\n",
      " [0.43813683]\n",
      " [0.50946143]\n",
      " [0.53275109]\n",
      " [0.50436681]\n",
      " [0.70815138]\n",
      " [0.54512373]\n",
      " [0.58842795]\n",
      " [0.65338428]\n",
      " [0.6419214 ]\n",
      " [0.5349345 ]\n",
      " [0.55458515]\n",
      " [0.45851528]\n",
      " [0.50218341]\n",
      " [0.46615721]\n",
      " [0.5349345 ]\n",
      " [0.52576419]\n",
      " [0.59224891]\n",
      " [0.58588064]]\n"
     ]
    }
   ],
   "source": [
    "print(y)"
   ]
  },
  {
   "cell_type": "markdown",
   "id": "6434ffb5",
   "metadata": {},
   "source": [
    "## Build, Train, and Test Model"
   ]
  },
  {
   "cell_type": "code",
   "execution_count": 34,
   "id": "87873608",
   "metadata": {},
   "outputs": [],
   "source": [
    "# Set number of features\n",
    "# Features: Attribute/variable of the data set - used as predictors\n",
    "\n",
    "# Only using one feature: mean temperature\n",
    "n_features =1"
   ]
  },
  {
   "cell_type": "code",
   "execution_count": 35,
   "id": "5b9a9984",
   "metadata": {},
   "outputs": [],
   "source": [
    "# Define model\n",
    "model = Sequential()\n",
    "\n",
    "# Add 1st LSTM Layer\n",
    "# Activation function: relu\n",
    "# MUST: return_sequences= True\n",
    "model.add(LSTM(50, activation='relu', return_sequences=True, input_shape=(length60, n_features)))\n",
    "\n",
    "# Add 1st Dropout Layer\n",
    "model.add(Dropout(0.2))\n",
    "\n",
    "# Add 2nd LSTM layer\n",
    "model.add(LSTM(50, activation='relu', return_sequences=True))\n",
    "\n",
    "# Add 2nd Dropout Layer\n",
    "model.add(Dropout(0.2))\n",
    "\n",
    "# Add 3rd LSTM layer\n",
    "model.add(LSTM(50, activation='relu'))\n",
    "\n",
    "# Add FC layer for final prediction\n",
    "model.add(Dense(1))\n"
   ]
  },
  {
   "cell_type": "markdown",
   "id": "ddc306ca",
   "metadata": {},
   "source": [
    "### Compile Model"
   ]
  },
  {
   "cell_type": "code",
   "execution_count": 36,
   "id": "aad08d04",
   "metadata": {},
   "outputs": [
    {
     "name": "stdout",
     "output_type": "stream",
     "text": [
      "Model: \"sequential\"\n",
      "_________________________________________________________________\n",
      " Layer (type)                Output Shape              Param #   \n",
      "=================================================================\n",
      " lstm (LSTM)                 (None, 60, 50)            10400     \n",
      "                                                                 \n",
      " dropout (Dropout)           (None, 60, 50)            0         \n",
      "                                                                 \n",
      " lstm_1 (LSTM)               (None, 60, 50)            20200     \n",
      "                                                                 \n",
      " dropout_1 (Dropout)         (None, 60, 50)            0         \n",
      "                                                                 \n",
      " lstm_2 (LSTM)               (None, 50)                20200     \n",
      "                                                                 \n",
      " dense (Dense)               (None, 1)                 51        \n",
      "                                                                 \n",
      "=================================================================\n",
      "Total params: 50,851\n",
      "Trainable params: 50,851\n",
      "Non-trainable params: 0\n",
      "_________________________________________________________________\n"
     ]
    }
   ],
   "source": [
    "# Compile the model\n",
    "model.compile(optimizer='adam', loss='mse')\n",
    "\n",
    "model.summary()"
   ]
  },
  {
   "cell_type": "markdown",
   "id": "620d12ca",
   "metadata": {},
   "source": [
    "### Train(Fit) Model Using fit_generator()"
   ]
  },
  {
   "cell_type": "code",
   "execution_count": 37,
   "id": "a42b235d",
   "metadata": {},
   "outputs": [
    {
     "name": "stdout",
     "output_type": "stream",
     "text": [
      "Epoch 1/100\n"
     ]
    },
    {
     "name": "stderr",
     "output_type": "stream",
     "text": [
      "C:\\Users\\trisa\\AppData\\Local\\Temp\\ipykernel_23196\\4015931020.py:3: UserWarning: `Model.fit_generator` is deprecated and will be removed in a future version. Please use `Model.fit`, which supports generators.\n",
      "  model.fit_generator(train_tsGenerator60, epochs=100)\n"
     ]
    },
    {
     "name": "stdout",
     "output_type": "stream",
     "text": [
      "40/40 [==============================] - 3s 29ms/step - loss: 0.1691\n",
      "Epoch 2/100\n",
      "40/40 [==============================] - 2s 41ms/step - loss: 0.0206\n",
      "Epoch 3/100\n",
      "40/40 [==============================] - 2s 41ms/step - loss: 0.0150\n",
      "Epoch 4/100\n",
      "40/40 [==============================] - 2s 42ms/step - loss: 0.0119\n",
      "Epoch 5/100\n",
      "40/40 [==============================] - 2s 42ms/step - loss: 0.0106\n",
      "Epoch 6/100\n",
      "40/40 [==============================] - 2s 41ms/step - loss: 0.0109\n",
      "Epoch 7/100\n",
      "40/40 [==============================] - 2s 43ms/step - loss: 0.0096\n",
      "Epoch 8/100\n",
      "40/40 [==============================] - 2s 43ms/step - loss: 0.0103\n",
      "Epoch 9/100\n",
      "40/40 [==============================] - 2s 41ms/step - loss: 0.0106\n",
      "Epoch 10/100\n",
      "40/40 [==============================] - 2s 42ms/step - loss: 0.0097\n",
      "Epoch 11/100\n",
      "40/40 [==============================] - 2s 42ms/step - loss: 0.0109\n",
      "Epoch 12/100\n",
      "40/40 [==============================] - 2s 41ms/step - loss: 0.0084\n",
      "Epoch 13/100\n",
      "40/40 [==============================] - 2s 41ms/step - loss: 0.0089\n",
      "Epoch 14/100\n",
      "40/40 [==============================] - 2s 42ms/step - loss: 0.0095\n",
      "Epoch 15/100\n",
      "40/40 [==============================] - 2s 42ms/step - loss: 0.0089\n",
      "Epoch 16/100\n",
      "40/40 [==============================] - 2s 41ms/step - loss: 0.0091\n",
      "Epoch 17/100\n",
      "40/40 [==============================] - 2s 42ms/step - loss: 0.0112\n",
      "Epoch 18/100\n",
      "40/40 [==============================] - 2s 41ms/step - loss: 0.0090\n",
      "Epoch 19/100\n",
      "40/40 [==============================] - 2s 42ms/step - loss: 0.0076\n",
      "Epoch 20/100\n",
      "40/40 [==============================] - 2s 42ms/step - loss: 0.0091\n",
      "Epoch 21/100\n",
      "40/40 [==============================] - 2s 41ms/step - loss: 0.0073\n",
      "Epoch 22/100\n",
      "40/40 [==============================] - 2s 42ms/step - loss: 0.0101\n",
      "Epoch 23/100\n",
      "40/40 [==============================] - 2s 41ms/step - loss: 0.0077\n",
      "Epoch 24/100\n",
      "40/40 [==============================] - 2s 41ms/step - loss: 0.0073\n",
      "Epoch 25/100\n",
      "40/40 [==============================] - 2s 42ms/step - loss: 0.0072\n",
      "Epoch 26/100\n",
      "40/40 [==============================] - 2s 42ms/step - loss: 0.0085\n",
      "Epoch 27/100\n",
      "40/40 [==============================] - 2s 42ms/step - loss: 0.0088\n",
      "Epoch 28/100\n",
      "40/40 [==============================] - 2s 42ms/step - loss: 0.0069\n",
      "Epoch 29/100\n",
      "40/40 [==============================] - 2s 42ms/step - loss: 0.0073\n",
      "Epoch 30/100\n",
      "40/40 [==============================] - 2s 42ms/step - loss: 0.0075\n",
      "Epoch 31/100\n",
      "40/40 [==============================] - 2s 42ms/step - loss: 0.0069\n",
      "Epoch 32/100\n",
      "40/40 [==============================] - 2s 42ms/step - loss: 0.0072\n",
      "Epoch 33/100\n",
      "40/40 [==============================] - 2s 42ms/step - loss: 0.0080\n",
      "Epoch 34/100\n",
      "40/40 [==============================] - 2s 42ms/step - loss: 0.0075\n",
      "Epoch 35/100\n",
      "40/40 [==============================] - 2s 42ms/step - loss: 0.0070\n",
      "Epoch 36/100\n",
      "40/40 [==============================] - 2s 42ms/step - loss: 0.0072\n",
      "Epoch 37/100\n",
      "40/40 [==============================] - 2s 42ms/step - loss: 0.0068\n",
      "Epoch 38/100\n",
      "40/40 [==============================] - 2s 43ms/step - loss: 0.0070\n",
      "Epoch 39/100\n",
      "40/40 [==============================] - 2s 42ms/step - loss: 0.0069\n",
      "Epoch 40/100\n",
      "40/40 [==============================] - 2s 42ms/step - loss: 0.0065\n",
      "Epoch 41/100\n",
      "40/40 [==============================] - 2s 42ms/step - loss: 0.0067\n",
      "Epoch 42/100\n",
      "40/40 [==============================] - 2s 42ms/step - loss: 0.0072\n",
      "Epoch 43/100\n",
      "40/40 [==============================] - 2s 42ms/step - loss: 0.0066\n",
      "Epoch 44/100\n",
      "40/40 [==============================] - 2s 42ms/step - loss: 0.0063\n",
      "Epoch 45/100\n",
      "40/40 [==============================] - 2s 42ms/step - loss: 0.0064\n",
      "Epoch 46/100\n",
      "40/40 [==============================] - 2s 41ms/step - loss: 0.0067\n",
      "Epoch 47/100\n",
      "40/40 [==============================] - 2s 42ms/step - loss: 0.0068\n",
      "Epoch 48/100\n",
      "40/40 [==============================] - 2s 42ms/step - loss: 0.0064\n",
      "Epoch 49/100\n",
      "40/40 [==============================] - 2s 41ms/step - loss: 0.0064\n",
      "Epoch 50/100\n",
      "40/40 [==============================] - 2s 42ms/step - loss: 0.0063\n",
      "Epoch 51/100\n",
      "40/40 [==============================] - 2s 41ms/step - loss: 0.0064\n",
      "Epoch 52/100\n",
      "40/40 [==============================] - 2s 41ms/step - loss: 0.0058\n",
      "Epoch 53/100\n",
      "40/40 [==============================] - 2s 41ms/step - loss: 0.0064\n",
      "Epoch 54/100\n",
      "40/40 [==============================] - 2s 42ms/step - loss: 0.0072\n",
      "Epoch 55/100\n",
      "40/40 [==============================] - 2s 41ms/step - loss: 0.0063\n",
      "Epoch 56/100\n",
      "40/40 [==============================] - 2s 42ms/step - loss: 0.0072\n",
      "Epoch 57/100\n",
      "40/40 [==============================] - 2s 42ms/step - loss: 0.0060\n",
      "Epoch 58/100\n",
      "40/40 [==============================] - 2s 42ms/step - loss: 0.0059\n",
      "Epoch 59/100\n",
      "40/40 [==============================] - 2s 42ms/step - loss: 0.0061\n",
      "Epoch 60/100\n",
      "40/40 [==============================] - 2s 42ms/step - loss: 0.0063\n",
      "Epoch 61/100\n",
      "40/40 [==============================] - 2s 42ms/step - loss: 0.0064\n",
      "Epoch 62/100\n",
      "40/40 [==============================] - 2s 42ms/step - loss: 0.0056\n",
      "Epoch 63/100\n",
      "40/40 [==============================] - 2s 42ms/step - loss: 0.0058\n",
      "Epoch 64/100\n",
      "40/40 [==============================] - 2s 42ms/step - loss: 0.0058\n",
      "Epoch 65/100\n",
      "40/40 [==============================] - 2s 42ms/step - loss: 0.0055\n",
      "Epoch 66/100\n",
      "40/40 [==============================] - 2s 42ms/step - loss: 0.0058\n",
      "Epoch 67/100\n",
      "40/40 [==============================] - 2s 42ms/step - loss: 0.0055\n",
      "Epoch 68/100\n",
      "40/40 [==============================] - 2s 42ms/step - loss: 0.0056\n",
      "Epoch 69/100\n",
      "40/40 [==============================] - 2s 42ms/step - loss: 0.0053\n",
      "Epoch 70/100\n",
      "40/40 [==============================] - 2s 41ms/step - loss: 0.0059\n",
      "Epoch 71/100\n",
      "40/40 [==============================] - 2s 41ms/step - loss: 0.0055\n",
      "Epoch 72/100\n",
      "40/40 [==============================] - 2s 41ms/step - loss: 0.0059\n",
      "Epoch 73/100\n",
      "40/40 [==============================] - 2s 42ms/step - loss: 0.0059\n",
      "Epoch 74/100\n",
      "40/40 [==============================] - 2s 42ms/step - loss: 0.0063\n",
      "Epoch 75/100\n",
      "40/40 [==============================] - 2s 42ms/step - loss: 0.0054\n",
      "Epoch 76/100\n",
      "40/40 [==============================] - 2s 42ms/step - loss: 0.0055\n",
      "Epoch 77/100\n",
      "40/40 [==============================] - 2s 42ms/step - loss: 0.0056\n",
      "Epoch 78/100\n",
      "40/40 [==============================] - 2s 42ms/step - loss: 0.0052\n",
      "Epoch 79/100\n",
      "40/40 [==============================] - 2s 42ms/step - loss: 0.0055\n",
      "Epoch 80/100\n",
      "40/40 [==============================] - 2s 42ms/step - loss: 0.0055\n",
      "Epoch 81/100\n",
      "40/40 [==============================] - 2s 42ms/step - loss: 0.0052\n",
      "Epoch 82/100\n",
      "40/40 [==============================] - 2s 42ms/step - loss: 0.0050\n",
      "Epoch 83/100\n",
      "40/40 [==============================] - 2s 42ms/step - loss: 0.0052\n",
      "Epoch 84/100\n",
      "40/40 [==============================] - 2s 42ms/step - loss: 0.0051\n",
      "Epoch 85/100\n",
      "40/40 [==============================] - 2s 42ms/step - loss: 0.0051\n",
      "Epoch 86/100\n",
      "40/40 [==============================] - 2s 42ms/step - loss: 0.0050\n",
      "Epoch 87/100\n",
      "40/40 [==============================] - 2s 42ms/step - loss: 0.0049\n",
      "Epoch 88/100\n",
      "40/40 [==============================] - 2s 42ms/step - loss: 0.0050\n",
      "Epoch 89/100\n",
      "40/40 [==============================] - 2s 42ms/step - loss: 0.0051\n",
      "Epoch 90/100\n",
      "40/40 [==============================] - 2s 42ms/step - loss: 0.0053\n",
      "Epoch 91/100\n",
      "40/40 [==============================] - 2s 42ms/step - loss: 0.0060\n",
      "Epoch 92/100\n",
      "40/40 [==============================] - 2s 42ms/step - loss: 0.0053\n",
      "Epoch 93/100\n",
      "40/40 [==============================] - 2s 42ms/step - loss: 0.0050\n",
      "Epoch 94/100\n",
      "40/40 [==============================] - 2s 42ms/step - loss: 0.0047\n",
      "Epoch 95/100\n",
      "40/40 [==============================] - 2s 42ms/step - loss: 0.0050\n",
      "Epoch 96/100\n",
      "40/40 [==============================] - 2s 42ms/step - loss: 0.0050\n",
      "Epoch 97/100\n",
      "40/40 [==============================] - 2s 42ms/step - loss: 0.0049\n",
      "Epoch 98/100\n",
      "40/40 [==============================] - 2s 42ms/step - loss: 0.0048\n",
      "Epoch 99/100\n",
      "40/40 [==============================] - 2s 42ms/step - loss: 0.0051\n",
      "Epoch 100/100\n",
      "40/40 [==============================] - 2s 42ms/step - loss: 0.0047\n"
     ]
    },
    {
     "data": {
      "text/plain": [
       "<keras.callbacks.History at 0x1eb4aebcc40>"
      ]
     },
     "execution_count": 37,
     "metadata": {},
     "output_type": "execute_result"
    }
   ],
   "source": [
    "# Train the model\n",
    "\n",
    "model.fit_generator(train_tsGenerator60, epochs=100)"
   ]
  },
  {
   "cell_type": "markdown",
   "id": "a7c1f4aa",
   "metadata": {},
   "source": [
    "### Visualize Model's Performance after training"
   ]
  },
  {
   "cell_type": "code",
   "execution_count": 38,
   "id": "3fd58665",
   "metadata": {},
   "outputs": [
    {
     "data": {
      "text/plain": [
       "dict_keys(['loss'])"
      ]
     },
     "execution_count": 38,
     "metadata": {},
     "output_type": "execute_result"
    }
   ],
   "source": [
    "loss_history_keys = model.history.history.keys()\n",
    "\n",
    "#model.history.history is a dict\n",
    "# 'loss' : its key\n",
    "# 'loss':loss during training;\n",
    "loss_history_keys"
   ]
  },
  {
   "cell_type": "code",
   "execution_count": 39,
   "id": "ed7960a1",
   "metadata": {},
   "outputs": [
    {
     "data": {
      "text/plain": [
       "<AxesSubplot:>"
      ]
     },
     "execution_count": 39,
     "metadata": {},
     "output_type": "execute_result"
    },
    {
     "data": {
      "image/png": "[encoded data removed]",
      "text/plain": [
       "<Figure size 432x288 with 1 Axes>"
      ]
     },
     "metadata": {
      "needs_background": "light"
     },
     "output_type": "display_data"
    }
   ],
   "source": [
    "# Load the loss data (mode.history.history) into a dataframe\n",
    "df_model_loss = pd.DataFrame(model.history.history)\n",
    "\n",
    "#Visualize the loss data using DataFrame.plot()\n",
    "df_model_loss.plot()"
   ]
  },
  {
   "cell_type": "markdown",
   "id": "af050efd",
   "metadata": {},
   "source": [
    "### Prediction for Testing: Using TimeseriesGenerator"
   ]
  },
  {
   "cell_type": "markdown",
   "id": "38c08a8d",
   "metadata": {},
   "source": [
    "#### Create TimeseriesGenerator for Testing"
   ]
  },
  {
   "cell_type": "code",
   "execution_count": 40,
   "id": "8589505e",
   "metadata": {},
   "outputs": [],
   "source": [
    "# batch_size must be 1\n",
    "batch_size1 = 1\n",
    "\n",
    "# Create a TimeseriesGenerator for testing: test_tsGenerator\n",
    "test_tsGenerator60 = TimeseriesGenerator(normalized_test, normalized_test, length=length60, batch_size=batch_size1)"
   ]
  },
  {
   "cell_type": "markdown",
   "id": "c07f20c9",
   "metadata": {},
   "source": [
    "#### Predict Future Data Points for Test"
   ]
  },
  {
   "cell_type": "code",
   "execution_count": 41,
   "id": "24e4e386",
   "metadata": {},
   "outputs": [
    {
     "name": "stderr",
     "output_type": "stream",
     "text": [
      "C:\\Users\\trisa\\AppData\\Local\\Temp\\ipykernel_23196\\4281113417.py:1: UserWarning: `Model.predict_generator` is deprecated and will be removed in a future version. Please use `Model.predict`, which supports generators.\n",
      "  normalized_prediction = model.predict_generator (test_tsGenerator60)\n"
     ]
    }
   ],
   "source": [
    "normalized_prediction = model.predict_generator (test_tsGenerator60)"
   ]
  },
  {
   "cell_type": "code",
   "execution_count": 42,
   "id": "b6a8b22b",
   "metadata": {},
   "outputs": [
    {
     "data": {
      "text/plain": [
       "array([[0.78937376],\n",
       "       [0.78623354],\n",
       "       [0.78393734],\n",
       "       [0.765085  ],\n",
       "       [0.7489944 ],\n",
       "       [0.7437814 ],\n",
       "       [0.7353754 ],\n",
       "       [0.74219847],\n",
       "       [0.74934584],\n",
       "       [0.74768966],\n",
       "       [0.7442913 ],\n",
       "       [0.7524349 ],\n",
       "       [0.7673113 ],\n",
       "       [0.7712014 ],\n",
       "       [0.7752402 ],\n",
       "       [0.77427626],\n",
       "       [0.7657998 ],\n",
       "       [0.76506907],\n",
       "       [0.76437396],\n",
       "       [0.7670318 ],\n",
       "       [0.77854705],\n",
       "       [0.76821345],\n",
       "       [0.75930274],\n",
       "       [0.7414252 ],\n",
       "       [0.7252997 ],\n",
       "       [0.72688067],\n",
       "       [0.7337463 ],\n",
       "       [0.74483067],\n",
       "       [0.75099313],\n",
       "       [0.75081736],\n",
       "       [0.75301147],\n",
       "       [0.75940084],\n",
       "       [0.7578844 ],\n",
       "       [0.75879145],\n",
       "       [0.75865847],\n",
       "       [0.7618252 ],\n",
       "       [0.7697298 ],\n",
       "       [0.76760656],\n",
       "       [0.76888794],\n",
       "       [0.7686319 ],\n",
       "       [0.7731137 ],\n",
       "       [0.7770845 ],\n",
       "       [0.7807204 ],\n",
       "       [0.7892921 ],\n",
       "       [0.7959932 ],\n",
       "       [0.78253603],\n",
       "       [0.77466357],\n",
       "       [0.77060497],\n",
       "       [0.76779693],\n",
       "       [0.76787096],\n",
       "       [0.77228975],\n",
       "       [0.7778742 ],\n",
       "       [0.7811119 ],\n",
       "       [0.78298515],\n",
       "       [0.7858499 ],\n",
       "       [0.7895987 ],\n",
       "       [0.7950359 ],\n",
       "       [0.7844764 ],\n",
       "       [0.7673286 ],\n",
       "       [0.7597606 ],\n",
       "       [0.7577191 ],\n",
       "       [0.75568783],\n",
       "       [0.75588775],\n",
       "       [0.7505812 ],\n",
       "       [0.7447874 ],\n",
       "       [0.73955417],\n",
       "       [0.73749554],\n",
       "       [0.73549837],\n",
       "       [0.7239218 ],\n",
       "       [0.7155395 ],\n",
       "       [0.7102373 ],\n",
       "       [0.70623946],\n",
       "       [0.705491  ],\n",
       "       [0.7064963 ],\n",
       "       [0.70426625],\n",
       "       [0.7062843 ],\n",
       "       [0.6995023 ],\n",
       "       [0.69667536],\n",
       "       [0.6929728 ],\n",
       "       [0.6873805 ],\n",
       "       [0.6771256 ],\n",
       "       [0.6622752 ],\n",
       "       [0.64961326],\n",
       "       [0.63504684],\n",
       "       [0.6206321 ],\n",
       "       [0.6074512 ],\n",
       "       [0.5936387 ],\n",
       "       [0.5897264 ],\n",
       "       [0.5866488 ],\n",
       "       [0.5765475 ],\n",
       "       [0.5639799 ],\n",
       "       [0.5589546 ],\n",
       "       [0.554361  ],\n",
       "       [0.5472702 ],\n",
       "       [0.5421264 ],\n",
       "       [0.54026616],\n",
       "       [0.5384505 ],\n",
       "       [0.54016066],\n",
       "       [0.5390009 ],\n",
       "       [0.5318571 ],\n",
       "       [0.52100325],\n",
       "       [0.5097196 ],\n",
       "       [0.49968705],\n",
       "       [0.487224  ],\n",
       "       [0.4812323 ],\n",
       "       [0.4764857 ],\n",
       "       [0.47745934],\n",
       "       [0.4823531 ],\n",
       "       [0.48212853],\n",
       "       [0.48889345],\n",
       "       [0.50190234],\n",
       "       [0.51299024],\n",
       "       [0.51573706],\n",
       "       [0.5103806 ],\n",
       "       [0.49517933],\n",
       "       [0.47700065],\n",
       "       [0.45750523],\n",
       "       [0.44697705],\n",
       "       [0.4339795 ],\n",
       "       [0.419545  ],\n",
       "       [0.4051933 ],\n",
       "       [0.3914186 ],\n",
       "       [0.37446654],\n",
       "       [0.36639175],\n",
       "       [0.3541925 ],\n",
       "       [0.35319027],\n",
       "       [0.35972434],\n",
       "       [0.3662535 ],\n",
       "       [0.36937082],\n",
       "       [0.36841983],\n",
       "       [0.3570032 ],\n",
       "       [0.3461483 ],\n",
       "       [0.3325505 ],\n",
       "       [0.32485196],\n",
       "       [0.32975933],\n",
       "       [0.33583486],\n",
       "       [0.3379016 ],\n",
       "       [0.33085582],\n",
       "       [0.32496232],\n",
       "       [0.311832  ],\n",
       "       [0.30395198],\n",
       "       [0.30035225],\n",
       "       [0.30109787],\n",
       "       [0.29761407],\n",
       "       [0.28832427],\n",
       "       [0.27859148]], dtype=float32)"
      ]
     },
     "execution_count": 42,
     "metadata": {},
     "output_type": "execute_result"
    }
   ],
   "source": [
    "# Prediction is a numpy 2D array with only one column\n",
    "\n",
    "normalized_prediction"
   ]
  },
  {
   "cell_type": "code",
   "execution_count": 43,
   "id": "f2c28a0d",
   "metadata": {},
   "outputs": [
    {
     "data": {
      "text/plain": [
       "146"
      ]
     },
     "execution_count": 43,
     "metadata": {},
     "output_type": "execute_result"
    }
   ],
   "source": [
    "len(normalized_prediction)"
   ]
  },
  {
   "cell_type": "code",
   "execution_count": 44,
   "id": "22a41421",
   "metadata": {},
   "outputs": [],
   "source": [
    "# Convert normalized predictions back to the true values\n",
    "\n",
    "prediction = scaler.inverse_transform(normalized_prediction)"
   ]
  },
  {
   "cell_type": "code",
   "execution_count": 45,
   "id": "3448ee38",
   "metadata": {},
   "outputs": [],
   "source": [
    "# Flatten all the 2D array\n",
    "\n",
    "# data_train = data_train.reshape((-1))\n",
    "# data_test = data_test.reshape((-1))\n",
    "# prediction = prediction.reshapre ((-1))\n",
    "\n",
    "prediction_index = np.arange(1316, 1462, step=1)\n",
    "\n",
    "df_prediction = pd.DataFrame(data=prediction, index=prediction_index, columns=['Prediction'])"
   ]
  },
  {
   "cell_type": "code",
   "execution_count": 46,
   "id": "ec0c13c5",
   "metadata": {},
   "outputs": [
    {
     "data": {
      "text/html": [
       "<div>\n",
       "<style scoped>\n",
       "    .dataframe tbody tr th:only-of-type {\n",
       "        vertical-align: middle;\n",
       "    }\n",
       "\n",
       "    .dataframe tbody tr th {\n",
       "        vertical-align: top;\n",
       "    }\n",
       "\n",
       "    .dataframe thead th {\n",
       "        text-align: right;\n",
       "    }\n",
       "</style>\n",
       "<table border=\"1\" class=\"dataframe\">\n",
       "  <thead>\n",
       "    <tr style=\"text-align: right;\">\n",
       "      <th></th>\n",
       "      <th>Prediction</th>\n",
       "    </tr>\n",
       "  </thead>\n",
       "  <tbody>\n",
       "    <tr>\n",
       "      <th>1316</th>\n",
       "      <td>31.823799</td>\n",
       "    </tr>\n",
       "    <tr>\n",
       "      <th>1317</th>\n",
       "      <td>31.721069</td>\n",
       "    </tr>\n",
       "    <tr>\n",
       "      <th>1318</th>\n",
       "      <td>31.645950</td>\n",
       "    </tr>\n",
       "    <tr>\n",
       "      <th>1319</th>\n",
       "      <td>31.029209</td>\n",
       "    </tr>\n",
       "    <tr>\n",
       "      <th>1320</th>\n",
       "      <td>30.502817</td>\n",
       "    </tr>\n",
       "    <tr>\n",
       "      <th>...</th>\n",
       "      <td>...</td>\n",
       "    </tr>\n",
       "    <tr>\n",
       "      <th>1457</th>\n",
       "      <td>15.825809</td>\n",
       "    </tr>\n",
       "    <tr>\n",
       "      <th>1458</th>\n",
       "      <td>15.850202</td>\n",
       "    </tr>\n",
       "    <tr>\n",
       "      <th>1459</th>\n",
       "      <td>15.736232</td>\n",
       "    </tr>\n",
       "    <tr>\n",
       "      <th>1460</th>\n",
       "      <td>15.432323</td>\n",
       "    </tr>\n",
       "    <tr>\n",
       "      <th>1461</th>\n",
       "      <td>15.113921</td>\n",
       "    </tr>\n",
       "  </tbody>\n",
       "</table>\n",
       "<p>146 rows × 1 columns</p>\n",
       "</div>"
      ],
      "text/plain": [
       "      Prediction\n",
       "1316   31.823799\n",
       "1317   31.721069\n",
       "1318   31.645950\n",
       "1319   31.029209\n",
       "1320   30.502817\n",
       "...          ...\n",
       "1457   15.825809\n",
       "1458   15.850202\n",
       "1459   15.736232\n",
       "1460   15.432323\n",
       "1461   15.113921\n",
       "\n",
       "[146 rows x 1 columns]"
      ]
     },
     "execution_count": 46,
     "metadata": {},
     "output_type": "execute_result"
    }
   ],
   "source": [
    "df_prediction"
   ]
  },
  {
   "cell_type": "markdown",
   "id": "c7aab589",
   "metadata": {},
   "source": [
    "### Visualize Prediction"
   ]
  },
  {
   "cell_type": "code",
   "execution_count": 47,
   "id": "31cce749",
   "metadata": {},
   "outputs": [
    {
     "data": {
      "text/plain": [
       "<AxesSubplot:>"
      ]
     },
     "execution_count": 47,
     "metadata": {},
     "output_type": "execute_result"
    },
    {
     "data": {
      "image/png": "[encoded data removed]",
      "text/plain": [
       "<Figure size 576x864 with 1 Axes>"
      ]
     },
     "metadata": {
      "needs_background": "light"
     },
     "output_type": "display_data"
    }
   ],
   "source": [
    "ax = data_train.plot()\n",
    "\n",
    "df_prediction.plot(ax=ax, figsize=(8,12))"
   ]
  },
  {
   "cell_type": "markdown",
   "id": "86fca44c",
   "metadata": {},
   "source": [
    "### Visualize Predction and Compare Actual Mean Temperature"
   ]
  },
  {
   "cell_type": "code",
   "execution_count": 48,
   "id": "f26f69f7",
   "metadata": {},
   "outputs": [
    {
     "data": {
      "text/plain": [
       "<AxesSubplot:>"
      ]
     },
     "execution_count": 48,
     "metadata": {},
     "output_type": "execute_result"
    },
    {
     "data": {
      "image/png": "[encoded data removed]",
      "text/plain": [
       "<Figure size 576x864 with 1 Axes>"
      ]
     },
     "metadata": {
      "needs_background": "light"
     },
     "output_type": "display_data"
    }
   ],
   "source": [
    "ax = df.plot()\n",
    "df_prediction.plot( ax=ax, figsize=(8,12))"
   ]
  },
  {
   "cell_type": "markdown",
   "id": "ee674f7e",
   "metadata": {},
   "source": [
    "## Time Series Forecasting with LSTM"
   ]
  },
  {
   "cell_type": "markdown",
   "id": "e18ac91d",
   "metadata": {},
   "source": [
    "#### Overview\n",
    "\n",
    "#### Time series forecasting:\n",
    "#### - Forecasat into the \"future\" or unknown range\n",
    "#### - Should employ all the available data\n",
    "#### - i.e No splitting of the data into training/testing"
   ]
  },
  {
   "cell_type": "markdown",
   "id": "249dfa5a",
   "metadata": {},
   "source": [
    "#### Preprocess Full Input Dataset"
   ]
  },
  {
   "cell_type": "code",
   "execution_count": 49,
   "id": "e9de9719",
   "metadata": {},
   "outputs": [],
   "source": [
    "# Still use MinMaxScaler to normalize the full input dataset df\n",
    "\n",
    "full_scaler = MinMaxScaler()\n",
    "normalized_full_data = full_scaler.fit_transform(df)"
   ]
  },
  {
   "cell_type": "markdown",
   "id": "17d3b282",
   "metadata": {},
   "source": [
    "#### Create TimeSeriesGenerator for Forecasting"
   ]
  },
  {
   "cell_type": "code",
   "execution_count": 50,
   "id": "9ca24b7c",
   "metadata": {},
   "outputs": [
    {
     "data": {
      "text/plain": [
       "60"
      ]
     },
     "execution_count": 50,
     "metadata": {},
     "output_type": "execute_result"
    }
   ],
   "source": [
    "# Number of time strps of the input time series\n",
    "# Still use length60:\n",
    "length60"
   ]
  },
  {
   "cell_type": "code",
   "execution_count": 51,
   "id": "22acd989",
   "metadata": {},
   "outputs": [],
   "source": [
    "# Create Timeseries Generator for forecasting\n",
    "\n",
    "forecast_tsGenerator = TimeseriesGenerator(normalized_full_data, normalized_full_data, length=length60, batch_size=batch_size32)"
   ]
  },
  {
   "cell_type": "markdown",
   "id": "6bd077b1",
   "metadata": {},
   "source": [
    "#### Build, Compile, and Fit LSTM Model for Forecasting"
   ]
  },
  {
   "cell_type": "code",
   "execution_count": 52,
   "id": "c8dec5d5",
   "metadata": {
    "scrolled": true
   },
   "outputs": [
    {
     "name": "stdout",
     "output_type": "stream",
     "text": [
      "Epoch 1/100\n",
      " 3/44 [=>............................] - ETA: 1s - loss: 0.0056"
     ]
    },
    {
     "name": "stderr",
     "output_type": "stream",
     "text": [
      "C:\\Users\\trisa\\AppData\\Local\\Temp\\ipykernel_23196\\2066943896.py:5: UserWarning: `Model.fit_generator` is deprecated and will be removed in a future version. Please use `Model.fit`, which supports generators.\n",
      "  model.fit_generator(forecast_tsGenerator, epochs = 100)\n"
     ]
    },
    {
     "name": "stdout",
     "output_type": "stream",
     "text": [
      "44/44 [==============================] - 2s 43ms/step - loss: 0.0048\n",
      "Epoch 2/100\n",
      "44/44 [==============================] - 2s 42ms/step - loss: 0.0047\n",
      "Epoch 3/100\n",
      "44/44 [==============================] - 2s 42ms/step - loss: 0.0042\n",
      "Epoch 4/100\n",
      "44/44 [==============================] - 2s 42ms/step - loss: 0.0045\n",
      "Epoch 5/100\n",
      "44/44 [==============================] - 2s 42ms/step - loss: 0.0046\n",
      "Epoch 6/100\n",
      "44/44 [==============================] - 2s 42ms/step - loss: 0.0042\n",
      "Epoch 7/100\n",
      "44/44 [==============================] - 2s 42ms/step - loss: 0.0044\n",
      "Epoch 8/100\n",
      "44/44 [==============================] - 2s 42ms/step - loss: 0.0044\n",
      "Epoch 9/100\n",
      "44/44 [==============================] - 2s 42ms/step - loss: 0.0045\n",
      "Epoch 10/100\n",
      "44/44 [==============================] - 2s 42ms/step - loss: 0.0046\n",
      "Epoch 11/100\n",
      "44/44 [==============================] - 2s 42ms/step - loss: 0.0044\n",
      "Epoch 12/100\n",
      "44/44 [==============================] - 2s 42ms/step - loss: 0.0042\n",
      "Epoch 13/100\n",
      "44/44 [==============================] - 2s 42ms/step - loss: 0.0046\n",
      "Epoch 14/100\n",
      "44/44 [==============================] - 2s 42ms/step - loss: 0.0042\n",
      "Epoch 15/100\n",
      "44/44 [==============================] - 2s 42ms/step - loss: 0.0042\n",
      "Epoch 16/100\n",
      "44/44 [==============================] - 2s 42ms/step - loss: 0.0040\n",
      "Epoch 17/100\n",
      "44/44 [==============================] - 2s 42ms/step - loss: 0.0040\n",
      "Epoch 18/100\n",
      "44/44 [==============================] - 2s 42ms/step - loss: 0.0047\n",
      "Epoch 19/100\n",
      "44/44 [==============================] - 2s 42ms/step - loss: 0.0050\n",
      "Epoch 20/100\n",
      "44/44 [==============================] - 2s 42ms/step - loss: 0.0045\n",
      "Epoch 21/100\n",
      "44/44 [==============================] - 2s 42ms/step - loss: 0.0045\n",
      "Epoch 22/100\n",
      "44/44 [==============================] - 2s 42ms/step - loss: 0.0047\n",
      "Epoch 23/100\n",
      "44/44 [==============================] - 2s 42ms/step - loss: 0.0041\n",
      "Epoch 24/100\n",
      "44/44 [==============================] - 2s 42ms/step - loss: 0.0041\n",
      "Epoch 25/100\n",
      "44/44 [==============================] - 2s 42ms/step - loss: 0.0040\n",
      "Epoch 26/100\n",
      "44/44 [==============================] - 2s 42ms/step - loss: 0.0041\n",
      "Epoch 27/100\n",
      "44/44 [==============================] - 2s 42ms/step - loss: 0.0039\n",
      "Epoch 28/100\n",
      "44/44 [==============================] - 2s 42ms/step - loss: 0.0043\n",
      "Epoch 29/100\n",
      "44/44 [==============================] - 2s 42ms/step - loss: 0.0040\n",
      "Epoch 30/100\n",
      "44/44 [==============================] - 2s 42ms/step - loss: 0.0041\n",
      "Epoch 31/100\n",
      "44/44 [==============================] - 2s 42ms/step - loss: 0.0042\n",
      "Epoch 32/100\n",
      "44/44 [==============================] - 2s 42ms/step - loss: 0.0042\n",
      "Epoch 33/100\n",
      "44/44 [==============================] - 2s 42ms/step - loss: 0.0039\n",
      "Epoch 34/100\n",
      "44/44 [==============================] - 2s 42ms/step - loss: 0.0040\n",
      "Epoch 35/100\n",
      "44/44 [==============================] - 2s 42ms/step - loss: 0.0038\n",
      "Epoch 36/100\n",
      "44/44 [==============================] - 2s 42ms/step - loss: 0.0040\n",
      "Epoch 37/100\n",
      "44/44 [==============================] - 2s 42ms/step - loss: 0.0040\n",
      "Epoch 38/100\n",
      "44/44 [==============================] - 2s 42ms/step - loss: 0.0043\n",
      "Epoch 39/100\n",
      "44/44 [==============================] - 2s 42ms/step - loss: 0.0041\n",
      "Epoch 40/100\n",
      "44/44 [==============================] - 2s 42ms/step - loss: 0.0038\n",
      "Epoch 41/100\n",
      "44/44 [==============================] - 2s 42ms/step - loss: 0.0039\n",
      "Epoch 42/100\n",
      "44/44 [==============================] - 2s 42ms/step - loss: 0.0038\n",
      "Epoch 43/100\n",
      "44/44 [==============================] - 2s 42ms/step - loss: 0.0038\n",
      "Epoch 44/100\n",
      "44/44 [==============================] - 2s 42ms/step - loss: 0.0038\n",
      "Epoch 45/100\n",
      "44/44 [==============================] - 2s 42ms/step - loss: 0.0037\n",
      "Epoch 46/100\n",
      "44/44 [==============================] - 2s 42ms/step - loss: 0.0041\n",
      "Epoch 47/100\n",
      "44/44 [==============================] - 2s 42ms/step - loss: 0.0043\n",
      "Epoch 48/100\n",
      "44/44 [==============================] - 2s 42ms/step - loss: 0.0040\n",
      "Epoch 49/100\n",
      "44/44 [==============================] - 2s 42ms/step - loss: 0.0038\n",
      "Epoch 50/100\n",
      "44/44 [==============================] - 2s 42ms/step - loss: 0.0039\n",
      "Epoch 51/100\n",
      "44/44 [==============================] - 2s 42ms/step - loss: 0.0040\n",
      "Epoch 52/100\n",
      "44/44 [==============================] - 2s 42ms/step - loss: 0.0042\n",
      "Epoch 53/100\n",
      "44/44 [==============================] - 2s 42ms/step - loss: 0.0037\n",
      "Epoch 54/100\n",
      "44/44 [==============================] - 2s 42ms/step - loss: 0.0041\n",
      "Epoch 55/100\n",
      "44/44 [==============================] - 2s 42ms/step - loss: 0.0040\n",
      "Epoch 56/100\n",
      "44/44 [==============================] - 2s 42ms/step - loss: 0.0042\n",
      "Epoch 57/100\n",
      "44/44 [==============================] - 2s 42ms/step - loss: 0.0042\n",
      "Epoch 58/100\n",
      "44/44 [==============================] - 2s 42ms/step - loss: 0.0040\n",
      "Epoch 59/100\n",
      "44/44 [==============================] - 2s 42ms/step - loss: 0.0035\n",
      "Epoch 60/100\n",
      "44/44 [==============================] - 2s 42ms/step - loss: 0.0037\n",
      "Epoch 61/100\n",
      "44/44 [==============================] - 2s 42ms/step - loss: 0.0040\n",
      "Epoch 62/100\n",
      "44/44 [==============================] - 2s 42ms/step - loss: 0.0036\n",
      "Epoch 63/100\n",
      "44/44 [==============================] - 2s 42ms/step - loss: 0.0038\n",
      "Epoch 64/100\n",
      "44/44 [==============================] - 2s 42ms/step - loss: 0.0038\n",
      "Epoch 65/100\n",
      "44/44 [==============================] - 2s 42ms/step - loss: 0.0036\n",
      "Epoch 66/100\n",
      "44/44 [==============================] - 2s 42ms/step - loss: 0.0035\n",
      "Epoch 67/100\n",
      "44/44 [==============================] - 2s 42ms/step - loss: 0.0038\n",
      "Epoch 68/100\n",
      "44/44 [==============================] - 2s 42ms/step - loss: 0.0036\n",
      "Epoch 69/100\n",
      "44/44 [==============================] - 2s 42ms/step - loss: 0.0039\n",
      "Epoch 70/100\n",
      "44/44 [==============================] - 2s 42ms/step - loss: 0.0039\n",
      "Epoch 71/100\n",
      "44/44 [==============================] - 2s 42ms/step - loss: 0.0037\n",
      "Epoch 72/100\n",
      "44/44 [==============================] - 2s 42ms/step - loss: 0.0040\n",
      "Epoch 73/100\n",
      "44/44 [==============================] - 2s 42ms/step - loss: 0.0036\n",
      "Epoch 74/100\n",
      "44/44 [==============================] - 2s 42ms/step - loss: 0.0037\n",
      "Epoch 75/100\n",
      "44/44 [==============================] - 2s 42ms/step - loss: 0.0037\n",
      "Epoch 76/100\n",
      "44/44 [==============================] - 2s 42ms/step - loss: 0.0037\n",
      "Epoch 77/100\n",
      "44/44 [==============================] - 2s 42ms/step - loss: 0.0044\n",
      "Epoch 78/100\n",
      "44/44 [==============================] - 2s 42ms/step - loss: 0.0042\n",
      "Epoch 79/100\n",
      "44/44 [==============================] - 2s 42ms/step - loss: 0.0040\n",
      "Epoch 80/100\n",
      "44/44 [==============================] - 2s 42ms/step - loss: 0.0035\n",
      "Epoch 81/100\n",
      "44/44 [==============================] - 2s 42ms/step - loss: 0.0038\n",
      "Epoch 82/100\n",
      "44/44 [==============================] - 2s 42ms/step - loss: 0.0038\n",
      "Epoch 83/100\n",
      "44/44 [==============================] - 2s 42ms/step - loss: 0.0034\n",
      "Epoch 84/100\n",
      "44/44 [==============================] - 2s 42ms/step - loss: 0.0038\n",
      "Epoch 85/100\n",
      "44/44 [==============================] - 2s 42ms/step - loss: 0.0036\n",
      "Epoch 86/100\n",
      "44/44 [==============================] - 2s 42ms/step - loss: 0.0037\n",
      "Epoch 87/100\n",
      "44/44 [==============================] - 2s 42ms/step - loss: 0.0039\n",
      "Epoch 88/100\n",
      "44/44 [==============================] - 2s 42ms/step - loss: 0.0036\n",
      "Epoch 89/100\n",
      "44/44 [==============================] - 2s 42ms/step - loss: 0.0036\n",
      "Epoch 90/100\n",
      "44/44 [==============================] - 2s 42ms/step - loss: 0.0036\n",
      "Epoch 91/100\n",
      "44/44 [==============================] - 2s 42ms/step - loss: 0.0038\n",
      "Epoch 92/100\n",
      "44/44 [==============================] - 2s 42ms/step - loss: 0.0036\n",
      "Epoch 93/100\n",
      "44/44 [==============================] - 2s 42ms/step - loss: 0.0035\n",
      "Epoch 94/100\n",
      "44/44 [==============================] - 2s 42ms/step - loss: 0.0035\n",
      "Epoch 95/100\n",
      "44/44 [==============================] - 2s 42ms/step - loss: 0.0034\n",
      "Epoch 96/100\n",
      "44/44 [==============================] - 2s 42ms/step - loss: 0.0035\n",
      "Epoch 97/100\n",
      "44/44 [==============================] - 2s 42ms/step - loss: 0.0036\n",
      "Epoch 98/100\n",
      "44/44 [==============================] - 2s 42ms/step - loss: 0.0034\n",
      "Epoch 99/100\n",
      "44/44 [==============================] - 2s 42ms/step - loss: 0.0037\n",
      "Epoch 100/100\n",
      "44/44 [==============================] - 2s 42ms/step - loss: 0.0034\n"
     ]
    },
    {
     "data": {
      "text/plain": [
       "<keras.callbacks.History at 0x1eb52e45790>"
      ]
     },
     "execution_count": 52,
     "metadata": {},
     "output_type": "execute_result"
    }
   ],
   "source": [
    "# Train/Fit LSTM model\n",
    "# In forecasting, we don't validate, only FORECAST\n",
    "# So, no need to EarlyStop, no need for validation_generator\n",
    "\n",
    "model.fit_generator(forecast_tsGenerator, epochs = 100)"
   ]
  },
  {
   "cell_type": "markdown",
   "id": "d5181df7",
   "metadata": {},
   "source": [
    "#### Time Series Forecasting using LSTM Neural Network: 1/01/17 - 4/24/17"
   ]
  },
  {
   "cell_type": "code",
   "execution_count": 53,
   "id": "d82a7cb8",
   "metadata": {},
   "outputs": [
    {
     "name": "stdout",
     "output_type": "stream",
     "text": [
      "1/1 [==============================] - 0s 420ms/step\n",
      "1/1 [==============================] - 0s 21ms/step\n",
      "1/1 [==============================] - 0s 21ms/step\n",
      "1/1 [==============================] - 0s 21ms/step\n",
      "1/1 [==============================] - 0s 20ms/step\n",
      "1/1 [==============================] - 0s 20ms/step\n",
      "1/1 [==============================] - 0s 21ms/step\n",
      "1/1 [==============================] - 0s 21ms/step\n",
      "1/1 [==============================] - 0s 20ms/step\n",
      "1/1 [==============================] - 0s 20ms/step\n",
      "1/1 [==============================] - 0s 21ms/step\n",
      "1/1 [==============================] - 0s 21ms/step\n",
      "1/1 [==============================] - 0s 20ms/step\n",
      "1/1 [==============================] - 0s 20ms/step\n",
      "1/1 [==============================] - 0s 22ms/step\n",
      "1/1 [==============================] - 0s 21ms/step\n",
      "1/1 [==============================] - 0s 20ms/step\n",
      "1/1 [==============================] - 0s 21ms/step\n",
      "1/1 [==============================] - 0s 20ms/step\n",
      "1/1 [==============================] - 0s 20ms/step\n",
      "1/1 [==============================] - 0s 21ms/step\n",
      "1/1 [==============================] - 0s 21ms/step\n",
      "1/1 [==============================] - 0s 20ms/step\n",
      "1/1 [==============================] - 0s 20ms/step\n",
      "1/1 [==============================] - 0s 21ms/step\n",
      "1/1 [==============================] - 0s 21ms/step\n",
      "1/1 [==============================] - 0s 21ms/step\n",
      "1/1 [==============================] - 0s 21ms/step\n",
      "1/1 [==============================] - 0s 20ms/step\n",
      "1/1 [==============================] - 0s 21ms/step\n",
      "1/1 [==============================] - 0s 22ms/step\n",
      "1/1 [==============================] - 0s 21ms/step\n",
      "1/1 [==============================] - 0s 21ms/step\n",
      "1/1 [==============================] - 0s 21ms/step\n",
      "1/1 [==============================] - 0s 21ms/step\n",
      "1/1 [==============================] - 0s 24ms/step\n",
      "1/1 [==============================] - 0s 21ms/step\n",
      "1/1 [==============================] - 0s 22ms/step\n",
      "1/1 [==============================] - 0s 22ms/step\n",
      "1/1 [==============================] - 0s 21ms/step\n",
      "1/1 [==============================] - 0s 21ms/step\n",
      "1/1 [==============================] - 0s 22ms/step\n",
      "1/1 [==============================] - 0s 22ms/step\n",
      "1/1 [==============================] - 0s 21ms/step\n",
      "1/1 [==============================] - 0s 20ms/step\n",
      "1/1 [==============================] - 0s 21ms/step\n",
      "1/1 [==============================] - 0s 21ms/step\n",
      "1/1 [==============================] - 0s 21ms/step\n",
      "1/1 [==============================] - 0s 23ms/step\n",
      "1/1 [==============================] - 0s 21ms/step\n",
      "1/1 [==============================] - 0s 20ms/step\n",
      "1/1 [==============================] - 0s 21ms/step\n",
      "1/1 [==============================] - 0s 21ms/step\n",
      "1/1 [==============================] - 0s 21ms/step\n",
      "1/1 [==============================] - 0s 20ms/step\n",
      "1/1 [==============================] - 0s 21ms/step\n",
      "1/1 [==============================] - 0s 21ms/step\n",
      "1/1 [==============================] - 0s 20ms/step\n",
      "1/1 [==============================] - 0s 22ms/step\n",
      "1/1 [==============================] - 0s 21ms/step\n",
      "1/1 [==============================] - 0s 20ms/step\n",
      "1/1 [==============================] - 0s 21ms/step\n",
      "1/1 [==============================] - 0s 21ms/step\n",
      "1/1 [==============================] - 0s 21ms/step\n",
      "1/1 [==============================] - 0s 21ms/step\n",
      "1/1 [==============================] - 0s 21ms/step\n",
      "1/1 [==============================] - 0s 21ms/step\n",
      "1/1 [==============================] - 0s 21ms/step\n",
      "1/1 [==============================] - 0s 21ms/step\n",
      "1/1 [==============================] - 0s 20ms/step\n",
      "1/1 [==============================] - 0s 20ms/step\n",
      "1/1 [==============================] - 0s 21ms/step\n",
      "1/1 [==============================] - 0s 21ms/step\n",
      "1/1 [==============================] - 0s 21ms/step\n",
      "1/1 [==============================] - 0s 21ms/step\n",
      "1/1 [==============================] - 0s 21ms/step\n",
      "1/1 [==============================] - 0s 20ms/step\n",
      "1/1 [==============================] - 0s 21ms/step\n",
      "1/1 [==============================] - 0s 22ms/step\n",
      "1/1 [==============================] - 0s 20ms/step\n",
      "1/1 [==============================] - 0s 20ms/step\n",
      "1/1 [==============================] - 0s 21ms/step\n",
      "1/1 [==============================] - 0s 21ms/step\n",
      "1/1 [==============================] - 0s 21ms/step\n",
      "1/1 [==============================] - 0s 21ms/step\n",
      "1/1 [==============================] - 0s 21ms/step\n",
      "1/1 [==============================] - 0s 22ms/step\n",
      "1/1 [==============================] - 0s 21ms/step\n",
      "1/1 [==============================] - 0s 21ms/step\n",
      "1/1 [==============================] - 0s 21ms/step\n",
      "1/1 [==============================] - 0s 21ms/step\n",
      "1/1 [==============================] - 0s 21ms/step\n",
      "1/1 [==============================] - 0s 21ms/step\n",
      "1/1 [==============================] - 0s 21ms/step\n",
      "1/1 [==============================] - 0s 20ms/step\n",
      "1/1 [==============================] - 0s 21ms/step\n",
      "1/1 [==============================] - 0s 21ms/step\n",
      "1/1 [==============================] - 0s 21ms/step\n",
      "1/1 [==============================] - 0s 21ms/step\n",
      "1/1 [==============================] - 0s 21ms/step\n",
      "1/1 [==============================] - 0s 21ms/step\n",
      "1/1 [==============================] - 0s 20ms/step\n",
      "1/1 [==============================] - 0s 21ms/step\n",
      "1/1 [==============================] - 0s 21ms/step\n",
      "1/1 [==============================] - 0s 21ms/step\n",
      "1/1 [==============================] - 0s 21ms/step\n",
      "1/1 [==============================] - 0s 21ms/step\n",
      "1/1 [==============================] - 0s 21ms/step\n",
      "1/1 [==============================] - 0s 21ms/step\n",
      "1/1 [==============================] - 0s 20ms/step\n",
      "1/1 [==============================] - 0s 20ms/step\n",
      "1/1 [==============================] - 0s 21ms/step\n",
      "1/1 [==============================] - 0s 21ms/step\n",
      "1/1 [==============================] - 0s 21ms/step\n"
     ]
    }
   ],
   "source": [
    "forecast = []\n",
    "\n",
    "# Set periods with the time span of forecasting\n",
    "# Let's forecast for the next 114 business days 1/01/17 - 4/24/17\n",
    "periods = 114\n",
    "\n",
    "first_eval_batch = normalized_full_data[-length60:]\n",
    "current_batch = first_eval_batch.reshape((1, length60, n_features))\n",
    "\n",
    "for i in range(periods):\n",
    "    \n",
    "    # get prediction 1 time stamp ahead ([0] is for grabbing just the number instead of [array])\n",
    "    current_pred = model.predict(current_batch)[0]\n",
    "    \n",
    "    # store prediction\n",
    "    forecast.append(current_pred)\n",
    "    \n",
    "    # update batch to now include prediction and drop first value\n",
    "    current_batch = np.append(current_batch[:,1:,:], [[current_pred]], axis=1)"
   ]
  },
  {
   "cell_type": "markdown",
   "id": "986631dd",
   "metadata": {},
   "source": [
    "#### Inverse to Transform Normalized Data Back into True Values"
   ]
  },
  {
   "cell_type": "code",
   "execution_count": 54,
   "id": "0c984fbb",
   "metadata": {},
   "outputs": [
    {
     "data": {
      "text/plain": [
       "array([[13.8469387 ],\n",
       "       [13.40235275],\n",
       "       [13.02604387],\n",
       "       [12.70620866],\n",
       "       [12.44546978],\n",
       "       [12.24533013],\n",
       "       [12.10215847],\n",
       "       [12.00994074],\n",
       "       [11.96110101],\n",
       "       [11.95086001],\n",
       "       [11.97391688],\n",
       "       [12.02024999],\n",
       "       [12.08222294],\n",
       "       [12.15522271],\n",
       "       [12.23467136],\n",
       "       [12.31696739],\n",
       "       [12.40009799],\n",
       "       [12.48476415],\n",
       "       [12.56807121],\n",
       "       [12.64800296],\n",
       "       [12.72375456],\n",
       "       [12.7948707 ],\n",
       "       [12.86123683],\n",
       "       [12.92344621],\n",
       "       [12.98167628],\n",
       "       [13.03540594],\n",
       "       [13.08476971],\n",
       "       [13.13016977],\n",
       "       [13.17139164],\n",
       "       [13.20913533],\n",
       "       [13.24545363],\n",
       "       [13.28014667],\n",
       "       [13.31148291],\n",
       "       [13.33997276],\n",
       "       [13.36559572],\n",
       "       [13.38838643],\n",
       "       [13.40843798],\n",
       "       [13.42649281],\n",
       "       [13.44238956],\n",
       "       [13.4568653 ],\n",
       "       [13.46969921],\n",
       "       [13.48110334],\n",
       "       [13.49124976],\n",
       "       [13.5002082 ],\n",
       "       [13.50803421],\n",
       "       [13.51496083],\n",
       "       [13.52100803],\n",
       "       [13.52636203],\n",
       "       [13.53110473],\n",
       "       [13.53523906],\n",
       "       [13.53886494],\n",
       "       [13.5420438 ],\n",
       "       [13.54486047],\n",
       "       [13.5473281 ],\n",
       "       [13.54952761],\n",
       "       [13.55147704],\n",
       "       [13.55321199],\n",
       "       [13.5547456 ],\n",
       "       [13.55611055],\n",
       "       [13.5573312 ],\n",
       "       [13.55841487],\n",
       "       [13.55938691],\n",
       "       [13.56025414],\n",
       "       [13.56103021],\n",
       "       [13.56172535],\n",
       "       [13.56234689],\n",
       "       [13.56290262],\n",
       "       [13.5634018 ],\n",
       "       [13.56384785],\n",
       "       [13.56424661],\n",
       "       [13.56460247],\n",
       "       [13.56492225],\n",
       "       [13.56520646],\n",
       "       [13.56546043],\n",
       "       [13.5656876 ],\n",
       "       [13.56588942],\n",
       "       [13.56607027],\n",
       "       [13.56622919],\n",
       "       [13.56637105],\n",
       "       [13.56649682],\n",
       "       [13.56660748],\n",
       "       [13.56670692],\n",
       "       [13.56679516],\n",
       "       [13.56687218],\n",
       "       [13.56694091],\n",
       "       [13.56700185],\n",
       "       [13.56705596],\n",
       "       [13.56710324],\n",
       "       [13.56714517],\n",
       "       [13.56718222],\n",
       "       [13.56721536],\n",
       "       [13.56724364],\n",
       "       [13.56726947],\n",
       "       [13.56729141],\n",
       "       [13.5673114 ],\n",
       "       [13.56732895],\n",
       "       [13.56734406],\n",
       "       [13.5673582 ],\n",
       "       [13.56737038],\n",
       "       [13.56738062],\n",
       "       [13.56738988],\n",
       "       [13.56739817],\n",
       "       [13.56740548],\n",
       "       [13.56741133],\n",
       "       [13.56741718],\n",
       "       [13.56742206],\n",
       "       [13.56742596],\n",
       "       [13.56742986],\n",
       "       [13.56743376],\n",
       "       [13.56743619],\n",
       "       [13.56743912],\n",
       "       [13.56744009],\n",
       "       [13.56744302],\n",
       "       [13.56744448]])"
      ]
     },
     "execution_count": 54,
     "metadata": {},
     "output_type": "execute_result"
    }
   ],
   "source": [
    "forecast = full_scaler.inverse_transform(forecast)\n",
    "\n",
    "forecast"
   ]
  },
  {
   "cell_type": "code",
   "execution_count": 55,
   "id": "9025a143",
   "metadata": {},
   "outputs": [
    {
     "data": {
      "text/html": [
       "<div>\n",
       "<style scoped>\n",
       "    .dataframe tbody tr th:only-of-type {\n",
       "        vertical-align: middle;\n",
       "    }\n",
       "\n",
       "    .dataframe tbody tr th {\n",
       "        vertical-align: top;\n",
       "    }\n",
       "\n",
       "    .dataframe thead th {\n",
       "        text-align: right;\n",
       "    }\n",
       "</style>\n",
       "<table border=\"1\" class=\"dataframe\">\n",
       "  <thead>\n",
       "    <tr style=\"text-align: right;\">\n",
       "      <th></th>\n",
       "      <th>meantemp</th>\n",
       "    </tr>\n",
       "  </thead>\n",
       "  <tbody>\n",
       "    <tr>\n",
       "      <th>0</th>\n",
       "      <td>10.000000</td>\n",
       "    </tr>\n",
       "    <tr>\n",
       "      <th>1</th>\n",
       "      <td>7.400000</td>\n",
       "    </tr>\n",
       "    <tr>\n",
       "      <th>2</th>\n",
       "      <td>7.166667</td>\n",
       "    </tr>\n",
       "    <tr>\n",
       "      <th>3</th>\n",
       "      <td>8.666667</td>\n",
       "    </tr>\n",
       "    <tr>\n",
       "      <th>4</th>\n",
       "      <td>6.000000</td>\n",
       "    </tr>\n",
       "    <tr>\n",
       "      <th>...</th>\n",
       "      <td>...</td>\n",
       "    </tr>\n",
       "    <tr>\n",
       "      <th>1457</th>\n",
       "      <td>17.217391</td>\n",
       "    </tr>\n",
       "    <tr>\n",
       "      <th>1458</th>\n",
       "      <td>15.238095</td>\n",
       "    </tr>\n",
       "    <tr>\n",
       "      <th>1459</th>\n",
       "      <td>14.095238</td>\n",
       "    </tr>\n",
       "    <tr>\n",
       "      <th>1460</th>\n",
       "      <td>15.052632</td>\n",
       "    </tr>\n",
       "    <tr>\n",
       "      <th>1461</th>\n",
       "      <td>10.000000</td>\n",
       "    </tr>\n",
       "  </tbody>\n",
       "</table>\n",
       "<p>1462 rows × 1 columns</p>\n",
       "</div>"
      ],
      "text/plain": [
       "       meantemp\n",
       "0     10.000000\n",
       "1      7.400000\n",
       "2      7.166667\n",
       "3      8.666667\n",
       "4      6.000000\n",
       "...         ...\n",
       "1457  17.217391\n",
       "1458  15.238095\n",
       "1459  14.095238\n",
       "1460  15.052632\n",
       "1461  10.000000\n",
       "\n",
       "[1462 rows x 1 columns]"
      ]
     },
     "execution_count": 55,
     "metadata": {},
     "output_type": "execute_result"
    }
   ],
   "source": [
    "df"
   ]
  },
  {
   "cell_type": "markdown",
   "id": "eeeb9b93",
   "metadata": {},
   "source": [
    "#### Creating new timestamp index with pandas: 1/01/17 - 2/24/17"
   ]
  },
  {
   "cell_type": "code",
   "execution_count": 56,
   "id": "0ab9f20d",
   "metadata": {},
   "outputs": [],
   "source": [
    "# calculate forecast index\n",
    "\n",
    "forecast_index = np.arange(1462, 1576, step=1)"
   ]
  },
  {
   "cell_type": "code",
   "execution_count": 57,
   "id": "b69ec29a",
   "metadata": {},
   "outputs": [],
   "source": [
    "forecast_df = pd.DataFrame(data=forecast, index=forecast_index, columns=['Forecast'])"
   ]
  },
  {
   "cell_type": "code",
   "execution_count": 58,
   "id": "e0e44849",
   "metadata": {},
   "outputs": [
    {
     "data": {
      "text/html": [
       "<div>\n",
       "<style scoped>\n",
       "    .dataframe tbody tr th:only-of-type {\n",
       "        vertical-align: middle;\n",
       "    }\n",
       "\n",
       "    .dataframe tbody tr th {\n",
       "        vertical-align: top;\n",
       "    }\n",
       "\n",
       "    .dataframe thead th {\n",
       "        text-align: right;\n",
       "    }\n",
       "</style>\n",
       "<table border=\"1\" class=\"dataframe\">\n",
       "  <thead>\n",
       "    <tr style=\"text-align: right;\">\n",
       "      <th></th>\n",
       "      <th>Forecast</th>\n",
       "    </tr>\n",
       "  </thead>\n",
       "  <tbody>\n",
       "    <tr>\n",
       "      <th>1462</th>\n",
       "      <td>13.846939</td>\n",
       "    </tr>\n",
       "    <tr>\n",
       "      <th>1463</th>\n",
       "      <td>13.402353</td>\n",
       "    </tr>\n",
       "    <tr>\n",
       "      <th>1464</th>\n",
       "      <td>13.026044</td>\n",
       "    </tr>\n",
       "    <tr>\n",
       "      <th>1465</th>\n",
       "      <td>12.706209</td>\n",
       "    </tr>\n",
       "    <tr>\n",
       "      <th>1466</th>\n",
       "      <td>12.445470</td>\n",
       "    </tr>\n",
       "    <tr>\n",
       "      <th>...</th>\n",
       "      <td>...</td>\n",
       "    </tr>\n",
       "    <tr>\n",
       "      <th>1571</th>\n",
       "      <td>13.567436</td>\n",
       "    </tr>\n",
       "    <tr>\n",
       "      <th>1572</th>\n",
       "      <td>13.567439</td>\n",
       "    </tr>\n",
       "    <tr>\n",
       "      <th>1573</th>\n",
       "      <td>13.567440</td>\n",
       "    </tr>\n",
       "    <tr>\n",
       "      <th>1574</th>\n",
       "      <td>13.567443</td>\n",
       "    </tr>\n",
       "    <tr>\n",
       "      <th>1575</th>\n",
       "      <td>13.567444</td>\n",
       "    </tr>\n",
       "  </tbody>\n",
       "</table>\n",
       "<p>114 rows × 1 columns</p>\n",
       "</div>"
      ],
      "text/plain": [
       "       Forecast\n",
       "1462  13.846939\n",
       "1463  13.402353\n",
       "1464  13.026044\n",
       "1465  12.706209\n",
       "1466  12.445470\n",
       "...         ...\n",
       "1571  13.567436\n",
       "1572  13.567439\n",
       "1573  13.567440\n",
       "1574  13.567443\n",
       "1575  13.567444\n",
       "\n",
       "[114 rows x 1 columns]"
      ]
     },
     "execution_count": 58,
     "metadata": {},
     "output_type": "execute_result"
    }
   ],
   "source": [
    "forecast_df"
   ]
  },
  {
   "cell_type": "markdown",
   "id": "e2e2f5ae",
   "metadata": {},
   "source": [
    "#### Plot the forecast"
   ]
  },
  {
   "cell_type": "code",
   "execution_count": 59,
   "id": "08fb80ee",
   "metadata": {},
   "outputs": [
    {
     "data": {
      "text/plain": [
       "<AxesSubplot:>"
      ]
     },
     "execution_count": 59,
     "metadata": {},
     "output_type": "execute_result"
    },
    {
     "data": {
      "image/png": "[encoded data removed]",
      "text/plain": [
       "<Figure size 432x288 with 1 Axes>"
      ]
     },
     "metadata": {
      "needs_background": "light"
     },
     "output_type": "display_data"
    },
    {
     "data": {
      "image/png": "[encoded data removed]",
      "text/plain": [
       "<Figure size 432x288 with 1 Axes>"
      ]
     },
     "metadata": {
      "needs_background": "light"
     },
     "output_type": "display_data"
    }
   ],
   "source": [
    "df.plot()\n",
    "forecast_df.plot()"
   ]
  },
  {
   "cell_type": "markdown",
   "id": "d05907dc",
   "metadata": {},
   "source": [
    "#### Joining Pandas Plots"
   ]
  },
  {
   "cell_type": "code",
   "execution_count": 60,
   "id": "b8a9cad5",
   "metadata": {
    "scrolled": true
   },
   "outputs": [
    {
     "data": {
      "text/plain": [
       "<AxesSubplot:>"
      ]
     },
     "execution_count": 60,
     "metadata": {},
     "output_type": "execute_result"
    },
    {
     "data": {
      "image/png": "[encoded data removed]",
      "text/plain": [
       "<Figure size 864x576 with 1 Axes>"
      ]
     },
     "metadata": {
      "needs_background": "light"
     },
     "output_type": "display_data"
    }
   ],
   "source": [
    "ax = df.plot()\n",
    "\n",
    "forecast_df.plot(ax=ax, figsize=(12, 8))"
   ]
  },
  {
   "cell_type": "code",
   "execution_count": 61,
   "id": "b7ad78fa",
   "metadata": {},
   "outputs": [],
   "source": [
    "dir_path_dataset_2 = 'DELHI_010117_042417.csv'"
   ]
  },
  {
   "cell_type": "code",
   "execution_count": 62,
   "id": "3f5ed1ea",
   "metadata": {},
   "outputs": [],
   "source": [
    "df_DELHI_2017 = pd.read_csv(dir_path_dataset_2)"
   ]
  },
  {
   "cell_type": "code",
   "execution_count": 63,
   "id": "2d884d09",
   "metadata": {},
   "outputs": [
    {
     "data": {
      "text/html": [
       "<div>\n",
       "<style scoped>\n",
       "    .dataframe tbody tr th:only-of-type {\n",
       "        vertical-align: middle;\n",
       "    }\n",
       "\n",
       "    .dataframe tbody tr th {\n",
       "        vertical-align: top;\n",
       "    }\n",
       "\n",
       "    .dataframe thead th {\n",
       "        text-align: right;\n",
       "    }\n",
       "</style>\n",
       "<table border=\"1\" class=\"dataframe\">\n",
       "  <thead>\n",
       "    <tr style=\"text-align: right;\">\n",
       "      <th></th>\n",
       "      <th>date</th>\n",
       "      <th>meantemp</th>\n",
       "      <th>humidity</th>\n",
       "      <th>wind_speed</th>\n",
       "      <th>meanpressure</th>\n",
       "    </tr>\n",
       "  </thead>\n",
       "  <tbody>\n",
       "    <tr>\n",
       "      <th>109</th>\n",
       "      <td>2017-04-20</td>\n",
       "      <td>34.500</td>\n",
       "      <td>27.500000</td>\n",
       "      <td>5.562500</td>\n",
       "      <td>998.625000</td>\n",
       "    </tr>\n",
       "    <tr>\n",
       "      <th>110</th>\n",
       "      <td>2017-04-21</td>\n",
       "      <td>34.250</td>\n",
       "      <td>39.375000</td>\n",
       "      <td>6.962500</td>\n",
       "      <td>999.875000</td>\n",
       "    </tr>\n",
       "    <tr>\n",
       "      <th>111</th>\n",
       "      <td>2017-04-22</td>\n",
       "      <td>32.900</td>\n",
       "      <td>40.900000</td>\n",
       "      <td>8.890000</td>\n",
       "      <td>1001.600000</td>\n",
       "    </tr>\n",
       "    <tr>\n",
       "      <th>112</th>\n",
       "      <td>2017-04-23</td>\n",
       "      <td>32.875</td>\n",
       "      <td>27.500000</td>\n",
       "      <td>9.962500</td>\n",
       "      <td>1002.125000</td>\n",
       "    </tr>\n",
       "    <tr>\n",
       "      <th>113</th>\n",
       "      <td>2017-04-24</td>\n",
       "      <td>32.000</td>\n",
       "      <td>27.142857</td>\n",
       "      <td>12.157143</td>\n",
       "      <td>1004.142857</td>\n",
       "    </tr>\n",
       "  </tbody>\n",
       "</table>\n",
       "</div>"
      ],
      "text/plain": [
       "           date  meantemp   humidity  wind_speed  meanpressure\n",
       "109  2017-04-20    34.500  27.500000    5.562500    998.625000\n",
       "110  2017-04-21    34.250  39.375000    6.962500    999.875000\n",
       "111  2017-04-22    32.900  40.900000    8.890000   1001.600000\n",
       "112  2017-04-23    32.875  27.500000    9.962500   1002.125000\n",
       "113  2017-04-24    32.000  27.142857   12.157143   1004.142857"
      ]
     },
     "execution_count": 63,
     "metadata": {},
     "output_type": "execute_result"
    }
   ],
   "source": [
    "df_DELHI_2017.tail()"
   ]
  },
  {
   "cell_type": "code",
   "execution_count": 64,
   "id": "fadd2ce0",
   "metadata": {},
   "outputs": [],
   "source": [
    "df_DELHI_2017 = df_DELHI_2017.iloc[:,1:2]"
   ]
  },
  {
   "cell_type": "code",
   "execution_count": 65,
   "id": "1039de17",
   "metadata": {},
   "outputs": [
    {
     "data": {
      "text/html": [
       "<div>\n",
       "<style scoped>\n",
       "    .dataframe tbody tr th:only-of-type {\n",
       "        vertical-align: middle;\n",
       "    }\n",
       "\n",
       "    .dataframe tbody tr th {\n",
       "        vertical-align: top;\n",
       "    }\n",
       "\n",
       "    .dataframe thead th {\n",
       "        text-align: right;\n",
       "    }\n",
       "</style>\n",
       "<table border=\"1\" class=\"dataframe\">\n",
       "  <thead>\n",
       "    <tr style=\"text-align: right;\">\n",
       "      <th></th>\n",
       "      <th>meantemp</th>\n",
       "    </tr>\n",
       "  </thead>\n",
       "  <tbody>\n",
       "    <tr>\n",
       "      <th>0</th>\n",
       "      <td>15.913043</td>\n",
       "    </tr>\n",
       "    <tr>\n",
       "      <th>1</th>\n",
       "      <td>18.500000</td>\n",
       "    </tr>\n",
       "    <tr>\n",
       "      <th>2</th>\n",
       "      <td>17.111111</td>\n",
       "    </tr>\n",
       "    <tr>\n",
       "      <th>3</th>\n",
       "      <td>18.700000</td>\n",
       "    </tr>\n",
       "    <tr>\n",
       "      <th>4</th>\n",
       "      <td>18.388889</td>\n",
       "    </tr>\n",
       "    <tr>\n",
       "      <th>...</th>\n",
       "      <td>...</td>\n",
       "    </tr>\n",
       "    <tr>\n",
       "      <th>109</th>\n",
       "      <td>34.500000</td>\n",
       "    </tr>\n",
       "    <tr>\n",
       "      <th>110</th>\n",
       "      <td>34.250000</td>\n",
       "    </tr>\n",
       "    <tr>\n",
       "      <th>111</th>\n",
       "      <td>32.900000</td>\n",
       "    </tr>\n",
       "    <tr>\n",
       "      <th>112</th>\n",
       "      <td>32.875000</td>\n",
       "    </tr>\n",
       "    <tr>\n",
       "      <th>113</th>\n",
       "      <td>32.000000</td>\n",
       "    </tr>\n",
       "  </tbody>\n",
       "</table>\n",
       "<p>114 rows × 1 columns</p>\n",
       "</div>"
      ],
      "text/plain": [
       "      meantemp\n",
       "0    15.913043\n",
       "1    18.500000\n",
       "2    17.111111\n",
       "3    18.700000\n",
       "4    18.388889\n",
       "..         ...\n",
       "109  34.500000\n",
       "110  34.250000\n",
       "111  32.900000\n",
       "112  32.875000\n",
       "113  32.000000\n",
       "\n",
       "[114 rows x 1 columns]"
      ]
     },
     "execution_count": 65,
     "metadata": {},
     "output_type": "execute_result"
    }
   ],
   "source": [
    "df_DELHI_2017"
   ]
  },
  {
   "cell_type": "code",
   "execution_count": 66,
   "id": "ce7de662",
   "metadata": {},
   "outputs": [
    {
     "data": {
      "text/plain": [
       "<AxesSubplot:>"
      ]
     },
     "execution_count": 66,
     "metadata": {},
     "output_type": "execute_result"
    },
    {
     "data": {
      "image/png": "[encoded data removed]",
      "text/plain": [
       "<Figure size 432x288 with 1 Axes>"
      ]
     },
     "metadata": {
      "needs_background": "light"
     },
     "output_type": "display_data"
    }
   ],
   "source": [
    "df_DELHI_2017.plot()"
   ]
  },
  {
   "cell_type": "code",
   "execution_count": 67,
   "id": "c6010066",
   "metadata": {},
   "outputs": [
    {
     "data": {
      "text/plain": [
       "array([13.8469387 , 13.40235275, 13.02604387, 12.70620866, 12.44546978,\n",
       "       12.24533013, 12.10215847, 12.00994074, 11.96110101, 11.95086001,\n",
       "       11.97391688, 12.02024999, 12.08222294, 12.15522271, 12.23467136,\n",
       "       12.31696739, 12.40009799, 12.48476415, 12.56807121, 12.64800296,\n",
       "       12.72375456, 12.7948707 , 12.86123683, 12.92344621, 12.98167628,\n",
       "       13.03540594, 13.08476971, 13.13016977, 13.17139164, 13.20913533,\n",
       "       13.24545363, 13.28014667, 13.31148291, 13.33997276, 13.36559572,\n",
       "       13.38838643, 13.40843798, 13.42649281, 13.44238956, 13.4568653 ,\n",
       "       13.46969921, 13.48110334, 13.49124976, 13.5002082 , 13.50803421,\n",
       "       13.51496083, 13.52100803, 13.52636203, 13.53110473, 13.53523906,\n",
       "       13.53886494, 13.5420438 , 13.54486047, 13.5473281 , 13.54952761,\n",
       "       13.55147704, 13.55321199, 13.5547456 , 13.55611055, 13.5573312 ,\n",
       "       13.55841487, 13.55938691, 13.56025414, 13.56103021, 13.56172535,\n",
       "       13.56234689, 13.56290262, 13.5634018 , 13.56384785, 13.56424661,\n",
       "       13.56460247, 13.56492225, 13.56520646, 13.56546043, 13.5656876 ,\n",
       "       13.56588942, 13.56607027, 13.56622919, 13.56637105, 13.56649682,\n",
       "       13.56660748, 13.56670692, 13.56679516, 13.56687218, 13.56694091,\n",
       "       13.56700185, 13.56705596, 13.56710324, 13.56714517, 13.56718222,\n",
       "       13.56721536, 13.56724364, 13.56726947, 13.56729141, 13.5673114 ,\n",
       "       13.56732895, 13.56734406, 13.5673582 , 13.56737038, 13.56738062,\n",
       "       13.56738988, 13.56739817, 13.56740548, 13.56741133, 13.56741718,\n",
       "       13.56742206, 13.56742596, 13.56742986, 13.56743376, 13.56743619,\n",
       "       13.56743912, 13.56744009, 13.56744302, 13.56744448])"
      ]
     },
     "execution_count": 67,
     "metadata": {},
     "output_type": "execute_result"
    }
   ],
   "source": [
    "forecast_df['Forecast'].values"
   ]
  },
  {
   "cell_type": "code",
   "execution_count": 68,
   "id": "c4e0d767",
   "metadata": {},
   "outputs": [],
   "source": [
    "df_DELHI_2017['Forecast'] = forecast_df['Forecast'].values"
   ]
  },
  {
   "cell_type": "code",
   "execution_count": 69,
   "id": "86a98287",
   "metadata": {},
   "outputs": [
    {
     "data": {
      "text/html": [
       "<div>\n",
       "<style scoped>\n",
       "    .dataframe tbody tr th:only-of-type {\n",
       "        vertical-align: middle;\n",
       "    }\n",
       "\n",
       "    .dataframe tbody tr th {\n",
       "        vertical-align: top;\n",
       "    }\n",
       "\n",
       "    .dataframe thead th {\n",
       "        text-align: right;\n",
       "    }\n",
       "</style>\n",
       "<table border=\"1\" class=\"dataframe\">\n",
       "  <thead>\n",
       "    <tr style=\"text-align: right;\">\n",
       "      <th></th>\n",
       "      <th>meantemp</th>\n",
       "      <th>Forecast</th>\n",
       "    </tr>\n",
       "  </thead>\n",
       "  <tbody>\n",
       "    <tr>\n",
       "      <th>0</th>\n",
       "      <td>15.913043</td>\n",
       "      <td>13.846939</td>\n",
       "    </tr>\n",
       "    <tr>\n",
       "      <th>1</th>\n",
       "      <td>18.500000</td>\n",
       "      <td>13.402353</td>\n",
       "    </tr>\n",
       "    <tr>\n",
       "      <th>2</th>\n",
       "      <td>17.111111</td>\n",
       "      <td>13.026044</td>\n",
       "    </tr>\n",
       "    <tr>\n",
       "      <th>3</th>\n",
       "      <td>18.700000</td>\n",
       "      <td>12.706209</td>\n",
       "    </tr>\n",
       "    <tr>\n",
       "      <th>4</th>\n",
       "      <td>18.388889</td>\n",
       "      <td>12.445470</td>\n",
       "    </tr>\n",
       "    <tr>\n",
       "      <th>...</th>\n",
       "      <td>...</td>\n",
       "      <td>...</td>\n",
       "    </tr>\n",
       "    <tr>\n",
       "      <th>109</th>\n",
       "      <td>34.500000</td>\n",
       "      <td>13.567436</td>\n",
       "    </tr>\n",
       "    <tr>\n",
       "      <th>110</th>\n",
       "      <td>34.250000</td>\n",
       "      <td>13.567439</td>\n",
       "    </tr>\n",
       "    <tr>\n",
       "      <th>111</th>\n",
       "      <td>32.900000</td>\n",
       "      <td>13.567440</td>\n",
       "    </tr>\n",
       "    <tr>\n",
       "      <th>112</th>\n",
       "      <td>32.875000</td>\n",
       "      <td>13.567443</td>\n",
       "    </tr>\n",
       "    <tr>\n",
       "      <th>113</th>\n",
       "      <td>32.000000</td>\n",
       "      <td>13.567444</td>\n",
       "    </tr>\n",
       "  </tbody>\n",
       "</table>\n",
       "<p>114 rows × 2 columns</p>\n",
       "</div>"
      ],
      "text/plain": [
       "      meantemp   Forecast\n",
       "0    15.913043  13.846939\n",
       "1    18.500000  13.402353\n",
       "2    17.111111  13.026044\n",
       "3    18.700000  12.706209\n",
       "4    18.388889  12.445470\n",
       "..         ...        ...\n",
       "109  34.500000  13.567436\n",
       "110  34.250000  13.567439\n",
       "111  32.900000  13.567440\n",
       "112  32.875000  13.567443\n",
       "113  32.000000  13.567444\n",
       "\n",
       "[114 rows x 2 columns]"
      ]
     },
     "execution_count": 69,
     "metadata": {},
     "output_type": "execute_result"
    }
   ],
   "source": [
    "df_DELHI_2017"
   ]
  },
  {
   "cell_type": "code",
   "execution_count": 70,
   "id": "a99491f7",
   "metadata": {},
   "outputs": [
    {
     "data": {
      "text/plain": [
       "<AxesSubplot:>"
      ]
     },
     "execution_count": 70,
     "metadata": {},
     "output_type": "execute_result"
    },
    {
     "data": {
      "image/png": "[encoded data removed]",
      "text/plain": [
       "<Figure size 432x288 with 1 Axes>"
      ]
     },
     "metadata": {
      "needs_background": "light"
     },
     "output_type": "display_data"
    }
   ],
   "source": [
    "df_DELHI_2017.plot()"
   ]
  },
  {
   "cell_type": "code",
   "execution_count": null,
   "id": "9f2292cc",
   "metadata": {},
   "outputs": [],
   "source": []
  },
  {
   "cell_type": "code",
   "execution_count": null,
   "id": "7c11b2b0",
   "metadata": {},
   "outputs": [],
   "source": []
  }
 ],
 "metadata": {
  "kernelspec": {
   "display_name": "Python 3 (ipykernel)",
   "language": "python",
   "name": "python3"
  },
  "language_info": {
   "codemirror_mode": {
    "name": "ipython",
    "version": 3
   },
   "file_extension": ".py",
   "mimetype": "text/x-python",
   "name": "python",
   "nbconvert_exporter": "python",
   "pygments_lexer": "ipython3",
   "version": "3.9.12"
  }
 },
 "nbformat": 4,
 "nbformat_minor": 5
}
